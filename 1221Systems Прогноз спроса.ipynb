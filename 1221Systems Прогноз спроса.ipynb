{
 "cells": [
  {
   "cell_type": "markdown",
   "metadata": {},
   "source": [
    "Прогноз спроса.\n",
    "Тестовое задание для 1221Systems\n",
    "Работу выполнил Батутин Андрей   \n",
    "27.01.2025  "
   ]
  },
  {
   "cell_type": "markdown",
   "metadata": {},
   "source": [
    "Задание:\n",
    "Построить алгоритм прогнозирования спроса на 1 неделю вперёд, используя предоставленные данные. В качестве тестовой выборки использовать последний месяц из файла sales.csv. При решении необходимо подобрать метрику для оценки результатов."
   ]
  },
  {
   "cell_type": "markdown",
   "metadata": {},
   "source": [
    "# Импорты"
   ]
  },
  {
   "cell_type": "code",
   "execution_count": 1,
   "metadata": {},
   "outputs": [],
   "source": [
    "import numpy as np\n",
    "import pandas as pd\n",
    "import matplotlib.pyplot as plt\n",
    "from numba import njit\n",
    "from ydata_profiling import ProfileReport\n",
    "from sklearn.model_selection import TimeSeriesSplit\n",
    "from sklearn.metrics import r2_score, mean_absolute_error\n",
    "from sklearn.model_selection import train_test_split\n",
    "import catboost\n",
    "import warnings\n",
    "import optuna\n",
    "warnings.filterwarnings('ignore')\n",
    "\n",
    "\n",
    "pd.set_option('display.float_format','{:.3f}'.format) \n",
    "pd.set_option('display.max_columns', 50)\n",
    "pd.set_option('display.max_rows', 35)"
   ]
  },
  {
   "cell_type": "markdown",
   "metadata": {},
   "source": [
    "# Функции"
   ]
  },
  {
   "cell_type": "code",
   "execution_count": 2,
   "metadata": {},
   "outputs": [],
   "source": [
    "def add_weekend_and_holidays(data:pd.DataFrame, date_column='date'):\n",
    "    from workalendar.europe import Russia\n",
    "    \"\"\"\n",
    "    Добавляет признаки выходных и праздников для России.\n",
    "    \n",
    "    :param data: DataFrame с колонкой дат.\n",
    "    :param date_column: Название колонки с датами.\n",
    "    :return: DataFrame с добавленными колонками `is_weekend` и `is_holiday`.\n",
    "    \"\"\"\n",
    "    cal = Russia()\n",
    "    \n",
    "    data['is_holiday'] = data[date_column].apply(lambda x: cal.is_holiday(x))\n",
    "    data['year'] = data['date'].dt.year\n",
    "    data['month'] = data['date'].dt.month\n",
    "    data['day'] = data['date'].dt.day\n",
    "    data['day_of_week'] = data['date'].dt.dayofweek  \n",
    "    data['week_of_year'] = data['date'].dt.isocalendar().week.astype(int)\n",
    "    data['quarter'] = data['date'].dt.quarter\n",
    "    data['is_weekend'] = data['date'].dt.dayofweek > 4\n",
    "    data['is_month_start'] = data['date'].dt.is_month_start\n",
    "    data['is_month_end'] = data['date'].dt.is_month_end\n",
    "    data['season'] = data['date'].dt.month % 12 // 3 + 1  # 1-зима, 2-весна и т.д.\n",
    "    \n",
    "    return data\n",
    "\n",
    "def check_quality(data:pd.DataFrame):\n",
    "    \"\"\"\n",
    "    Функция проверяет качество данных.Используется множество раз\n",
    "    \"\"\"\n",
    "    print('кол-во пропусков',data.isna().sum().sum())\n",
    "    print('кол-во дубликатов',data.duplicated().sum())\n",
    "    print('форма данных',data.shape)\n",
    "\n",
    "def add_rolling_sum(data:pd.DataFrame, window_days:int, col_name:str):\n",
    "    \"\"\"\n",
    "    Функция подсчета суммы продаж за N дней\n",
    "    \"\"\"\n",
    "    data[col_name] = (\n",
    "        data.groupby(['item_id', 'store_id'], group_keys=False)\n",
    "        .apply(lambda group: group.rolling(\n",
    "            window=f'{window_days}D', \n",
    "            on='date', \n",
    "            closed='left'  \n",
    "        )['quantity'].sum())\n",
    "        .reset_index(drop=True)\n",
    "    )\n",
    "    return data.fillna({col_name: 0})\n",
    "def calculate_wape(y_true:pd.DataFrame, y_pred:pd.DataFrame):\n",
    "    \"\"\"\n",
    "    Метрика качества WAPE\n",
    "    \"\"\"\n",
    "    return np.sum(np.abs(y_true - y_pred)) / np.sum(np.abs(y_true))\n",
    "\n",
    "def calculate_bias(y_true:pd.DataFrame, y_pred:pd.DataFrame):\n",
    "    \"\"\"\n",
    "    Метрика качества BIAS\n",
    "    Вычисляет смещение между мат ожиданием предсказания модели и фактом\n",
    "    \"\"\"\n",
    "    return np.mean(y_pred - y_true)\n",
    "\n",
    "\n",
    "# Функция с использованием Numba для ускорения\n",
    "@njit\n",
    "def custom_rolling_sum_numba(dates:pd.Timestamp, values:pd.DataFrame, window_days:int):\n",
    "    \"\"\"\n",
    "    Кастомная функция для расчета суммы в окне из window_days дней вперед.\n",
    "    Ускорена с помощью Numba.\n",
    "    Создана для подсчета прогноза-факта на неделю вперед в тесте\n",
    "    \"\"\"\n",
    "    result = np.zeros(len(dates))\n",
    "    for i in range(len(dates)):\n",
    "        current_date = dates[i]\n",
    "        end_date = current_date + window_days\n",
    "        window_sum = 0.0\n",
    "        for j in range(i, len(dates)):\n",
    "            if dates[j] < end_date:\n",
    "                window_sum += values[j]\n",
    "            else:\n",
    "                break\n",
    "        result[i] = window_sum\n",
    "    return result\n",
    "\n",
    "def add_sum(data:pd.DataFrame, col_name:str,col_pred:str ,window_days=7):\n",
    "    \"\"\"\n",
    "    Кастомная оконная функция, группирует нужное окно,с учетом пропусков в данных\n",
    "    \"\"\"\n",
    "    data['date'] = pd.to_datetime(data['date'])\n",
    "    data = data.sort_values(by=['store_id', 'item_id', 'date'])\n",
    "    \n",
    "    # Применяем кастомный rolling для каждой группы\n",
    "    data[col_name] = (\n",
    "        data.groupby(['store_id', 'item_id'], group_keys=False)\n",
    "        .apply(lambda group: pd.Series(\n",
    "            custom_rolling_sum_numba(\n",
    "                group['date'].values.astype(np.int64) // 10**9,  \n",
    "                group[col_pred].values,                        \n",
    "                pd.Timedelta(days=window_days).value // 10**9   \n",
    "            ),\n",
    "            index=group.index\n",
    "        ))\n",
    "        .reset_index(level=0, drop=True)\n",
    "    )\n",
    "    \n",
    "    return data\n",
    "\n",
    "\n",
    "MONTHS_PREDICT = pd.DateOffset(months=1)#константа.Месяц предсказания"
   ]
  },
  {
   "cell_type": "markdown",
   "metadata": {},
   "source": [
    "# Исследовательский анализ данных"
   ]
  },
  {
   "cell_type": "markdown",
   "metadata": {},
   "source": [
    "Получена дополнительная информация о тестовом задании от Екатерины (@katesib):  \n",
    "Доля онлайн-заказов невелика, заказы формируются из остатков магазина, а не из дарксторов.  \n",
    "Таким образом, заказы можно объединить и использовать их в дальнейшем совместно."
   ]
  },
  {
   "cell_type": "code",
   "execution_count": 3,
   "metadata": {},
   "outputs": [
    {
     "data": {
      "text/plain": [
       "Index(['date', 'item_id', 'quantity', 'price_base', 'sum_total', 'store_id'], dtype='object')"
      ]
     },
     "metadata": {},
     "output_type": "display_data"
    },
    {
     "data": {
      "text/plain": [
       "Index(['date', 'item_id', 'quantity', 'price_base', 'sum_total', 'store_id'], dtype='object')"
      ]
     },
     "metadata": {},
     "output_type": "display_data"
    }
   ],
   "source": [
    "sales = pd.read_csv('sales.csv').drop('Unnamed: 0',axis=1)\n",
    "online = pd.read_csv('online.csv').drop('Unnamed: 0',axis=1)\n",
    "display(sales.columns)\n",
    "display(online.columns)"
   ]
  },
  {
   "cell_type": "markdown",
   "metadata": {},
   "source": [
    "Поскольку структура данных идентична, мы просто объединим их вертикально."
   ]
  },
  {
   "cell_type": "code",
   "execution_count": 4,
   "metadata": {},
   "outputs": [
    {
     "data": {
      "text/plain": [
       "True"
      ]
     },
     "execution_count": 4,
     "metadata": {},
     "output_type": "execute_result"
    }
   ],
   "source": [
    "len(online) + len(sales) == pd.concat([online] + [sales]).shape[0]\n"
   ]
  },
  {
   "cell_type": "code",
   "execution_count": 5,
   "metadata": {},
   "outputs": [],
   "source": [
    "sales = pd.concat([online] + [sales])"
   ]
  },
  {
   "cell_type": "code",
   "execution_count": 6,
   "metadata": {},
   "outputs": [
    {
     "name": "stdout",
     "output_type": "stream",
     "text": [
      "кол-во пропусков 0\n",
      "кол-во дубликатов 9\n",
      "форма данных (8556097, 6)\n"
     ]
    }
   ],
   "source": [
    "check_quality(sales)"
   ]
  },
  {
   "cell_type": "markdown",
   "metadata": {},
   "source": [
    "Появились дубликаты"
   ]
  },
  {
   "cell_type": "code",
   "execution_count": 7,
   "metadata": {},
   "outputs": [
    {
     "data": {
      "text/html": [
       "<div>\n",
       "<style scoped>\n",
       "    .dataframe tbody tr th:only-of-type {\n",
       "        vertical-align: middle;\n",
       "    }\n",
       "\n",
       "    .dataframe tbody tr th {\n",
       "        vertical-align: top;\n",
       "    }\n",
       "\n",
       "    .dataframe thead th {\n",
       "        text-align: right;\n",
       "    }\n",
       "</style>\n",
       "<table border=\"1\" class=\"dataframe\">\n",
       "  <thead>\n",
       "    <tr style=\"text-align: right;\">\n",
       "      <th></th>\n",
       "      <th>date</th>\n",
       "      <th>item_id</th>\n",
       "      <th>quantity</th>\n",
       "      <th>price_base</th>\n",
       "      <th>sum_total</th>\n",
       "      <th>store_id</th>\n",
       "    </tr>\n",
       "  </thead>\n",
       "  <tbody>\n",
       "    <tr>\n",
       "      <th>812683</th>\n",
       "      <td>2023-06-09</td>\n",
       "      <td>b58b26727fa4</td>\n",
       "      <td>1.000</td>\n",
       "      <td>75.900</td>\n",
       "      <td>75.900</td>\n",
       "      <td>1</td>\n",
       "    </tr>\n",
       "    <tr>\n",
       "      <th>3385183</th>\n",
       "      <td>2023-06-09</td>\n",
       "      <td>b58b26727fa4</td>\n",
       "      <td>1.000</td>\n",
       "      <td>75.900</td>\n",
       "      <td>75.900</td>\n",
       "      <td>1</td>\n",
       "    </tr>\n",
       "  </tbody>\n",
       "</table>\n",
       "</div>"
      ],
      "text/plain": [
       "               date       item_id  quantity  price_base  sum_total  store_id\n",
       "812683   2023-06-09  b58b26727fa4     1.000      75.900     75.900         1\n",
       "3385183  2023-06-09  b58b26727fa4     1.000      75.900     75.900         1"
      ]
     },
     "execution_count": 7,
     "metadata": {},
     "output_type": "execute_result"
    }
   ],
   "source": [
    "sales.loc[(sales['item_id']=='b58b26727fa4')&\n",
    "          (sales['quantity']==1)&\n",
    "          (sales['date']=='2023-06-09')]"
   ]
  },
  {
   "cell_type": "markdown",
   "metadata": {},
   "source": [
    "После слияния онлайн и офлайн данных возникло 9 дубликатов, хотя в отдельных данных их не наблюдается.  \n",
    "Вероятно, существует ошибка в процессе записи и хранения чеков. Я удалю эти дубликаты."
   ]
  },
  {
   "cell_type": "code",
   "execution_count": 8,
   "metadata": {},
   "outputs": [
    {
     "data": {
      "text/plain": [
       "(8556088, 6)"
      ]
     },
     "execution_count": 8,
     "metadata": {},
     "output_type": "execute_result"
    }
   ],
   "source": [
    "sales = sales.drop_duplicates().reset_index(drop=True)\n",
    "sales.shape\n"
   ]
  },
  {
   "cell_type": "code",
   "execution_count": 9,
   "metadata": {},
   "outputs": [
    {
     "data": {
      "text/plain": [
       "8556088"
      ]
     },
     "execution_count": 9,
     "metadata": {},
     "output_type": "execute_result"
    }
   ],
   "source": [
    "8556097 - 9"
   ]
  },
  {
   "cell_type": "code",
   "execution_count": 10,
   "metadata": {},
   "outputs": [
    {
     "data": {
      "text/html": [
       "<div>\n",
       "<style scoped>\n",
       "    .dataframe tbody tr th:only-of-type {\n",
       "        vertical-align: middle;\n",
       "    }\n",
       "\n",
       "    .dataframe tbody tr th {\n",
       "        vertical-align: top;\n",
       "    }\n",
       "\n",
       "    .dataframe thead th {\n",
       "        text-align: right;\n",
       "    }\n",
       "</style>\n",
       "<table border=\"1\" class=\"dataframe\">\n",
       "  <thead>\n",
       "    <tr style=\"text-align: right;\">\n",
       "      <th></th>\n",
       "      <th>date</th>\n",
       "      <th>item_id</th>\n",
       "      <th>quantity</th>\n",
       "      <th>price_base</th>\n",
       "      <th>sum_total</th>\n",
       "      <th>store_id</th>\n",
       "    </tr>\n",
       "  </thead>\n",
       "  <tbody>\n",
       "    <tr>\n",
       "      <th>817</th>\n",
       "      <td>2023-08-04</td>\n",
       "      <td>f0309b5a974b</td>\n",
       "      <td>2.000</td>\n",
       "      <td>51.810</td>\n",
       "      <td>103.620</td>\n",
       "      <td>1</td>\n",
       "    </tr>\n",
       "    <tr>\n",
       "      <th>1123422</th>\n",
       "      <td>2023-08-04</td>\n",
       "      <td>f0309b5a974b</td>\n",
       "      <td>1.000</td>\n",
       "      <td>59.900</td>\n",
       "      <td>59.900</td>\n",
       "      <td>1</td>\n",
       "    </tr>\n",
       "  </tbody>\n",
       "</table>\n",
       "</div>"
      ],
      "text/plain": [
       "               date       item_id  quantity  price_base  sum_total  store_id\n",
       "817      2023-08-04  f0309b5a974b     2.000      51.810    103.620         1\n",
       "1123422  2023-08-04  f0309b5a974b     1.000      59.900     59.900         1"
      ]
     },
     "execution_count": 10,
     "metadata": {},
     "output_type": "execute_result"
    }
   ],
   "source": [
    "sales.loc[(sales['date']=='2023-08-04')&(sales['item_id']=='f0309b5a974b')]"
   ]
  },
  {
   "cell_type": "markdown",
   "metadata": {},
   "source": [
    "Отметим,что данные не агрегированы до конца до 1 дня по магазину,дате  \n",
    "Проводем агрегацию  \n",
    "Дополнительным плюсом будет сокращение размерности данных на 1млн записей"
   ]
  },
  {
   "cell_type": "code",
   "execution_count": 11,
   "metadata": {},
   "outputs": [],
   "source": [
    "sales = sales.groupby(['date','item_id','store_id'])[['quantity','price_base']].agg({'quantity':'sum','price_base':'mean'}).reset_index()"
   ]
  },
  {
   "cell_type": "code",
   "execution_count": 12,
   "metadata": {},
   "outputs": [
    {
     "name": "stdout",
     "output_type": "stream",
     "text": [
      "кол-во пропусков 0\n",
      "кол-во дубликатов 0\n",
      "форма данных (7649494, 5)\n"
     ]
    }
   ],
   "source": [
    "check_quality(sales)"
   ]
  },
  {
   "cell_type": "markdown",
   "metadata": {},
   "source": [
    "Подгрузим остальные данные"
   ]
  },
  {
   "cell_type": "code",
   "execution_count": 13,
   "metadata": {},
   "outputs": [],
   "source": [
    "\n",
    "markdowns = pd.read_csv('markdowns.csv').drop('Unnamed: 0',axis=1)\n",
    "discounts_history = pd.read_csv('discounts_history.csv').drop('Unnamed: 0',axis=1)\n",
    "actual_matrix = pd.read_csv('actual_matrix.csv').drop('Unnamed: 0',axis=1)\n",
    "catalog = pd.read_csv('catalog.csv').drop('Unnamed: 0',axis=1)\n",
    "stores = pd.read_csv('stores.csv').drop('Unnamed: 0',axis=1)\n",
    "price_history = pd.read_csv('price_history.csv').drop('Unnamed: 0',axis=1) \n",
    "\n"
   ]
  },
  {
   "cell_type": "markdown",
   "metadata": {},
   "source": [
    "История цен тоже содержит дубликаты"
   ]
  },
  {
   "cell_type": "code",
   "execution_count": 14,
   "metadata": {},
   "outputs": [
    {
     "name": "stdout",
     "output_type": "stream",
     "text": [
      "кол-во пропусков 0\n",
      "кол-во дубликатов 18641\n",
      "форма данных (698626, 5)\n"
     ]
    },
    {
     "data": {
      "text/html": [
       "<div>\n",
       "<style scoped>\n",
       "    .dataframe tbody tr th:only-of-type {\n",
       "        vertical-align: middle;\n",
       "    }\n",
       "\n",
       "    .dataframe tbody tr th {\n",
       "        vertical-align: top;\n",
       "    }\n",
       "\n",
       "    .dataframe thead th {\n",
       "        text-align: right;\n",
       "    }\n",
       "</style>\n",
       "<table border=\"1\" class=\"dataframe\">\n",
       "  <thead>\n",
       "    <tr style=\"text-align: right;\">\n",
       "      <th></th>\n",
       "      <th>date</th>\n",
       "      <th>item_id</th>\n",
       "      <th>price</th>\n",
       "      <th>code</th>\n",
       "      <th>store_id</th>\n",
       "    </tr>\n",
       "  </thead>\n",
       "  <tbody>\n",
       "    <tr>\n",
       "      <th>6712</th>\n",
       "      <td>2023-08-16</td>\n",
       "      <td>c0a8dcca7cdb</td>\n",
       "      <td>229.900</td>\n",
       "      <td>11</td>\n",
       "      <td>1</td>\n",
       "    </tr>\n",
       "    <tr>\n",
       "      <th>6713</th>\n",
       "      <td>2023-08-16</td>\n",
       "      <td>c0a8dcca7cdb</td>\n",
       "      <td>229.900</td>\n",
       "      <td>11</td>\n",
       "      <td>1</td>\n",
       "    </tr>\n",
       "  </tbody>\n",
       "</table>\n",
       "</div>"
      ],
      "text/plain": [
       "            date       item_id   price  code  store_id\n",
       "6712  2023-08-16  c0a8dcca7cdb 229.900    11         1\n",
       "6713  2023-08-16  c0a8dcca7cdb 229.900    11         1"
      ]
     },
     "execution_count": 14,
     "metadata": {},
     "output_type": "execute_result"
    }
   ],
   "source": [
    "check_quality(price_history)\n",
    "price_history.loc[(price_history['item_id']=='c0a8dcca7cdb')&(price_history['price']==229.9)&(price_history['date']=='2023-08-16')]\n"
   ]
  },
  {
   "cell_type": "markdown",
   "metadata": {},
   "source": [
    "должно остатся строк"
   ]
  },
  {
   "cell_type": "code",
   "execution_count": 15,
   "metadata": {},
   "outputs": [
    {
     "data": {
      "text/plain": [
       "679985"
      ]
     },
     "execution_count": 15,
     "metadata": {},
     "output_type": "execute_result"
    }
   ],
   "source": [
    "698626 - 18641"
   ]
  },
  {
   "cell_type": "code",
   "execution_count": 16,
   "metadata": {},
   "outputs": [
    {
     "data": {
      "text/plain": [
       "(679985, 5)"
      ]
     },
     "execution_count": 16,
     "metadata": {},
     "output_type": "execute_result"
    }
   ],
   "source": [
    "price_history = price_history.drop_duplicates().reset_index(drop=True)\n",
    "price_history.shape"
   ]
  },
  {
   "cell_type": "markdown",
   "metadata": {},
   "source": [
    "дубликаты удалены верно"
   ]
  },
  {
   "cell_type": "markdown",
   "metadata": {},
   "source": [
    "Изучим данные с помощью pandas profiling.  \n",
    "В этой секции не будет графиков.\n",
    "Я изучу все таблицы по колоночно и сделаю соответствующие записи  \n",
    "Запишу сразу то,что имеет отношение к подготовке данных."
   ]
  },
  {
   "cell_type": "code",
   "execution_count": 17,
   "metadata": {},
   "outputs": [
    {
     "data": {
      "application/vnd.jupyter.widget-view+json": {
       "model_id": "806c902288dc4c619d1d48062946f55e",
       "version_major": 2,
       "version_minor": 0
      },
      "text/plain": [
       "Summarize dataset:   0%|          | 0/5 [00:00<?, ?it/s]"
      ]
     },
     "metadata": {},
     "output_type": "display_data"
    },
    {
     "data": {
      "application/vnd.jupyter.widget-view+json": {
       "model_id": "c53b778e88664724b1c59db281fd1581",
       "version_major": 2,
       "version_minor": 0
      },
      "text/plain": [
       "Generate report structure:   0%|          | 0/1 [00:00<?, ?it/s]"
      ]
     },
     "metadata": {},
     "output_type": "display_data"
    },
    {
     "data": {
      "application/vnd.jupyter.widget-view+json": {
       "model_id": "2da6b9b603e545b7972c6ce8252870c3",
       "version_major": 2,
       "version_minor": 0
      },
      "text/plain": [
       "Render widgets:   0%|          | 0/1 [00:00<?, ?it/s]"
      ]
     },
     "metadata": {},
     "output_type": "display_data"
    },
    {
     "data": {
      "application/vnd.jupyter.widget-view+json": {
       "model_id": "fd2091cda1db45a082c1cefc2e39b920",
       "version_major": 2,
       "version_minor": 0
      },
      "text/plain": [
       "VBox(children=(Tab(children=(Tab(children=(GridBox(children=(VBox(children=(GridspecLayout(children=(HTML(valu…"
      ]
     },
     "metadata": {},
     "output_type": "display_data"
    }
   ],
   "source": [
    "ProfileReport(sales).to_widgets()"
   ]
  },
  {
   "cell_type": "markdown",
   "metadata": {},
   "source": [
    "## Выводы по исследовательскому анализу данных,на что обратить внимание при подготовке данных"
   ]
  },
  {
   "cell_type": "markdown",
   "metadata": {},
   "source": [
    "\n",
    "\n",
    "sales,online - продажи:  \n",
    "- данные за 2 года продаж, 4 магазина\n",
    "- Высокая корреляция между  price_base , sum_total \n",
    "- Сильно скошенные распределения влево у quantity,sum_total  \n",
    "- Отрицательные значения в quantity , price. Это могут быть возвраты товаров покупателей\n",
    "-  Выбросы в максимальх значениях quantity , price  \n",
    "\n",
    "price_history  - история цен:\n",
    "- price содержит 0 и макс цена 118496741\n",
    "- price становится 0 по 19 разным type code,врядли это списания для нужд магазинов\n",
    "- price  0 в price history 60421 / 679985 случаев.\n",
    "- price 0 был для 20к товаров из 220к каталога\n",
    "\n",
    "\n",
    "\n",
    "markdowns - скидки:  \n",
    "- дубликаты 268\n",
    " - normal_price сильно коррелирует с price\n",
    "- normal_price содержит 0\n",
    "- скидки не для всех магазинов\n",
    "\n",
    "discounts_history - история скидок:  \n",
    "- с 2022-08-28 по 2045-12-31 даты(оверал)\n",
    "- имеются пропуски в колонке promo_type_code\n",
    "- сильная корреляции  между  sale_price_before_promo и sale_price_time_promo\n",
    "- sale_price_before_promo содержит 0 и аномалии по цене до 17к\n",
    "- sale_price_time_promo содержит 0 и аномалии по цене до 16к\n",
    "- зачем нужен  promo_type_code \n",
    "- странные значения number_disc_day 8к дней  \n",
    "\n",
    "actual_matrix - Актуальная матрица:  \n",
    "- Даты  Minimum 2019-10-17 00:00:00 Maximum 2024-09-26\n",
    "\n",
    "\n",
    "catalog - каталог продукции и ее характеристики:\n",
    "- Weight_netto в целом сильно коррелирует с Weight_volume и fattnes\n",
    "- item_type имеет  (80,2%) пропущенных значений.\n",
    "- Weight_volume имеет  (62,3%) пропущенных значений, отрицательные значения\n",
    "- Weight_netto имеет  (77,7%) пропущенных значений\n",
    "- fatness имеет  (96,7%) пропущенных значений\n",
    "- Weight_volume сильно искажен \n",
    "- Weight_netto сильно асимметричен  \n",
    "\n",
    "stores - магазины:\n",
    "- заметок нет\n"
   ]
  },
  {
   "cell_type": "markdown",
   "metadata": {},
   "source": [
    "# Подготовка данных"
   ]
  },
  {
   "cell_type": "markdown",
   "metadata": {},
   "source": [
    "В этой секции описываю то,что было сделано итого.  \n",
    "Внутри каждой ячейки решение и рассуждение"
   ]
  },
  {
   "cell_type": "markdown",
   "metadata": {},
   "source": [
    "## Таблица sales"
   ]
  },
  {
   "cell_type": "markdown",
   "metadata": {},
   "source": [
    "sales:\n",
    "- удалим все цены 0\n",
    "- удалим sum_total,из-за высокой корреляции с price_base\n",
    "- удалим отрицательные кол-ва покупок(возвраты покупатей.Всего 1к строк)\n",
    "- удалять,изменять значения price_base по максимальному значению не будем.  \n",
    "Так как все \"аномальные\" значения цен пренадлежат небольшой группе товаров и она является их реальной стоимостью,а не аномалией в данных\n",
    "- удалять,изменять значения quantity по максимальному значению не будем.  \n",
    "Так как все \"аномальные\" значения цен пренадлежат товарам с разной мерностью измерения,либо пакетам"
   ]
  },
  {
   "cell_type": "code",
   "execution_count": 18,
   "metadata": {},
   "outputs": [
    {
     "name": "stdout",
     "output_type": "stream",
     "text": [
      "цены <= 0 занимают  0.1 % строк\n",
      "quantity <= 0 занимают  0.01 % строк\n"
     ]
    }
   ],
   "source": [
    "print('цены <= 0 занимают ',np.round(sales.loc[sales['price_base']<=0].shape[0] / len(sales) * 100,2),'%','строк')\n",
    "sales = sales.loc[sales['price_base']>0].reset_index(drop=True)\n",
    "print('quantity <= 0 занимают ',np.round(sales.loc[sales['quantity']<0].shape[0] / len(sales) * 100,2),'%','строк')\n",
    "sales = sales.loc[sales['quantity']>0].reset_index(drop=True)"
   ]
  },
  {
   "cell_type": "markdown",
   "metadata": {},
   "source": [
    "Можно удалить смело такие некачественные данные.  \n",
    "Их не так много"
   ]
  },
  {
   "cell_type": "code",
   "execution_count": 19,
   "metadata": {},
   "outputs": [
    {
     "data": {
      "text/plain": [
       "count   7640687.000\n",
       "mean        203.347\n",
       "std         331.374\n",
       "min           0.010\n",
       "25%          59.900\n",
       "50%         109.000\n",
       "75%         199.900\n",
       "max       28999.900\n",
       "Name: price_base, dtype: float64"
      ]
     },
     "execution_count": 19,
     "metadata": {},
     "output_type": "execute_result"
    }
   ],
   "source": [
    "sales.price_base.describe()"
   ]
  },
  {
   "cell_type": "code",
   "execution_count": 20,
   "metadata": {},
   "outputs": [
    {
     "data": {
      "text/plain": [
       "item_id\n",
       "33dd4df7022d    16\n",
       "Name: count, dtype: int64"
      ]
     },
     "execution_count": 20,
     "metadata": {},
     "output_type": "execute_result"
    }
   ],
   "source": [
    "sales.loc[sales['price_base']>20000]['item_id'].value_counts()"
   ]
  },
  {
   "cell_type": "markdown",
   "metadata": {},
   "source": [
    "Большие цены не являются аномалиями сбора данных.Это явно дорогой товар сам по себе.Нормальный коньяк за 20к"
   ]
  },
  {
   "cell_type": "code",
   "execution_count": 21,
   "metadata": {},
   "outputs": [
    {
     "data": {
      "text/html": [
       "<div>\n",
       "<style scoped>\n",
       "    .dataframe tbody tr th:only-of-type {\n",
       "        vertical-align: middle;\n",
       "    }\n",
       "\n",
       "    .dataframe tbody tr th {\n",
       "        vertical-align: top;\n",
       "    }\n",
       "\n",
       "    .dataframe thead th {\n",
       "        text-align: right;\n",
       "    }\n",
       "</style>\n",
       "<table border=\"1\" class=\"dataframe\">\n",
       "  <thead>\n",
       "    <tr style=\"text-align: right;\">\n",
       "      <th></th>\n",
       "      <th>item_id</th>\n",
       "      <th>dept_name</th>\n",
       "      <th>class_name</th>\n",
       "      <th>subclass_name</th>\n",
       "      <th>item_type</th>\n",
       "      <th>weight_volume</th>\n",
       "      <th>weight_netto</th>\n",
       "      <th>fatness</th>\n",
       "    </tr>\n",
       "  </thead>\n",
       "  <tbody>\n",
       "    <tr>\n",
       "      <th>25729</th>\n",
       "      <td>33dd4df7022d</td>\n",
       "      <td>КОНЬЯК</td>\n",
       "      <td>ИМПОРТ</td>\n",
       "      <td>КОНЬЯК</td>\n",
       "      <td>Коньяк</td>\n",
       "      <td>0.700</td>\n",
       "      <td>0.700</td>\n",
       "      <td>NaN</td>\n",
       "    </tr>\n",
       "  </tbody>\n",
       "</table>\n",
       "</div>"
      ],
      "text/plain": [
       "            item_id dept_name class_name subclass_name item_type  \\\n",
       "25729  33dd4df7022d    КОНЬЯК     ИМПОРТ        КОНЬЯК    Коньяк   \n",
       "\n",
       "       weight_volume  weight_netto  fatness  \n",
       "25729          0.700         0.700      NaN  "
      ]
     },
     "execution_count": 21,
     "metadata": {},
     "output_type": "execute_result"
    }
   ],
   "source": [
    "catalog.loc[catalog['item_id']=='33dd4df7022d']"
   ]
  },
  {
   "cell_type": "code",
   "execution_count": 22,
   "metadata": {},
   "outputs": [
    {
     "data": {
      "text/plain": [
       "count   7640687.000\n",
       "mean          5.812\n",
       "std          27.568\n",
       "min           0.002\n",
       "25%           1.000\n",
       "50%           2.000\n",
       "75%           5.000\n",
       "max        5023.000\n",
       "Name: quantity, dtype: float64"
      ]
     },
     "execution_count": 22,
     "metadata": {},
     "output_type": "execute_result"
    }
   ],
   "source": [
    "sales.quantity.describe()"
   ]
  },
  {
   "cell_type": "code",
   "execution_count": 23,
   "metadata": {},
   "outputs": [
    {
     "data": {
      "text/html": [
       "<div>\n",
       "<style scoped>\n",
       "    .dataframe tbody tr th:only-of-type {\n",
       "        vertical-align: middle;\n",
       "    }\n",
       "\n",
       "    .dataframe tbody tr th {\n",
       "        vertical-align: top;\n",
       "    }\n",
       "\n",
       "    .dataframe thead th {\n",
       "        text-align: right;\n",
       "    }\n",
       "</style>\n",
       "<table border=\"1\" class=\"dataframe\">\n",
       "  <thead>\n",
       "    <tr style=\"text-align: right;\">\n",
       "      <th></th>\n",
       "      <th>date</th>\n",
       "      <th>item_id</th>\n",
       "      <th>store_id</th>\n",
       "      <th>quantity</th>\n",
       "      <th>price_base</th>\n",
       "    </tr>\n",
       "  </thead>\n",
       "  <tbody>\n",
       "    <tr>\n",
       "      <th>631551</th>\n",
       "      <td>2022-11-19</td>\n",
       "      <td>b0d24502fb66</td>\n",
       "      <td>1</td>\n",
       "      <td>4656.000</td>\n",
       "      <td>6.970</td>\n",
       "    </tr>\n",
       "    <tr>\n",
       "      <th>944568</th>\n",
       "      <td>2022-12-29</td>\n",
       "      <td>b0d24502fb66</td>\n",
       "      <td>1</td>\n",
       "      <td>3008.000</td>\n",
       "      <td>6.890</td>\n",
       "    </tr>\n",
       "    <tr>\n",
       "      <th>954310</th>\n",
       "      <td>2022-12-30</td>\n",
       "      <td>b0d24502fb66</td>\n",
       "      <td>1</td>\n",
       "      <td>4524.000</td>\n",
       "      <td>6.920</td>\n",
       "    </tr>\n",
       "    <tr>\n",
       "      <th>963443</th>\n",
       "      <td>2022-12-31</td>\n",
       "      <td>b0d24502fb66</td>\n",
       "      <td>1</td>\n",
       "      <td>3907.000</td>\n",
       "      <td>6.920</td>\n",
       "    </tr>\n",
       "    <tr>\n",
       "      <th>1267315</th>\n",
       "      <td>2023-02-10</td>\n",
       "      <td>6d284b4e9982</td>\n",
       "      <td>1</td>\n",
       "      <td>4465.000</td>\n",
       "      <td>51.535</td>\n",
       "    </tr>\n",
       "  </tbody>\n",
       "</table>\n",
       "</div>"
      ],
      "text/plain": [
       "               date       item_id  store_id  quantity  price_base\n",
       "631551   2022-11-19  b0d24502fb66         1  4656.000       6.970\n",
       "944568   2022-12-29  b0d24502fb66         1  3008.000       6.890\n",
       "954310   2022-12-30  b0d24502fb66         1  4524.000       6.920\n",
       "963443   2022-12-31  b0d24502fb66         1  3907.000       6.920\n",
       "1267315  2023-02-10  6d284b4e9982         1  4465.000      51.535"
      ]
     },
     "execution_count": 23,
     "metadata": {},
     "output_type": "execute_result"
    }
   ],
   "source": [
    "sales.loc[sales['quantity']>3000].head()"
   ]
  },
  {
   "cell_type": "code",
   "execution_count": 24,
   "metadata": {},
   "outputs": [
    {
     "data": {
      "text/html": [
       "<div>\n",
       "<style scoped>\n",
       "    .dataframe tbody tr th:only-of-type {\n",
       "        vertical-align: middle;\n",
       "    }\n",
       "\n",
       "    .dataframe tbody tr th {\n",
       "        vertical-align: top;\n",
       "    }\n",
       "\n",
       "    .dataframe thead th {\n",
       "        text-align: right;\n",
       "    }\n",
       "</style>\n",
       "<table border=\"1\" class=\"dataframe\">\n",
       "  <thead>\n",
       "    <tr style=\"text-align: right;\">\n",
       "      <th></th>\n",
       "      <th>item_id</th>\n",
       "      <th>dept_name</th>\n",
       "      <th>class_name</th>\n",
       "      <th>subclass_name</th>\n",
       "      <th>item_type</th>\n",
       "      <th>weight_volume</th>\n",
       "      <th>weight_netto</th>\n",
       "      <th>fatness</th>\n",
       "    </tr>\n",
       "  </thead>\n",
       "  <tbody>\n",
       "    <tr>\n",
       "      <th>48581</th>\n",
       "      <td>b0d24502fb66</td>\n",
       "      <td>ВСПОМОГАТЕЛЬНАЯ ГРУППА</td>\n",
       "      <td>ПЛАТНЫЕ ПАКЕТЫ</td>\n",
       "      <td>ПЛАТНЫЕ ПАКЕТЫ</td>\n",
       "      <td>Упаковочный Материал</td>\n",
       "      <td>NaN</td>\n",
       "      <td>NaN</td>\n",
       "      <td>NaN</td>\n",
       "    </tr>\n",
       "  </tbody>\n",
       "</table>\n",
       "</div>"
      ],
      "text/plain": [
       "            item_id               dept_name      class_name   subclass_name  \\\n",
       "48581  b0d24502fb66  ВСПОМОГАТЕЛЬНАЯ ГРУППА  ПЛАТНЫЕ ПАКЕТЫ  ПЛАТНЫЕ ПАКЕТЫ   \n",
       "\n",
       "                  item_type  weight_volume  weight_netto  fatness  \n",
       "48581  Упаковочный Материал            NaN           NaN      NaN  "
      ]
     },
     "metadata": {},
     "output_type": "display_data"
    },
    {
     "data": {
      "text/html": [
       "<div>\n",
       "<style scoped>\n",
       "    .dataframe tbody tr th:only-of-type {\n",
       "        vertical-align: middle;\n",
       "    }\n",
       "\n",
       "    .dataframe tbody tr th {\n",
       "        vertical-align: top;\n",
       "    }\n",
       "\n",
       "    .dataframe thead th {\n",
       "        text-align: right;\n",
       "    }\n",
       "</style>\n",
       "<table border=\"1\" class=\"dataframe\">\n",
       "  <thead>\n",
       "    <tr style=\"text-align: right;\">\n",
       "      <th></th>\n",
       "      <th>item_id</th>\n",
       "      <th>dept_name</th>\n",
       "      <th>class_name</th>\n",
       "      <th>subclass_name</th>\n",
       "      <th>item_type</th>\n",
       "      <th>weight_volume</th>\n",
       "      <th>weight_netto</th>\n",
       "      <th>fatness</th>\n",
       "    </tr>\n",
       "  </thead>\n",
       "  <tbody>\n",
       "    <tr>\n",
       "      <th>175220</th>\n",
       "      <td>6d284b4e9982</td>\n",
       "      <td>САХАР</td>\n",
       "      <td>САХАР-ПЕСОК</td>\n",
       "      <td>РАФИНИРОВАННЫЙ</td>\n",
       "      <td>Белый</td>\n",
       "      <td>1.000</td>\n",
       "      <td>1.000</td>\n",
       "      <td>NaN</td>\n",
       "    </tr>\n",
       "  </tbody>\n",
       "</table>\n",
       "</div>"
      ],
      "text/plain": [
       "             item_id dept_name   class_name   subclass_name item_type  \\\n",
       "175220  6d284b4e9982     САХАР  САХАР-ПЕСОК  РАФИНИРОВАННЫЙ     Белый   \n",
       "\n",
       "        weight_volume  weight_netto  fatness  \n",
       "175220          1.000         1.000      NaN  "
      ]
     },
     "metadata": {},
     "output_type": "display_data"
    }
   ],
   "source": [
    "display(catalog.loc[catalog['item_id']=='b0d24502fb66'])\n",
    "display(catalog.loc[catalog['item_id']=='6d284b4e9982'])"
   ]
  },
  {
   "cell_type": "markdown",
   "metadata": {},
   "source": [
    "с кол-во точно так же.  \n",
    "Продажи пакетов агрегируются.  \n",
    "Плюс у нас могут быть разные формы измерений(грам,шт,килограмм)\n",
    "Не буду вырезать.  \n",
    "Таблица sales готова"
   ]
  },
  {
   "cell_type": "markdown",
   "metadata": {},
   "source": [
    "## Таблица price_history"
   ]
  },
  {
   "cell_type": "markdown",
   "metadata": {},
   "source": [
    "price_history:\n",
    "- удалим цены 0 (10% данных)\n",
    "- удалим колонку code\n",
    "- удалим артикулы,которых нет в sales\n",
    "- удалим выброс с ценой 15690156\n"
   ]
  },
  {
   "cell_type": "code",
   "execution_count": 25,
   "metadata": {},
   "outputs": [],
   "source": [
    "price_history = price_history.loc[price_history['price']>0].reset_index(drop=True)\n",
    "price_history = price_history.drop('code',axis=1)\n",
    "price_history = price_history.loc[price_history['item_id'].isin(sales['item_id'])]\n",
    "\n"
   ]
  },
  {
   "cell_type": "code",
   "execution_count": 26,
   "metadata": {},
   "outputs": [
    {
     "data": {
      "text/plain": [
       "count     598649.000\n",
       "mean         359.980\n",
       "std        20286.094\n",
       "min            0.010\n",
       "25%           85.900\n",
       "50%          170.000\n",
       "75%          399.000\n",
       "max     15690156.400\n",
       "Name: price, dtype: float64"
      ]
     },
     "execution_count": 26,
     "metadata": {},
     "output_type": "execute_result"
    }
   ],
   "source": [
    "price_history.price.describe()"
   ]
  },
  {
   "cell_type": "code",
   "execution_count": 27,
   "metadata": {},
   "outputs": [
    {
     "data": {
      "text/html": [
       "<div>\n",
       "<style scoped>\n",
       "    .dataframe tbody tr th:only-of-type {\n",
       "        vertical-align: middle;\n",
       "    }\n",
       "\n",
       "    .dataframe tbody tr th {\n",
       "        vertical-align: top;\n",
       "    }\n",
       "\n",
       "    .dataframe thead th {\n",
       "        text-align: right;\n",
       "    }\n",
       "</style>\n",
       "<table border=\"1\" class=\"dataframe\">\n",
       "  <thead>\n",
       "    <tr style=\"text-align: right;\">\n",
       "      <th></th>\n",
       "      <th>date</th>\n",
       "      <th>item_id</th>\n",
       "      <th>price</th>\n",
       "      <th>store_id</th>\n",
       "    </tr>\n",
       "  </thead>\n",
       "  <tbody>\n",
       "    <tr>\n",
       "      <th>387990</th>\n",
       "      <td>2022-09-23</td>\n",
       "      <td>75fe6dc46c61</td>\n",
       "      <td>15690156.400</td>\n",
       "      <td>2</td>\n",
       "    </tr>\n",
       "    <tr>\n",
       "      <th>484570</th>\n",
       "      <td>2024-06-28</td>\n",
       "      <td>33dd4df7022d</td>\n",
       "      <td>26490.000</td>\n",
       "      <td>3</td>\n",
       "    </tr>\n",
       "    <tr>\n",
       "      <th>122450</th>\n",
       "      <td>2024-06-28</td>\n",
       "      <td>33dd4df7022d</td>\n",
       "      <td>26490.000</td>\n",
       "      <td>1</td>\n",
       "    </tr>\n",
       "    <tr>\n",
       "      <th>364348</th>\n",
       "      <td>2024-06-28</td>\n",
       "      <td>33dd4df7022d</td>\n",
       "      <td>26490.000</td>\n",
       "      <td>2</td>\n",
       "    </tr>\n",
       "    <tr>\n",
       "      <th>361790</th>\n",
       "      <td>2024-06-11</td>\n",
       "      <td>33dd4df7022d</td>\n",
       "      <td>25990.000</td>\n",
       "      <td>2</td>\n",
       "    </tr>\n",
       "    <tr>\n",
       "      <th>...</th>\n",
       "      <td>...</td>\n",
       "      <td>...</td>\n",
       "      <td>...</td>\n",
       "      <td>...</td>\n",
       "    </tr>\n",
       "    <tr>\n",
       "      <th>236105</th>\n",
       "      <td>2023-03-10</td>\n",
       "      <td>762109f0867a</td>\n",
       "      <td>0.010</td>\n",
       "      <td>1</td>\n",
       "    </tr>\n",
       "    <tr>\n",
       "      <th>489586</th>\n",
       "      <td>2024-08-30</td>\n",
       "      <td>19fb164683ba</td>\n",
       "      <td>0.010</td>\n",
       "      <td>3</td>\n",
       "    </tr>\n",
       "    <tr>\n",
       "      <th>489588</th>\n",
       "      <td>2024-08-30</td>\n",
       "      <td>3fae97cfe183</td>\n",
       "      <td>0.010</td>\n",
       "      <td>3</td>\n",
       "    </tr>\n",
       "    <tr>\n",
       "      <th>489589</th>\n",
       "      <td>2024-08-30</td>\n",
       "      <td>6c1060e74964</td>\n",
       "      <td>0.010</td>\n",
       "      <td>3</td>\n",
       "    </tr>\n",
       "    <tr>\n",
       "      <th>416069</th>\n",
       "      <td>2023-01-31</td>\n",
       "      <td>cb2c753ba7b5</td>\n",
       "      <td>0.010</td>\n",
       "      <td>2</td>\n",
       "    </tr>\n",
       "  </tbody>\n",
       "</table>\n",
       "<p>598649 rows × 4 columns</p>\n",
       "</div>"
      ],
      "text/plain": [
       "              date       item_id        price  store_id\n",
       "387990  2022-09-23  75fe6dc46c61 15690156.400         2\n",
       "484570  2024-06-28  33dd4df7022d    26490.000         3\n",
       "122450  2024-06-28  33dd4df7022d    26490.000         1\n",
       "364348  2024-06-28  33dd4df7022d    26490.000         2\n",
       "361790  2024-06-11  33dd4df7022d    25990.000         2\n",
       "...            ...           ...          ...       ...\n",
       "236105  2023-03-10  762109f0867a        0.010         1\n",
       "489586  2024-08-30  19fb164683ba        0.010         3\n",
       "489588  2024-08-30  3fae97cfe183        0.010         3\n",
       "489589  2024-08-30  6c1060e74964        0.010         3\n",
       "416069  2023-01-31  cb2c753ba7b5        0.010         2\n",
       "\n",
       "[598649 rows x 4 columns]"
      ]
     },
     "execution_count": 27,
     "metadata": {},
     "output_type": "execute_result"
    }
   ],
   "source": [
    "price_history.sort_values('price',ascending=False)"
   ]
  },
  {
   "cell_type": "markdown",
   "metadata": {},
   "source": [
    "цена 26490 похожа на ноньяки что я видел сверху,а 15690156 нет.  \n",
    "Эту строку удалю.  \n",
    "Таблица price_history готова"
   ]
  },
  {
   "cell_type": "code",
   "execution_count": 28,
   "metadata": {},
   "outputs": [],
   "source": [
    "price_history = price_history.drop(index=[387990]).reset_index(drop=True)"
   ]
  },
  {
   "cell_type": "code",
   "execution_count": 29,
   "metadata": {},
   "outputs": [
    {
     "data": {
      "text/plain": [
       "count   598648.000\n",
       "mean       333.771\n",
       "std        561.658\n",
       "min          0.010\n",
       "25%         85.900\n",
       "50%        170.000\n",
       "75%        399.000\n",
       "max      26490.000\n",
       "Name: price, dtype: float64"
      ]
     },
     "execution_count": 29,
     "metadata": {},
     "output_type": "execute_result"
    }
   ],
   "source": [
    "price_history.price.describe()"
   ]
  },
  {
   "cell_type": "markdown",
   "metadata": {},
   "source": [
    "## Таблица markdown"
   ]
  },
  {
   "cell_type": "markdown",
   "metadata": {},
   "source": [
    "markdowns:\n",
    "- убедился в том,что таблица несодержит не нужных нам артикулов и дат\n",
    "- удалил normal price 0\n",
    "- удалил дубликаты\n"
   ]
  },
  {
   "cell_type": "code",
   "execution_count": 30,
   "metadata": {},
   "outputs": [
    {
     "data": {
      "text/html": [
       "<div>\n",
       "<style scoped>\n",
       "    .dataframe tbody tr th:only-of-type {\n",
       "        vertical-align: middle;\n",
       "    }\n",
       "\n",
       "    .dataframe tbody tr th {\n",
       "        vertical-align: top;\n",
       "    }\n",
       "\n",
       "    .dataframe thead th {\n",
       "        text-align: right;\n",
       "    }\n",
       "</style>\n",
       "<table border=\"1\" class=\"dataframe\">\n",
       "  <thead>\n",
       "    <tr style=\"text-align: right;\">\n",
       "      <th></th>\n",
       "      <th>date</th>\n",
       "      <th>item_id</th>\n",
       "      <th>normal_price</th>\n",
       "      <th>price</th>\n",
       "      <th>quantity</th>\n",
       "      <th>store_id</th>\n",
       "    </tr>\n",
       "  </thead>\n",
       "  <tbody>\n",
       "  </tbody>\n",
       "</table>\n",
       "</div>"
      ],
      "text/plain": [
       "Empty DataFrame\n",
       "Columns: [date, item_id, normal_price, price, quantity, store_id]\n",
       "Index: []"
      ]
     },
     "execution_count": 30,
     "metadata": {},
     "output_type": "execute_result"
    }
   ],
   "source": [
    "\n",
    "markdowns.loc[~markdowns['item_id'].isin(sales['item_id'])]"
   ]
  },
  {
   "cell_type": "markdown",
   "metadata": {},
   "source": [
    "Присутствуют только те артикулы,что нужны"
   ]
  },
  {
   "cell_type": "code",
   "execution_count": 31,
   "metadata": {},
   "outputs": [
    {
     "data": {
      "text/plain": [
       "('2022-08-28', '2024-09-26')"
      ]
     },
     "execution_count": 31,
     "metadata": {},
     "output_type": "execute_result"
    }
   ],
   "source": [
    "sales.date.min() , sales.date.max() "
   ]
  },
  {
   "cell_type": "code",
   "execution_count": 32,
   "metadata": {},
   "outputs": [
    {
     "data": {
      "text/plain": [
       "('2022-08-28', '2024-09-26')"
      ]
     },
     "execution_count": 32,
     "metadata": {},
     "output_type": "execute_result"
    }
   ],
   "source": [
    "markdowns.date.min() , markdowns.date.max()"
   ]
  },
  {
   "cell_type": "markdown",
   "metadata": {},
   "source": [
    "Лишних дат нет,для теста имеются нужные скидки(промо)"
   ]
  },
  {
   "cell_type": "markdown",
   "metadata": {},
   "source": [
    "нужна ли информация - продано со скидкой?"
   ]
  },
  {
   "cell_type": "code",
   "execution_count": 33,
   "metadata": {},
   "outputs": [
    {
     "data": {
      "text/plain": [
       "count   8979.000\n",
       "mean     358.353\n",
       "std      220.119\n",
       "min        0.000\n",
       "25%      189.000\n",
       "50%      239.000\n",
       "75%      549.000\n",
       "max     2790.000\n",
       "Name: normal_price, dtype: float64"
      ]
     },
     "execution_count": 33,
     "metadata": {},
     "output_type": "execute_result"
    }
   ],
   "source": [
    "markdowns.normal_price.describe()"
   ]
  },
  {
   "cell_type": "code",
   "execution_count": 34,
   "metadata": {},
   "outputs": [
    {
     "data": {
      "text/html": [
       "<div>\n",
       "<style scoped>\n",
       "    .dataframe tbody tr th:only-of-type {\n",
       "        vertical-align: middle;\n",
       "    }\n",
       "\n",
       "    .dataframe tbody tr th {\n",
       "        vertical-align: top;\n",
       "    }\n",
       "\n",
       "    .dataframe thead th {\n",
       "        text-align: right;\n",
       "    }\n",
       "</style>\n",
       "<table border=\"1\" class=\"dataframe\">\n",
       "  <thead>\n",
       "    <tr style=\"text-align: right;\">\n",
       "      <th></th>\n",
       "      <th>date</th>\n",
       "      <th>item_id</th>\n",
       "      <th>normal_price</th>\n",
       "      <th>price</th>\n",
       "      <th>quantity</th>\n",
       "      <th>store_id</th>\n",
       "    </tr>\n",
       "  </thead>\n",
       "  <tbody>\n",
       "    <tr>\n",
       "      <th>4889</th>\n",
       "      <td>2024-05-20</td>\n",
       "      <td>8b7268eb2b33</td>\n",
       "      <td>0.000</td>\n",
       "      <td>299.100</td>\n",
       "      <td>2.000</td>\n",
       "      <td>2</td>\n",
       "    </tr>\n",
       "    <tr>\n",
       "      <th>8262</th>\n",
       "      <td>2024-05-20</td>\n",
       "      <td>8b7268eb2b33</td>\n",
       "      <td>0.000</td>\n",
       "      <td>349.000</td>\n",
       "      <td>1.000</td>\n",
       "      <td>4</td>\n",
       "    </tr>\n",
       "  </tbody>\n",
       "</table>\n",
       "</div>"
      ],
      "text/plain": [
       "            date       item_id  normal_price   price  quantity  store_id\n",
       "4889  2024-05-20  8b7268eb2b33         0.000 299.100     2.000         2\n",
       "8262  2024-05-20  8b7268eb2b33         0.000 349.000     1.000         4"
      ]
     },
     "execution_count": 34,
     "metadata": {},
     "output_type": "execute_result"
    }
   ],
   "source": [
    "markdowns.loc[markdowns['normal_price']==0]"
   ]
  },
  {
   "cell_type": "markdown",
   "metadata": {},
   "source": [
    "Удалим цену normal_price == 0"
   ]
  },
  {
   "cell_type": "code",
   "execution_count": 35,
   "metadata": {},
   "outputs": [],
   "source": [
    "markdowns = markdowns.drop(index=[4816,7994]).reset_index(drop=True)"
   ]
  },
  {
   "cell_type": "code",
   "execution_count": 36,
   "metadata": {},
   "outputs": [
    {
     "data": {
      "text/plain": [
       "count   8977.000\n",
       "mean     213.294\n",
       "std      141.802\n",
       "min       12.500\n",
       "25%      100.000\n",
       "50%      150.000\n",
       "75%      330.000\n",
       "max     1380.500\n",
       "Name: price, dtype: float64"
      ]
     },
     "execution_count": 36,
     "metadata": {},
     "output_type": "execute_result"
    }
   ],
   "source": [
    "markdowns.price.describe()"
   ]
  },
  {
   "cell_type": "code",
   "execution_count": 37,
   "metadata": {},
   "outputs": [
    {
     "data": {
      "text/plain": [
       "count   8977.000\n",
       "mean       3.071\n",
       "std        4.237\n",
       "min        0.115\n",
       "25%        1.000\n",
       "50%        2.000\n",
       "75%        4.000\n",
       "max      120.000\n",
       "Name: quantity, dtype: float64"
      ]
     },
     "execution_count": 37,
     "metadata": {},
     "output_type": "execute_result"
    }
   ],
   "source": [
    "markdowns.quantity.describe()"
   ]
  },
  {
   "cell_type": "code",
   "execution_count": 38,
   "metadata": {},
   "outputs": [
    {
     "data": {
      "text/plain": [
       "(268, 8977)"
      ]
     },
     "execution_count": 38,
     "metadata": {},
     "output_type": "execute_result"
    }
   ],
   "source": [
    "markdowns.duplicated().sum() , len(markdowns)"
   ]
  },
  {
   "cell_type": "code",
   "execution_count": 39,
   "metadata": {},
   "outputs": [
    {
     "data": {
      "text/plain": [
       "(8709, 6)"
      ]
     },
     "execution_count": 39,
     "metadata": {},
     "output_type": "execute_result"
    }
   ],
   "source": [
    "markdowns = markdowns.drop_duplicates().reset_index(drop=True)\n",
    "markdowns.shape"
   ]
  },
  {
   "cell_type": "code",
   "execution_count": 40,
   "metadata": {},
   "outputs": [
    {
     "data": {
      "text/plain": [
       "268"
      ]
     },
     "execution_count": 40,
     "metadata": {},
     "output_type": "execute_result"
    }
   ],
   "source": [
    "8979 - 8711"
   ]
  },
  {
   "cell_type": "markdown",
   "metadata": {},
   "source": [
    "Дубликаты удалены"
   ]
  },
  {
   "cell_type": "markdown",
   "metadata": {},
   "source": [
    "таблица markdowns готова"
   ]
  },
  {
   "cell_type": "markdown",
   "metadata": {},
   "source": [
    "## Таблица discount_history"
   ]
  },
  {
   "cell_type": "markdown",
   "metadata": {},
   "source": [
    "discounts_history:\n",
    "- удалил скидки по датам до конца теста\n",
    "- удалил колонки promo_type_code ,doc_id\n",
    "- удалил sale_price_before_promo ==  0 и sale_price_time_promo == 0\n",
    "- удалил ситуации ,когда цена после промо становится либо выше либо не изменяется.\n",
    "- Удалил строки,со сроками проведения промо выше 42 дней( борьба с аномалиями)"
   ]
  },
  {
   "cell_type": "code",
   "execution_count": 41,
   "metadata": {},
   "outputs": [],
   "source": [
    "discounts_history = discounts_history.loc[discounts_history['date']<'2024-09-26'].reset_index(drop=True)\n"
   ]
  },
  {
   "cell_type": "code",
   "execution_count": 42,
   "metadata": {},
   "outputs": [
    {
     "data": {
      "text/plain": [
       "(3426146, 8)"
      ]
     },
     "execution_count": 42,
     "metadata": {},
     "output_type": "execute_result"
    }
   ],
   "source": [
    "discounts_history.shape"
   ]
  },
  {
   "cell_type": "code",
   "execution_count": 43,
   "metadata": {},
   "outputs": [],
   "source": [
    "discounts_history = discounts_history.drop(['promo_type_code','doc_id'],axis=1)"
   ]
  },
  {
   "cell_type": "markdown",
   "metadata": {},
   "source": [
    "Есть аномалии в таблице,где цена во время промо\\после промо равна 0.\n",
    "Либо во время промо увеличивается"
   ]
  },
  {
   "cell_type": "code",
   "execution_count": 44,
   "metadata": {},
   "outputs": [
    {
     "data": {
      "text/plain": [
       "(21039, 6)"
      ]
     },
     "execution_count": 44,
     "metadata": {},
     "output_type": "execute_result"
    }
   ],
   "source": [
    "discounts_history.loc[discounts_history['sale_price_before_promo']==0].shape"
   ]
  },
  {
   "cell_type": "code",
   "execution_count": 45,
   "metadata": {},
   "outputs": [],
   "source": [
    "discounts_history = discounts_history.loc[discounts_history['sale_price_before_promo']>0].reset_index(drop=True)"
   ]
  },
  {
   "cell_type": "markdown",
   "metadata": {},
   "source": [
    "21039 строк содержат 0"
   ]
  },
  {
   "cell_type": "code",
   "execution_count": 46,
   "metadata": {},
   "outputs": [
    {
     "data": {
      "text/html": [
       "<div>\n",
       "<style scoped>\n",
       "    .dataframe tbody tr th:only-of-type {\n",
       "        vertical-align: middle;\n",
       "    }\n",
       "\n",
       "    .dataframe tbody tr th {\n",
       "        vertical-align: top;\n",
       "    }\n",
       "\n",
       "    .dataframe thead th {\n",
       "        text-align: right;\n",
       "    }\n",
       "</style>\n",
       "<table border=\"1\" class=\"dataframe\">\n",
       "  <thead>\n",
       "    <tr style=\"text-align: right;\">\n",
       "      <th></th>\n",
       "      <th>date</th>\n",
       "      <th>item_id</th>\n",
       "      <th>sale_price_before_promo</th>\n",
       "      <th>sale_price_time_promo</th>\n",
       "      <th>number_disc_day</th>\n",
       "      <th>store_id</th>\n",
       "    </tr>\n",
       "  </thead>\n",
       "  <tbody>\n",
       "    <tr>\n",
       "      <th>2549428</th>\n",
       "      <td>2023-10-30</td>\n",
       "      <td>b60c43f065bf</td>\n",
       "      <td>184.900</td>\n",
       "      <td>0.000</td>\n",
       "      <td>1.000</td>\n",
       "      <td>3</td>\n",
       "    </tr>\n",
       "  </tbody>\n",
       "</table>\n",
       "</div>"
      ],
      "text/plain": [
       "               date       item_id  sale_price_before_promo  \\\n",
       "2549428  2023-10-30  b60c43f065bf                  184.900   \n",
       "\n",
       "         sale_price_time_promo  number_disc_day  store_id  \n",
       "2549428                  0.000            1.000         3  "
      ]
     },
     "execution_count": 46,
     "metadata": {},
     "output_type": "execute_result"
    }
   ],
   "source": [
    "discounts_history.loc[discounts_history['sale_price_time_promo']==0]"
   ]
  },
  {
   "cell_type": "code",
   "execution_count": 47,
   "metadata": {},
   "outputs": [],
   "source": [
    "discounts_history = discounts_history.drop(index=[2549428]).reset_index(drop=True)"
   ]
  },
  {
   "cell_type": "code",
   "execution_count": 48,
   "metadata": {},
   "outputs": [
    {
     "data": {
      "text/plain": [
       "count   3405106.000\n",
       "mean         18.876\n",
       "std          78.995\n",
       "min           1.000\n",
       "25%           4.000\n",
       "50%           8.000\n",
       "75%          12.000\n",
       "max        1091.000\n",
       "Name: number_disc_day, dtype: float64"
      ]
     },
     "execution_count": 48,
     "metadata": {},
     "output_type": "execute_result"
    }
   ],
   "source": [
    "discounts_history['number_disc_day'].describe()"
   ]
  },
  {
   "cell_type": "markdown",
   "metadata": {},
   "source": [
    "что же за странные 173 и выше дней проведения промо"
   ]
  },
  {
   "cell_type": "code",
   "execution_count": 49,
   "metadata": {},
   "outputs": [
    {
     "data": {
      "text/html": [
       "<div>\n",
       "<style scoped>\n",
       "    .dataframe tbody tr th:only-of-type {\n",
       "        vertical-align: middle;\n",
       "    }\n",
       "\n",
       "    .dataframe tbody tr th {\n",
       "        vertical-align: top;\n",
       "    }\n",
       "\n",
       "    .dataframe thead th {\n",
       "        text-align: right;\n",
       "    }\n",
       "</style>\n",
       "<table border=\"1\" class=\"dataframe\">\n",
       "  <thead>\n",
       "    <tr style=\"text-align: right;\">\n",
       "      <th></th>\n",
       "      <th>date</th>\n",
       "      <th>item_id</th>\n",
       "      <th>sale_price_before_promo</th>\n",
       "      <th>sale_price_time_promo</th>\n",
       "      <th>number_disc_day</th>\n",
       "      <th>store_id</th>\n",
       "    </tr>\n",
       "  </thead>\n",
       "  <tbody>\n",
       "    <tr>\n",
       "      <th>165</th>\n",
       "      <td>2022-08-28</td>\n",
       "      <td>8250099a8aff</td>\n",
       "      <td>59.900</td>\n",
       "      <td>59.900</td>\n",
       "      <td>240.000</td>\n",
       "      <td>1</td>\n",
       "    </tr>\n",
       "    <tr>\n",
       "      <th>166</th>\n",
       "      <td>2022-08-28</td>\n",
       "      <td>23b18d1f7da9</td>\n",
       "      <td>59.900</td>\n",
       "      <td>59.900</td>\n",
       "      <td>240.000</td>\n",
       "      <td>1</td>\n",
       "    </tr>\n",
       "    <tr>\n",
       "      <th>167</th>\n",
       "      <td>2022-08-28</td>\n",
       "      <td>e5b2b6f57ea7</td>\n",
       "      <td>59.900</td>\n",
       "      <td>59.900</td>\n",
       "      <td>240.000</td>\n",
       "      <td>1</td>\n",
       "    </tr>\n",
       "    <tr>\n",
       "      <th>168</th>\n",
       "      <td>2022-08-28</td>\n",
       "      <td>2c007023f650</td>\n",
       "      <td>59.900</td>\n",
       "      <td>59.900</td>\n",
       "      <td>240.000</td>\n",
       "      <td>1</td>\n",
       "    </tr>\n",
       "    <tr>\n",
       "      <th>229</th>\n",
       "      <td>2022-08-28</td>\n",
       "      <td>9f716dce9a57</td>\n",
       "      <td>59.900</td>\n",
       "      <td>59.900</td>\n",
       "      <td>240.000</td>\n",
       "      <td>1</td>\n",
       "    </tr>\n",
       "    <tr>\n",
       "      <th>...</th>\n",
       "      <td>...</td>\n",
       "      <td>...</td>\n",
       "      <td>...</td>\n",
       "      <td>...</td>\n",
       "      <td>...</td>\n",
       "      <td>...</td>\n",
       "    </tr>\n",
       "    <tr>\n",
       "      <th>3404722</th>\n",
       "      <td>2024-09-25</td>\n",
       "      <td>367ade44c168</td>\n",
       "      <td>159.900</td>\n",
       "      <td>159.900</td>\n",
       "      <td>246.000</td>\n",
       "      <td>4</td>\n",
       "    </tr>\n",
       "    <tr>\n",
       "      <th>3404723</th>\n",
       "      <td>2024-09-25</td>\n",
       "      <td>af4a7cdfc6aa</td>\n",
       "      <td>399.900</td>\n",
       "      <td>399.900</td>\n",
       "      <td>246.000</td>\n",
       "      <td>4</td>\n",
       "    </tr>\n",
       "    <tr>\n",
       "      <th>3404724</th>\n",
       "      <td>2024-09-25</td>\n",
       "      <td>0ea52050198d</td>\n",
       "      <td>399.900</td>\n",
       "      <td>399.900</td>\n",
       "      <td>246.000</td>\n",
       "      <td>4</td>\n",
       "    </tr>\n",
       "    <tr>\n",
       "      <th>3404725</th>\n",
       "      <td>2024-09-25</td>\n",
       "      <td>c22182ff43cf</td>\n",
       "      <td>399.900</td>\n",
       "      <td>399.900</td>\n",
       "      <td>246.000</td>\n",
       "      <td>4</td>\n",
       "    </tr>\n",
       "    <tr>\n",
       "      <th>3404726</th>\n",
       "      <td>2024-09-25</td>\n",
       "      <td>73b2a5becfa4</td>\n",
       "      <td>549.900</td>\n",
       "      <td>549.900</td>\n",
       "      <td>246.000</td>\n",
       "      <td>4</td>\n",
       "    </tr>\n",
       "  </tbody>\n",
       "</table>\n",
       "<p>68042 rows × 6 columns</p>\n",
       "</div>"
      ],
      "text/plain": [
       "               date       item_id  sale_price_before_promo  \\\n",
       "165      2022-08-28  8250099a8aff                   59.900   \n",
       "166      2022-08-28  23b18d1f7da9                   59.900   \n",
       "167      2022-08-28  e5b2b6f57ea7                   59.900   \n",
       "168      2022-08-28  2c007023f650                   59.900   \n",
       "229      2022-08-28  9f716dce9a57                   59.900   \n",
       "...             ...           ...                      ...   \n",
       "3404722  2024-09-25  367ade44c168                  159.900   \n",
       "3404723  2024-09-25  af4a7cdfc6aa                  399.900   \n",
       "3404724  2024-09-25  0ea52050198d                  399.900   \n",
       "3404725  2024-09-25  c22182ff43cf                  399.900   \n",
       "3404726  2024-09-25  73b2a5becfa4                  549.900   \n",
       "\n",
       "         sale_price_time_promo  number_disc_day  store_id  \n",
       "165                     59.900          240.000         1  \n",
       "166                     59.900          240.000         1  \n",
       "167                     59.900          240.000         1  \n",
       "168                     59.900          240.000         1  \n",
       "229                     59.900          240.000         1  \n",
       "...                        ...              ...       ...  \n",
       "3404722                159.900          246.000         4  \n",
       "3404723                399.900          246.000         4  \n",
       "3404724                399.900          246.000         4  \n",
       "3404725                399.900          246.000         4  \n",
       "3404726                549.900          246.000         4  \n",
       "\n",
       "[68042 rows x 6 columns]"
      ]
     },
     "execution_count": 49,
     "metadata": {},
     "output_type": "execute_result"
    }
   ],
   "source": [
    "discounts_history.loc[discounts_history['number_disc_day']>173]"
   ]
  },
  {
   "cell_type": "markdown",
   "metadata": {},
   "source": [
    "Видим странные промо,где цена не меняется.Удалим аномалии.  \n",
    "Удалим строки,где применяется промо.А цена становится выше"
   ]
  },
  {
   "cell_type": "code",
   "execution_count": 50,
   "metadata": {},
   "outputs": [
    {
     "data": {
      "text/plain": [
       "(3405106, 6)"
      ]
     },
     "execution_count": 50,
     "metadata": {},
     "output_type": "execute_result"
    }
   ],
   "source": [
    "discounts_history.shape"
   ]
  },
  {
   "cell_type": "code",
   "execution_count": 51,
   "metadata": {},
   "outputs": [
    {
     "data": {
      "text/html": [
       "<div>\n",
       "<style scoped>\n",
       "    .dataframe tbody tr th:only-of-type {\n",
       "        vertical-align: middle;\n",
       "    }\n",
       "\n",
       "    .dataframe tbody tr th {\n",
       "        vertical-align: top;\n",
       "    }\n",
       "\n",
       "    .dataframe thead th {\n",
       "        text-align: right;\n",
       "    }\n",
       "</style>\n",
       "<table border=\"1\" class=\"dataframe\">\n",
       "  <thead>\n",
       "    <tr style=\"text-align: right;\">\n",
       "      <th></th>\n",
       "      <th>date</th>\n",
       "      <th>item_id</th>\n",
       "      <th>sale_price_before_promo</th>\n",
       "      <th>sale_price_time_promo</th>\n",
       "      <th>number_disc_day</th>\n",
       "      <th>store_id</th>\n",
       "    </tr>\n",
       "  </thead>\n",
       "  <tbody>\n",
       "    <tr>\n",
       "      <th>25</th>\n",
       "      <td>2022-08-28</td>\n",
       "      <td>68348aae54c8</td>\n",
       "      <td>99.900</td>\n",
       "      <td>99.900</td>\n",
       "      <td>6.000</td>\n",
       "      <td>1</td>\n",
       "    </tr>\n",
       "    <tr>\n",
       "      <th>123</th>\n",
       "      <td>2022-08-28</td>\n",
       "      <td>aa6d09435319</td>\n",
       "      <td>799.900</td>\n",
       "      <td>799.900</td>\n",
       "      <td>6.000</td>\n",
       "      <td>1</td>\n",
       "    </tr>\n",
       "    <tr>\n",
       "      <th>135</th>\n",
       "      <td>2022-08-28</td>\n",
       "      <td>7428830d55b6</td>\n",
       "      <td>279.900</td>\n",
       "      <td>279.900</td>\n",
       "      <td>6.000</td>\n",
       "      <td>1</td>\n",
       "    </tr>\n",
       "    <tr>\n",
       "      <th>165</th>\n",
       "      <td>2022-08-28</td>\n",
       "      <td>8250099a8aff</td>\n",
       "      <td>59.900</td>\n",
       "      <td>59.900</td>\n",
       "      <td>240.000</td>\n",
       "      <td>1</td>\n",
       "    </tr>\n",
       "    <tr>\n",
       "      <th>166</th>\n",
       "      <td>2022-08-28</td>\n",
       "      <td>23b18d1f7da9</td>\n",
       "      <td>59.900</td>\n",
       "      <td>59.900</td>\n",
       "      <td>240.000</td>\n",
       "      <td>1</td>\n",
       "    </tr>\n",
       "    <tr>\n",
       "      <th>...</th>\n",
       "      <td>...</td>\n",
       "      <td>...</td>\n",
       "      <td>...</td>\n",
       "      <td>...</td>\n",
       "      <td>...</td>\n",
       "      <td>...</td>\n",
       "    </tr>\n",
       "    <tr>\n",
       "      <th>3405067</th>\n",
       "      <td>2024-09-25</td>\n",
       "      <td>fb282818b8eb</td>\n",
       "      <td>149.900</td>\n",
       "      <td>149.900</td>\n",
       "      <td>14.000</td>\n",
       "      <td>4</td>\n",
       "    </tr>\n",
       "    <tr>\n",
       "      <th>3405076</th>\n",
       "      <td>2024-09-25</td>\n",
       "      <td>4df0b1a72540</td>\n",
       "      <td>849.900</td>\n",
       "      <td>899.900</td>\n",
       "      <td>3.000</td>\n",
       "      <td>4</td>\n",
       "    </tr>\n",
       "    <tr>\n",
       "      <th>3405092</th>\n",
       "      <td>2024-09-25</td>\n",
       "      <td>7daa478b4b52</td>\n",
       "      <td>599.900</td>\n",
       "      <td>599.900</td>\n",
       "      <td>3.000</td>\n",
       "      <td>4</td>\n",
       "    </tr>\n",
       "    <tr>\n",
       "      <th>3405093</th>\n",
       "      <td>2024-09-25</td>\n",
       "      <td>e199dccdd490</td>\n",
       "      <td>1499.900</td>\n",
       "      <td>1599.900</td>\n",
       "      <td>3.000</td>\n",
       "      <td>4</td>\n",
       "    </tr>\n",
       "    <tr>\n",
       "      <th>3405096</th>\n",
       "      <td>2024-09-25</td>\n",
       "      <td>c7fa4ee1ea6a</td>\n",
       "      <td>599.900</td>\n",
       "      <td>599.900</td>\n",
       "      <td>3.000</td>\n",
       "      <td>4</td>\n",
       "    </tr>\n",
       "  </tbody>\n",
       "</table>\n",
       "<p>619415 rows × 6 columns</p>\n",
       "</div>"
      ],
      "text/plain": [
       "               date       item_id  sale_price_before_promo  \\\n",
       "25       2022-08-28  68348aae54c8                   99.900   \n",
       "123      2022-08-28  aa6d09435319                  799.900   \n",
       "135      2022-08-28  7428830d55b6                  279.900   \n",
       "165      2022-08-28  8250099a8aff                   59.900   \n",
       "166      2022-08-28  23b18d1f7da9                   59.900   \n",
       "...             ...           ...                      ...   \n",
       "3405067  2024-09-25  fb282818b8eb                  149.900   \n",
       "3405076  2024-09-25  4df0b1a72540                  849.900   \n",
       "3405092  2024-09-25  7daa478b4b52                  599.900   \n",
       "3405093  2024-09-25  e199dccdd490                 1499.900   \n",
       "3405096  2024-09-25  c7fa4ee1ea6a                  599.900   \n",
       "\n",
       "         sale_price_time_promo  number_disc_day  store_id  \n",
       "25                      99.900            6.000         1  \n",
       "123                    799.900            6.000         1  \n",
       "135                    279.900            6.000         1  \n",
       "165                     59.900          240.000         1  \n",
       "166                     59.900          240.000         1  \n",
       "...                        ...              ...       ...  \n",
       "3405067                149.900           14.000         4  \n",
       "3405076                899.900            3.000         4  \n",
       "3405092                599.900            3.000         4  \n",
       "3405093               1599.900            3.000         4  \n",
       "3405096                599.900            3.000         4  \n",
       "\n",
       "[619415 rows x 6 columns]"
      ]
     },
     "execution_count": 51,
     "metadata": {},
     "output_type": "execute_result"
    }
   ],
   "source": [
    "discounts_history.loc[discounts_history['sale_price_before_promo']<=discounts_history['sale_price_time_promo']]"
   ]
  },
  {
   "cell_type": "code",
   "execution_count": 52,
   "metadata": {},
   "outputs": [],
   "source": [
    "discounts_history = discounts_history.loc[discounts_history['sale_price_before_promo']>discounts_history['sale_price_time_promo']]"
   ]
  },
  {
   "cell_type": "code",
   "execution_count": 53,
   "metadata": {},
   "outputs": [
    {
     "data": {
      "text/plain": [
       "(2785691, 6)"
      ]
     },
     "execution_count": 53,
     "metadata": {},
     "output_type": "execute_result"
    }
   ],
   "source": [
    "discounts_history.shape"
   ]
  },
  {
   "cell_type": "markdown",
   "metadata": {},
   "source": [
    "Остается 1091 день проведения промо"
   ]
  },
  {
   "cell_type": "code",
   "execution_count": 54,
   "metadata": {},
   "outputs": [
    {
     "data": {
      "text/plain": [
       "count   2785691.000\n",
       "mean         16.784\n",
       "std          69.723\n",
       "min           1.000\n",
       "25%           4.000\n",
       "50%           8.000\n",
       "75%          12.000\n",
       "max        1091.000\n",
       "Name: number_disc_day, dtype: float64"
      ]
     },
     "execution_count": 54,
     "metadata": {},
     "output_type": "execute_result"
    }
   ],
   "source": [
    "discounts_history.number_disc_day.describe()"
   ]
  },
  {
   "cell_type": "code",
   "execution_count": 55,
   "metadata": {},
   "outputs": [
    {
     "data": {
      "text/plain": [
       "29.0"
      ]
     },
     "metadata": {},
     "output_type": "display_data"
    },
    {
     "data": {
      "text/plain": [
       "436.0"
      ]
     },
     "metadata": {},
     "output_type": "display_data"
    }
   ],
   "source": [
    "display(discounts_history.number_disc_day.quantile(0.98))\n",
    "display(discounts_history.number_disc_day.quantile(0.99))"
   ]
  },
  {
   "cell_type": "markdown",
   "metadata": {},
   "source": [
    "Существует значительный перекос между 98 и 99 квантилем.  \n",
    "Я планирую оставить месяц для проведения промо-акции.  \n",
    "При этом я исхожу из предположения, что не располагаю точными данными о сроках применения промо. \n",
    "Предполагаю, что все значения, превышающие 42 дня, могут быть связаны с ошибками в хранении и обработке данных.   \n",
    "Число 42 выбрано, потому что я могу допустить, что промо-акция была рассчитана на три этапа поставки (по три поставки по две недели каждая)."
   ]
  },
  {
   "cell_type": "code",
   "execution_count": 56,
   "metadata": {},
   "outputs": [],
   "source": [
    "discounts_history = discounts_history.loc[discounts_history['number_disc_day']<42].reset_index(drop=True)"
   ]
  },
  {
   "cell_type": "code",
   "execution_count": 57,
   "metadata": {},
   "outputs": [
    {
     "data": {
      "text/plain": [
       "count   2734769.000\n",
       "mean          8.214\n",
       "std           5.096\n",
       "min           1.000\n",
       "25%           4.000\n",
       "50%           8.000\n",
       "75%          12.000\n",
       "max          41.000\n",
       "Name: number_disc_day, dtype: float64"
      ]
     },
     "execution_count": 57,
     "metadata": {},
     "output_type": "execute_result"
    }
   ],
   "source": [
    "discounts_history.number_disc_day.describe()"
   ]
  },
  {
   "cell_type": "markdown",
   "metadata": {},
   "source": [
    "Таблица discounts_history готова"
   ]
  },
  {
   "cell_type": "markdown",
   "metadata": {},
   "source": [
    "## Таблица actual matrix"
   ]
  },
  {
   "cell_type": "markdown",
   "metadata": {},
   "source": [
    "actual matrix:\n",
    "- ничего делать не буду,так как из нее нужно только бинарный признак подгрузить\n"
   ]
  },
  {
   "cell_type": "markdown",
   "metadata": {},
   "source": [
    "даты резать не нужно"
   ]
  },
  {
   "cell_type": "markdown",
   "metadata": {},
   "source": [
    "## Таблица catalog"
   ]
  },
  {
   "cell_type": "markdown",
   "metadata": {},
   "source": [
    "catalog:\n",
    "- востановил каскадным групповым средним коробочный обьем товаров\n",
    "- удалил все колонки кроме айди и обьема коробки товара\n"
   ]
  },
  {
   "cell_type": "code",
   "execution_count": 58,
   "metadata": {},
   "outputs": [],
   "source": [
    "group_columns = ['dept_name', 'class_name', 'subclass_name', 'item_type']\n",
    "for col in group_columns:\n",
    "    catalog['weight_volume'] = catalog['weight_volume'].fillna(\n",
    "        catalog.groupby(col)['weight_volume'].transform('median')\n",
    "    )"
   ]
  },
  {
   "cell_type": "markdown",
   "metadata": {},
   "source": [
    "Заполним каскадным (потому что категории по разному имеют пропуски) медианой по категории признак обьем товара"
   ]
  },
  {
   "cell_type": "code",
   "execution_count": 59,
   "metadata": {},
   "outputs": [
    {
     "data": {
      "text/plain": [
       "dept_name\n",
       "ГРИЛЬ                                    69\n",
       "ПОДАРОЧНЫЕ КОРЗИНЫ                       43\n",
       "РЫБНАЯ КУЛИНАРИЯ                         26\n",
       "КОЛБАСНАЯ ГАСТРОНОМИЯ НЕ ИСПОЛЬЗОВАТЬ     2\n",
       "Name: count, dtype: int64"
      ]
     },
     "execution_count": 59,
     "metadata": {},
     "output_type": "execute_result"
    }
   ],
   "source": [
    "catalog.loc[catalog['weight_volume'].isna()]['dept_name'].value_counts()"
   ]
  },
  {
   "cell_type": "markdown",
   "metadata": {},
   "source": [
    "Остаточные крохи строк(из 220к) заполним медианой"
   ]
  },
  {
   "cell_type": "code",
   "execution_count": 60,
   "metadata": {},
   "outputs": [],
   "source": [
    "catalog['weight_volume'] = catalog['weight_volume'].fillna(catalog['weight_volume'].median())"
   ]
  },
  {
   "cell_type": "code",
   "execution_count": 61,
   "metadata": {},
   "outputs": [],
   "source": [
    "catalog = catalog[['item_id','dept_name','weight_volume']]"
   ]
  },
  {
   "cell_type": "code",
   "execution_count": 62,
   "metadata": {},
   "outputs": [
    {
     "data": {
      "text/plain": [
       "0"
      ]
     },
     "execution_count": 62,
     "metadata": {},
     "output_type": "execute_result"
    }
   ],
   "source": [
    "catalog.weight_volume.isna().sum()"
   ]
  },
  {
   "cell_type": "code",
   "execution_count": 63,
   "metadata": {},
   "outputs": [
    {
     "data": {
      "text/html": [
       "<div>\n",
       "<style scoped>\n",
       "    .dataframe tbody tr th:only-of-type {\n",
       "        vertical-align: middle;\n",
       "    }\n",
       "\n",
       "    .dataframe tbody tr th {\n",
       "        vertical-align: top;\n",
       "    }\n",
       "\n",
       "    .dataframe thead th {\n",
       "        text-align: right;\n",
       "    }\n",
       "</style>\n",
       "<table border=\"1\" class=\"dataframe\">\n",
       "  <thead>\n",
       "    <tr style=\"text-align: right;\">\n",
       "      <th></th>\n",
       "      <th>item_id</th>\n",
       "      <th>dept_name</th>\n",
       "      <th>weight_volume</th>\n",
       "    </tr>\n",
       "  </thead>\n",
       "  <tbody>\n",
       "    <tr>\n",
       "      <th>0</th>\n",
       "      <td>da17e2d5feda</td>\n",
       "      <td>БУМАЖНО-ВАТНАЯ ПРОДУКЦИЯ</td>\n",
       "      <td>150.000</td>\n",
       "    </tr>\n",
       "    <tr>\n",
       "      <th>1</th>\n",
       "      <td>614de2b96018</td>\n",
       "      <td>БУМАЖНО-ВАТНАЯ ПРОДУКЦИЯ</td>\n",
       "      <td>30.000</td>\n",
       "    </tr>\n",
       "    <tr>\n",
       "      <th>2</th>\n",
       "      <td>0c1f1f3e3e11</td>\n",
       "      <td>БУМАЖНО-ВАТНАЯ ПРОДУКЦИЯ</td>\n",
       "      <td>15.000</td>\n",
       "    </tr>\n",
       "    <tr>\n",
       "      <th>3</th>\n",
       "      <td>71a7fa99f005</td>\n",
       "      <td>ТОВАРЫ ДЛЯ ДОМА</td>\n",
       "      <td>0.800</td>\n",
       "    </tr>\n",
       "    <tr>\n",
       "      <th>4</th>\n",
       "      <td>ec1bd4d59fe9</td>\n",
       "      <td>БУМАЖНО-ВАТНАЯ ПРОДУКЦИЯ</td>\n",
       "      <td>30.000</td>\n",
       "    </tr>\n",
       "  </tbody>\n",
       "</table>\n",
       "</div>"
      ],
      "text/plain": [
       "        item_id                 dept_name  weight_volume\n",
       "0  da17e2d5feda  БУМАЖНО-ВАТНАЯ ПРОДУКЦИЯ        150.000\n",
       "1  614de2b96018  БУМАЖНО-ВАТНАЯ ПРОДУКЦИЯ         30.000\n",
       "2  0c1f1f3e3e11  БУМАЖНО-ВАТНАЯ ПРОДУКЦИЯ         15.000\n",
       "3  71a7fa99f005           ТОВАРЫ ДЛЯ ДОМА          0.800\n",
       "4  ec1bd4d59fe9  БУМАЖНО-ВАТНАЯ ПРОДУКЦИЯ         30.000"
      ]
     },
     "execution_count": 63,
     "metadata": {},
     "output_type": "execute_result"
    }
   ],
   "source": [
    "catalog.head()"
   ]
  },
  {
   "cell_type": "markdown",
   "metadata": {},
   "source": [
    "Таблица catalog готова"
   ]
  },
  {
   "cell_type": "markdown",
   "metadata": {},
   "source": [
    "Итоги предобработки данных:\n",
    "- проверены таблицы на наличие:\n",
    "    - пропусков\n",
    "    - дубликатов\n",
    "    - аномалий\n",
    "- проведена работа по :\n",
    "    - удалению неинформативных колонок\n",
    "    - удаление коррелирующих колонок\n",
    "    - неиспользуемых строк данных  \n",
    "\n",
    "Обьеденим данные из разных таблиц в 1 набор данных  \n"
   ]
  },
  {
   "cell_type": "markdown",
   "metadata": {},
   "source": [
    "# Обьеденение данных"
   ]
  },
  {
   "cell_type": "markdown",
   "metadata": {},
   "source": [
    "Что произведено:\n",
    "- обьеденили sales с историей скидок\n",
    "- markdowns использовать не буду так как не полна.\n",
    "- price history не полна. Не будем использовать\n",
    "- actual matrix очень не полна.Мало данных можем извлечь при конктатенации данных\n"
   ]
  },
  {
   "cell_type": "markdown",
   "metadata": {},
   "source": [
    "Далее общая переменная будет называться train до этапа разбиения на выборки"
   ]
  },
  {
   "cell_type": "code",
   "execution_count": 64,
   "metadata": {},
   "outputs": [],
   "source": [
    "train = sales.merge(discounts_history,on=['date','item_id','store_id'],how='left')\n"
   ]
  },
  {
   "cell_type": "code",
   "execution_count": 65,
   "metadata": {},
   "outputs": [
    {
     "name": "stdout",
     "output_type": "stream",
     "text": [
      "кол-во пропусков 19221255\n",
      "кол-во дубликатов 0\n",
      "форма данных (7640687, 8)\n"
     ]
    }
   ],
   "source": [
    "check_quality(train)"
   ]
  },
  {
   "cell_type": "markdown",
   "metadata": {},
   "source": [
    "Обьедим историю скидок"
   ]
  },
  {
   "cell_type": "markdown",
   "metadata": {},
   "source": [
    "Получили разряженную таблицу "
   ]
  },
  {
   "cell_type": "code",
   "execution_count": 66,
   "metadata": {},
   "outputs": [
    {
     "data": {
      "text/plain": [
       "(1233602, 8)"
      ]
     },
     "execution_count": 66,
     "metadata": {},
     "output_type": "execute_result"
    }
   ],
   "source": [
    "\n",
    "train.loc[train['sale_price_before_promo'].notna()].shape"
   ]
  },
  {
   "cell_type": "markdown",
   "metadata": {},
   "source": [
    "заполнили 1.3млн строк информации о проведении промо\n"
   ]
  },
  {
   "cell_type": "code",
   "execution_count": 67,
   "metadata": {},
   "outputs": [
    {
     "data": {
      "text/html": [
       "<div>\n",
       "<style scoped>\n",
       "    .dataframe tbody tr th:only-of-type {\n",
       "        vertical-align: middle;\n",
       "    }\n",
       "\n",
       "    .dataframe tbody tr th {\n",
       "        vertical-align: top;\n",
       "    }\n",
       "\n",
       "    .dataframe thead th {\n",
       "        text-align: right;\n",
       "    }\n",
       "</style>\n",
       "<table border=\"1\" class=\"dataframe\">\n",
       "  <thead>\n",
       "    <tr style=\"text-align: right;\">\n",
       "      <th></th>\n",
       "      <th>date</th>\n",
       "      <th>item_id</th>\n",
       "      <th>store_id</th>\n",
       "      <th>quantity</th>\n",
       "      <th>price_base</th>\n",
       "      <th>sale_price_before_promo</th>\n",
       "      <th>sale_price_time_promo</th>\n",
       "      <th>number_disc_day</th>\n",
       "    </tr>\n",
       "  </thead>\n",
       "  <tbody>\n",
       "    <tr>\n",
       "      <th>2180804</th>\n",
       "      <td>2023-06-06</td>\n",
       "      <td>b3606eafdc44</td>\n",
       "      <td>1</td>\n",
       "      <td>0.104</td>\n",
       "      <td>2999.040</td>\n",
       "      <td>3999.000</td>\n",
       "      <td>2999.000</td>\n",
       "      <td>13.000</td>\n",
       "    </tr>\n",
       "    <tr>\n",
       "      <th>6079966</th>\n",
       "      <td>2024-06-07</td>\n",
       "      <td>5d03f75223ba</td>\n",
       "      <td>4</td>\n",
       "      <td>6.000</td>\n",
       "      <td>120.850</td>\n",
       "      <td>129.900</td>\n",
       "      <td>119.900</td>\n",
       "      <td>2.000</td>\n",
       "    </tr>\n",
       "    <tr>\n",
       "      <th>2455275</th>\n",
       "      <td>2023-07-11</td>\n",
       "      <td>deb52f80639e</td>\n",
       "      <td>1</td>\n",
       "      <td>1.000</td>\n",
       "      <td>61.260</td>\n",
       "      <td>99.900</td>\n",
       "      <td>89.900</td>\n",
       "      <td>6.000</td>\n",
       "    </tr>\n",
       "    <tr>\n",
       "      <th>338594</th>\n",
       "      <td>2022-10-12</td>\n",
       "      <td>918bd27caa8c</td>\n",
       "      <td>2</td>\n",
       "      <td>2.000</td>\n",
       "      <td>279.900</td>\n",
       "      <td>329.900</td>\n",
       "      <td>279.900</td>\n",
       "      <td>16.000</td>\n",
       "    </tr>\n",
       "    <tr>\n",
       "      <th>6343426</th>\n",
       "      <td>2024-06-26</td>\n",
       "      <td>4346ab99efcb</td>\n",
       "      <td>4</td>\n",
       "      <td>2.000</td>\n",
       "      <td>25.900</td>\n",
       "      <td>34.900</td>\n",
       "      <td>25.900</td>\n",
       "      <td>7.000</td>\n",
       "    </tr>\n",
       "  </tbody>\n",
       "</table>\n",
       "</div>"
      ],
      "text/plain": [
       "               date       item_id  store_id  quantity  price_base  \\\n",
       "2180804  2023-06-06  b3606eafdc44         1     0.104    2999.040   \n",
       "6079966  2024-06-07  5d03f75223ba         4     6.000     120.850   \n",
       "2455275  2023-07-11  deb52f80639e         1     1.000      61.260   \n",
       "338594   2022-10-12  918bd27caa8c         2     2.000     279.900   \n",
       "6343426  2024-06-26  4346ab99efcb         4     2.000      25.900   \n",
       "\n",
       "         sale_price_before_promo  sale_price_time_promo  number_disc_day  \n",
       "2180804                 3999.000               2999.000           13.000  \n",
       "6079966                  129.900                119.900            2.000  \n",
       "2455275                   99.900                 89.900            6.000  \n",
       "338594                   329.900                279.900           16.000  \n",
       "6343426                   34.900                 25.900            7.000  "
      ]
     },
     "execution_count": 67,
     "metadata": {},
     "output_type": "execute_result"
    }
   ],
   "source": [
    "train.loc[train['sale_price_before_promo'].notna()].sample(5)\n"
   ]
  },
  {
   "cell_type": "markdown",
   "metadata": {},
   "source": [
    "Где то price base совпадает с промо,где то нет.  \n",
    "Но мы и не знаем на каком окне вычислялся price_base"
   ]
  },
  {
   "cell_type": "code",
   "execution_count": 68,
   "metadata": {},
   "outputs": [
    {
     "data": {
      "text/plain": [
       "(7640687, 8)"
      ]
     },
     "execution_count": 68,
     "metadata": {},
     "output_type": "execute_result"
    }
   ],
   "source": [
    "train.shape"
   ]
  },
  {
   "cell_type": "code",
   "execution_count": 69,
   "metadata": {},
   "outputs": [],
   "source": [
    "train = train.merge(catalog,on='item_id',how='left')"
   ]
  },
  {
   "cell_type": "code",
   "execution_count": 70,
   "metadata": {},
   "outputs": [
    {
     "name": "stdout",
     "output_type": "stream",
     "text": [
      "кол-во пропусков 19295999\n",
      "кол-во дубликатов 0\n",
      "форма данных (7640687, 10)\n"
     ]
    }
   ],
   "source": [
    "check_quality(train)"
   ]
  },
  {
   "cell_type": "code",
   "execution_count": 71,
   "metadata": {},
   "outputs": [
    {
     "data": {
      "text/html": [
       "<div>\n",
       "<style scoped>\n",
       "    .dataframe tbody tr th:only-of-type {\n",
       "        vertical-align: middle;\n",
       "    }\n",
       "\n",
       "    .dataframe tbody tr th {\n",
       "        vertical-align: top;\n",
       "    }\n",
       "\n",
       "    .dataframe thead th {\n",
       "        text-align: right;\n",
       "    }\n",
       "</style>\n",
       "<table border=\"1\" class=\"dataframe\">\n",
       "  <thead>\n",
       "    <tr style=\"text-align: right;\">\n",
       "      <th></th>\n",
       "      <th>date</th>\n",
       "      <th>item_id</th>\n",
       "      <th>store_id</th>\n",
       "      <th>quantity</th>\n",
       "      <th>price_base</th>\n",
       "      <th>sale_price_before_promo</th>\n",
       "      <th>sale_price_time_promo</th>\n",
       "      <th>number_disc_day</th>\n",
       "      <th>dept_name</th>\n",
       "      <th>weight_volume</th>\n",
       "    </tr>\n",
       "  </thead>\n",
       "  <tbody>\n",
       "    <tr>\n",
       "      <th>7020109</th>\n",
       "      <td>2024-08-13</td>\n",
       "      <td>8d20185399b4</td>\n",
       "      <td>2</td>\n",
       "      <td>1.000</td>\n",
       "      <td>129.900</td>\n",
       "      <td>NaN</td>\n",
       "      <td>NaN</td>\n",
       "      <td>NaN</td>\n",
       "      <td>NaN</td>\n",
       "      <td>NaN</td>\n",
       "    </tr>\n",
       "  </tbody>\n",
       "</table>\n",
       "</div>"
      ],
      "text/plain": [
       "               date       item_id  store_id  quantity  price_base  \\\n",
       "7020109  2024-08-13  8d20185399b4         2     1.000     129.900   \n",
       "\n",
       "         sale_price_before_promo  sale_price_time_promo  number_disc_day  \\\n",
       "7020109                      NaN                    NaN              NaN   \n",
       "\n",
       "        dept_name  weight_volume  \n",
       "7020109       NaN            NaN  "
      ]
     },
     "execution_count": 71,
     "metadata": {},
     "output_type": "execute_result"
    }
   ],
   "source": [
    "train.loc[train['weight_volume'].isna()].sample()"
   ]
  },
  {
   "cell_type": "code",
   "execution_count": 72,
   "metadata": {},
   "outputs": [
    {
     "data": {
      "text/html": [
       "<div>\n",
       "<style scoped>\n",
       "    .dataframe tbody tr th:only-of-type {\n",
       "        vertical-align: middle;\n",
       "    }\n",
       "\n",
       "    .dataframe tbody tr th {\n",
       "        vertical-align: top;\n",
       "    }\n",
       "\n",
       "    .dataframe thead th {\n",
       "        text-align: right;\n",
       "    }\n",
       "</style>\n",
       "<table border=\"1\" class=\"dataframe\">\n",
       "  <thead>\n",
       "    <tr style=\"text-align: right;\">\n",
       "      <th></th>\n",
       "      <th>item_id</th>\n",
       "      <th>dept_name</th>\n",
       "      <th>weight_volume</th>\n",
       "    </tr>\n",
       "  </thead>\n",
       "  <tbody>\n",
       "  </tbody>\n",
       "</table>\n",
       "</div>"
      ],
      "text/plain": [
       "Empty DataFrame\n",
       "Columns: [item_id, dept_name, weight_volume]\n",
       "Index: []"
      ]
     },
     "execution_count": 72,
     "metadata": {},
     "output_type": "execute_result"
    }
   ],
   "source": [
    "catalog.loc[catalog['item_id']=='e35f0201fc8c']"
   ]
  },
  {
   "cell_type": "markdown",
   "metadata": {},
   "source": [
    "В каталогах нет некоторых артикулов"
   ]
  },
  {
   "cell_type": "markdown",
   "metadata": {},
   "source": [
    "Выводы по качеству данных:\n",
    "- имеются пропуски. Закодируем неизвестной кат.переменной.В реальной работе нужно добыть чистые данные\n",
    "- нет информации об остатках в магазине.Это очень плохо.\n",
    "- Нет прогноза погоды.Я бы припарсил погоду,но нет информации о гео\n",
    "- Нет оценки покупательского спроса\n",
    "- Нет профиля магазинов по клиентам(но я настойчивый)\n",
    "- нет срока годности товаров\n",
    "- из за не полной матрицы актуальных товаров не можем получить бинарный признак вхождения в ассортимент на дату или нет\n",
    "- нет информаций о магазинах конкурентов и расстоянии до них\n",
    "\n",
    "Таблицы discounts histrory, catalog , sales обьеденили  \n",
    "Приступим к генерации фичей"
   ]
  },
  {
   "cell_type": "markdown",
   "metadata": {},
   "source": [
    "# Генерация фичей"
   ]
  },
  {
   "cell_type": "markdown",
   "metadata": {},
   "source": [
    "Фичи которые уже сгенерированы присоеденением таблиц:\n",
    "- информация об ожидаемом промо  \n",
    "Лист генерируемых фичей:\n",
    "- продажи за прошлую неделю,2,3,4\n",
    "- признаки по дате (номер недели в году,сезон,квартал,номер дня в недели)\n",
    "- профиль магазина\n"
   ]
  },
  {
   "cell_type": "markdown",
   "metadata": {},
   "source": [
    "генерируем признак : сумма продаж за 7,14,21,28 дней"
   ]
  },
  {
   "cell_type": "code",
   "execution_count": 73,
   "metadata": {},
   "outputs": [],
   "source": [
    "train['date'] = pd.to_datetime(train['date'])\n",
    "train = train.sort_values(by=['item_id', 'store_id', 'date']).reset_index(drop=True)\n",
    "\n",
    "\n",
    "for weeks, days in [(1,7), (2,14), (3,21), (4,28)]:\n",
    "    train = add_rolling_sum(train, days, f'sales_last_{weeks}_weeks')"
   ]
  },
  {
   "cell_type": "markdown",
   "metadata": {},
   "source": [
    "Какая была продажа N времени назад"
   ]
  },
  {
   "cell_type": "code",
   "execution_count": 74,
   "metadata": {},
   "outputs": [
    {
     "data": {
      "text/html": [
       "<div>\n",
       "<style scoped>\n",
       "    .dataframe tbody tr th:only-of-type {\n",
       "        vertical-align: middle;\n",
       "    }\n",
       "\n",
       "    .dataframe tbody tr th {\n",
       "        vertical-align: top;\n",
       "    }\n",
       "\n",
       "    .dataframe thead th {\n",
       "        text-align: right;\n",
       "    }\n",
       "</style>\n",
       "<table border=\"1\" class=\"dataframe\">\n",
       "  <thead>\n",
       "    <tr style=\"text-align: right;\">\n",
       "      <th></th>\n",
       "      <th>date</th>\n",
       "      <th>item_id</th>\n",
       "      <th>store_id</th>\n",
       "      <th>quantity</th>\n",
       "      <th>price_base</th>\n",
       "      <th>sale_price_before_promo</th>\n",
       "      <th>sale_price_time_promo</th>\n",
       "      <th>number_disc_day</th>\n",
       "      <th>dept_name</th>\n",
       "      <th>weight_volume</th>\n",
       "      <th>sales_last_1_weeks</th>\n",
       "      <th>sales_last_2_weeks</th>\n",
       "      <th>sales_last_3_weeks</th>\n",
       "      <th>sales_last_4_weeks</th>\n",
       "    </tr>\n",
       "  </thead>\n",
       "  <tbody>\n",
       "    <tr>\n",
       "      <th>2252460</th>\n",
       "      <td>2023-08-04</td>\n",
       "      <td>4aa8dbe05246</td>\n",
       "      <td>1</td>\n",
       "      <td>65.000</td>\n",
       "      <td>25.505</td>\n",
       "      <td>NaN</td>\n",
       "      <td>NaN</td>\n",
       "      <td>NaN</td>\n",
       "      <td>ХЛЕБ</td>\n",
       "      <td>0.300</td>\n",
       "      <td>451.000</td>\n",
       "      <td>901.000</td>\n",
       "      <td>1350.000</td>\n",
       "      <td>1835.000</td>\n",
       "    </tr>\n",
       "  </tbody>\n",
       "</table>\n",
       "</div>"
      ],
      "text/plain": [
       "              date       item_id  store_id  quantity  price_base  \\\n",
       "2252460 2023-08-04  4aa8dbe05246         1    65.000      25.505   \n",
       "\n",
       "         sale_price_before_promo  sale_price_time_promo  number_disc_day  \\\n",
       "2252460                      NaN                    NaN              NaN   \n",
       "\n",
       "        dept_name  weight_volume  sales_last_1_weeks  sales_last_2_weeks  \\\n",
       "2252460      ХЛЕБ          0.300             451.000             901.000   \n",
       "\n",
       "         sales_last_3_weeks  sales_last_4_weeks  \n",
       "2252460            1350.000            1835.000  "
      ]
     },
     "execution_count": 74,
     "metadata": {},
     "output_type": "execute_result"
    }
   ],
   "source": [
    "train.loc[(train['item_id']=='4aa8dbe05246')&(train['date']=='2023-08-04')]"
   ]
  },
  {
   "cell_type": "markdown",
   "metadata": {},
   "source": [
    "Проверим  ручками.Фичи правильно посчитаны"
   ]
  },
  {
   "cell_type": "markdown",
   "metadata": {},
   "source": [
    "Признак , сколько продаж было N времени назад"
   ]
  },
  {
   "cell_type": "code",
   "execution_count": 75,
   "metadata": {},
   "outputs": [],
   "source": [
    "\n",
    "for lag in [7, 14,30]:\n",
    "    train[f'quantity_lag_{lag}'] = train.groupby(['item_id', 'store_id'])['quantity'].shift(lag)"
   ]
  },
  {
   "cell_type": "markdown",
   "metadata": {},
   "source": [
    "Добавим информацию по дате(день недели,номер недели,года,сезона,выходные,праздники и тд)"
   ]
  },
  {
   "cell_type": "code",
   "execution_count": 76,
   "metadata": {},
   "outputs": [],
   "source": [
    "train = add_weekend_and_holidays(train)"
   ]
  },
  {
   "cell_type": "code",
   "execution_count": 77,
   "metadata": {},
   "outputs": [
    {
     "data": {
      "text/plain": [
       "is_holiday\n",
       "False    7359776\n",
       "True      280911\n",
       "Name: count, dtype: int64"
      ]
     },
     "execution_count": 77,
     "metadata": {},
     "output_type": "execute_result"
    }
   ],
   "source": [
    "train['is_holiday'].value_counts()"
   ]
  },
  {
   "cell_type": "markdown",
   "metadata": {},
   "source": [
    "Проверил,совпадает по производственному календарю"
   ]
  },
  {
   "cell_type": "markdown",
   "metadata": {},
   "source": [
    "Признак абсолютная скидка и скидка в процентах"
   ]
  },
  {
   "cell_type": "code",
   "execution_count": 78,
   "metadata": {},
   "outputs": [],
   "source": [
    "train['discount_price_perc'] = (train['sale_price_time_promo'] - train['sale_price_before_promo'])/train['sale_price_before_promo']*100\n",
    "train['discount_price_abs'] = train['sale_price_time_promo'] - train['sale_price_before_promo']\n",
    "train = train.drop(['sale_price_before_promo','sale_price_time_promo'],axis=1) #удалю неиспользуемую колонку"
   ]
  },
  {
   "cell_type": "code",
   "execution_count": 79,
   "metadata": {},
   "outputs": [],
   "source": [
    "SPLIT_DATE = pd.to_datetime(train['date'].max()) - MONTHS_PREDICT\n",
    "\n",
    "features = ['day', 'day_of_week','quarter',]\n",
    "\n",
    "for feature in features:                       \n",
    "    avg_sales = train.loc[pd.to_datetime(train['date'])<SPLIT_DATE].groupby(['store_id', feature])['quantity'].mean().reset_index()\n",
    "                                                        #^^^^ вот тут мы не допустили утечку\n",
    "    avg_sales.rename(columns={'quantity': f'{feature}_avg_sales'}, inplace=True)\n",
    "    \n",
    "    train = train.merge(avg_sales, on=['store_id', feature], how='left')"
   ]
  },
  {
   "cell_type": "markdown",
   "metadata": {},
   "source": [
    "Мержим обратно  \n",
    "Мы расчитали сезонность на основе трейна.  \n",
    "Замержили обратно.  \n",
    "Получается,что эти фичей для теста буду расчитаны значения на основе трейна как и в жизни"
   ]
  },
  {
   "cell_type": "markdown",
   "metadata": {},
   "source": [
    "Я планирую создать быстрый профиль магазина на основе данных о клиентах.  \n",
    "В первую очередь, я извлеку категории товаров и передам их в модель DeepSeek.  \n",
    "Она самостоятельно рассортирует товары по категориям: 18+, готовая еда, продукты и товары для дома.  \n",
    "После этого я проверю, насколько качественно выполнена кластеризация, и добавлю соответствующую функциональность."
   ]
  },
  {
   "cell_type": "code",
   "execution_count": 80,
   "metadata": {},
   "outputs": [
    {
     "data": {
      "text/plain": [
       "67503      СУХИЕ КОМПОНЕНТЫ\n",
       "4852828        СЫРЫ ШТУЧНЫЕ\n",
       "4429346        СЫРЫ ВЕСОВЫЕ\n",
       "Name: dept_name, dtype: object"
      ]
     },
     "execution_count": 80,
     "metadata": {},
     "output_type": "execute_result"
    }
   ],
   "source": [
    "train['dept_name'].sample(3)"
   ]
  },
  {
   "cell_type": "code",
   "execution_count": 81,
   "metadata": {},
   "outputs": [],
   "source": [
    "#DEEPSEEK\n",
    "# https://chat.deepseek.com/\n",
    "# Товары для совершеннолетних (алкоголь и закуски к нему)\n",
    "#Кластеризация дипсика\n",
    "tovary_dlya_sovershennoletnih = pd.Series(['ПИВО','КОНЬЯК','СУХАРИКИ','ВИНО','ЧИПСЫ','ХОЛОДНЫЕ ЗАКУСКИ','РЫБКА К ПИВУ',\n",
    "       'СЕМЕЧКИ','СОСИСКИ.САРДЕЛЬКИ.ШПИКАЧКИ','ИКРА РЕЧНЫХ И МОРСКИХ РЫБ','ГРИБЫ','ОРЕХИ','ВОДКА,НАСТОЙКИ','СНЕКИ',\n",
    "       'КРЕПКИЕ АЛКОГОЛЬНЫЕ НАПИТКИ','МЯСНЫЕ СНЕКИ','СЛАБОАЛКОГОЛЬНЫЕ НАПИТКИ','СОЛЕНИЯ','ЭТНИЧЕСКИЕ СНЭКИ И ВОДОРОСЛИ',\n",
    "       'МЯСНЫЕ ДЕЛИКАТЕСЫ','РЫБА СОЛЕНАЯ','РЫБА ХОЛОДНОГО КОПЧЕНИЯ','РЫБА ГОРЯЧЕГО КОПЧЕНИЯ','КОЛБАСЫ КОПЧЕНЫЕ.СЫРОВЯЛЕНЫЕ','КОЛБАСЫ ВАРЕНЫЕ'\n",
    "                                       \n",
    "])\n",
    "\n",
    "# Готовая еда \n",
    "gotovay_food = pd.Series(['ПРОДУКЦИЯ БЫСТРОГО ПРИГОТОВЛЕНИЯ','ГОТОВЫЕ БЛЮДА','ЗАВТРАКИ','ПЕРВЫЕ БЛЮДА', 'ВТОРЫЕ БЛЮДА',\n",
    "       'БЫСТРЫЙ ПЕРЕКУС','СУШИ','ПИЦЦА','ПЕЛЬМЕНИ,МАНТЫ,ХИНКАЛИ','САЛАТЫ','БУРГЕРЫ', 'ГОРЯЧИЕ БУТЕРБРОДЫ','ФРУКТОВЫЕ САЛАТЫ',\n",
    "       'ПИЦЦА ПОЛУФАБРИКАТ','БУТЕРБРОДЫ','ШАУРМА','ПОЛУФАБРИКАТЫ','ВОК','ПОНЧИКИ','СЛОЙКА','СЛАДКИЕ МУЧНЫЕ ИЗДЕЛИЯ','ЛЕПИМ-ВАРИМ',\n",
    "       'СДОБА','РЫБНЫЕ ПОЛУФАБРИКАТЫ','РЫБНАЯ КУЛИНАРИЯ','РЫБНЫЕ ПОЛУФАБРИКАТЫ ОХЛАЖДЕННЫЕ','ДОМАШНЯЯ КУХНЯ','МЯСНЫЕ П/Ф','ПИРОЖНЫЕ', \n",
    "       'ТОРТЫ И ПИРОЖНЫЕ','ПИРОГИ','ТОРТЫ','ИЗДЕЛИЯ ИЗ ТЕСТА','МОРОЖЕНОЕ И ЗАМОРОЖЕННЫЕ ДЕСЕРТЫ'\n",
    "       'КАФЕ', \n",
    "       'СДОБНЫЕ ИЗДЕЛИЯ(НЕ ИСПОЛЬЗОВАТЬ)','ПРИКАССА', 'nan',\n",
    "       'РЫБА СВЕЖАЯ НЕ ИСПОЛЬЗОВАТЬ','СПОРТИВНОЕ ПИТАНИЕ',\n",
    "]) \n",
    "\n",
    "# Продукты\n",
    "produkty = pd.Series(['ТРАДИЦИОННЫЕ МОЛОЧНЫЕ ПРОДУКТЫ', 'ДЕТСКИЕ МОЛОЧНЫЕ ПРОДУКТЫ','СОВРЕМЕННАЯ МОЛОЧНАЯ КАТЕГОРИЯ', \n",
    "       'КОНСЕРВЫ МОЛОЧНЫЕ','РАСТИТЕЛЬНЫЕ МОЛОЧНЫЕ ПРОДУКТЫ','ХЛЕБ','СОКИ','ДЕТСКОЕ ПИТАНИЕ','МОЛОКО','ОВОЩИ ЗАМОРОЖЕННЫЕ',\n",
    "       'ЯЙЦО','ФРУКТЫ','ВОДА','КОНФЕТЫ','МУКА','ЗЕЛЕНЬ СВЕЖАЯ','ОВОЩИ','КОФЕ','ЧАЙ','МАСЛО ПОДСОЛНЕЧНОЕ','САХАР','СЛАДОСТИ', \n",
    "       'МАСЛО И МАРГАРИН','СЛИВКИ','КОНСЕРВЫ МОЛОЧНЫЕ','СОВРЕМЕННАЯ МОЛОЧНАЯ КАТЕГОРИЯ','СВЕЖЕЕ МЯСО','МЯСО,ПТИЦА ЗАМОРОЖЕННЫЕ',\n",
    "       'ПТИЦА','МАСЛО ПРОЧЕЕ','УКСУС','СОКИ,МОРСЫ,НАПИТКИ','КВАС','ЧАЙ ХОЛОДНЫЙ','ЭНЕРГЕТИКИ','ФУНКЦИОНАЛЬНЫЕ НАПИТКИ','ТЕСТО',\n",
    "       'ЛИМОНАДЫ', 'МАСЛО ОЛИВКОВОЕ', 'КРУПЫ И ЗЕРНОВЫЕ', 'ИНГРЕДИЕНТЫ','СИРОПЫ','СОЛЬ', 'МАКАРОННЫЕ ИЗДЕЛИЯ','НЕСЛАДКИЕ МУЧНЫЕ ИЗДЕЛИЯ', \n",
    "       'КОНСЕРВЫ МЯСНЫЕ','КОНСЕРВЫ РЫБНЫЕ','СУХОФРУКТЫ','ИНГРЕДИЕНТЫ ДЛЯ ПРИХОДА МЯСА','ПРОЧИЕ СОУСЫ','ВАРЕНЬЕ,МЁД', 'ПРОДУКТЫ ИЗ СУРИМИ',\n",
    "       'СПЕЦИИ,ПРИПРАВА','СОУСЫ ДЛЯ ЭТНИЧЕСКОЙ КУХНИ И ПАСТЫ','КОНСЕРВЫ ГРИБНЫЕ','КОНСЕРВЫ ФРУКТОВЫЕ,ЯГОДНЫЕ','КОНСЕРВЫ ОВОЩНЫЕ',\n",
    "       'ПРЕСЕРВЫ.ПАШТЕТЫ','СУХИЕ КОМПОНЕНТЫ','КОРЖИ И ТАРТАЛЕТКИ','СЫРЫ ВЕСОВЫЕ','СЫРЫ ШТУЧНЫЕ','ШОКОЛАД,ШОКОЛАДНАЯ ПАСТА', \n",
    "       'ЭТНИЧЕСКИЕ МАКАРОННЫЕ ИЗДЕЛИЯ', 'ДИЕТИЧЕСКОЕ ПИТАНИЕ','РАСТИТЕЛЬНЫЕ МОЛОЧНЫЕ ПРОДУКТЫ','ЭТНИЧЕСКАЯ КОНСЕРВАЦИЯ','ГРИБЫ ЗАМОРОЖЕННЫЕ', \n",
    "       'ЯГОДЫ ЗАМОРОЖЕННЫЕ','ИНГРЕДИЕНТЫ ДЛЯ ЭТНИЧЕСКОЙ КУХНИ','КЕТЧУПЫ,СОУСЫ НА ТОМАТНОЙ ОСНОВЕ', 'МАЙОНЕЗ,СОУСЫ НА МАЙОНЕЗНОЙ ОСНОВЕ',\n",
    "       'ОСТРЫЕ СОУСЫ','РЫБА ЖИВАЯ','КРАСНАЯ РЫБА ОХЛАЖДЕННАЯ', 'БЕЛАЯ РЫБА МОРСКАЯ','КРАСНАЯ РЫБА','БЕЛАЯ РЫБА МОРСКАЯ ОХЛАЖДЕННАЯ',\n",
    "       'БЕЛАЯ РЫБА РЕЧНАЯ','БЕЛАЯ РЫБА РЕЧНАЯ ОХЛАЖДЕННАЯ','МОРЕПРОДУКТЫ ОХЛАЖДЕННЫЕ','МОРЕПРОДУКТЫ','ИКРА ЛОСОСЕВАЯ', 'ИКРА БЕЛКОВАЯ', \n",
    "       'ИКРА РЫБ ОСЕТРОВЫХ ПОРОД','КАКАО,ШОКОЛАД','НАБОРЫ КОНФЕТ','КРЕВЕТКИ'\n",
    "\n",
    " \n",
    "])\n",
    "\n",
    "# Товары для дома\n",
    "tovary_dlya_doma = pd.Series(['ТОВАРЫ ДЛЯ ДОМА','МАНГАЛ','ЛАКОМСТВА ДЛЯ ЖИВОТНЫХ','ТОВАРЫ ДЛЯ ШКОЛЫ И ОФИСА',\n",
    "       'КОРМА ДЛЯ КОШЕК','ТОВАРЫ ДЛЯ УБОРКИ','ИНГРЕДИЕНТЫ ДЛЯ ПЕКАРНИ','НАПОЛНИТЕЛИ','ТОВАРЫ ДЛЯ ПРАЗДНИКА',\n",
    "       'СРЕДСТВА ДЛЯ СТИРКИ','ДЕТСКИЙ МИР','КОРМА ДЛЯ ДРУГИХ ЖИВОТНЫХ','ЦВЕТЫ','СОПУТСТВУЮЩИЕ ТОВАРЫ ДЛЯ СТИРКИ',\n",
    "       'ТОВАРЫ ДЛЯ ЛИЧНОГО ПОЛЬЗОВАНИЯ', 'ЗООТОВАРЫ','АКЦИЯ ЛОЯЛЬНОСТИ','ОСВЕЖИТЕЛИ,ИНСЕКТИЦИДЫ', 'АВТОТОВАРЫ',\n",
    "       'КОРМА ДЛЯ СОБАК', 'ЧИСТЯЩИЕ,МОЮЩИЕ СРЕДСТВА','БУМАЖНО-ВАТНАЯ ПРОДУКЦИЯ','ЗОЖ','АКСЕССУАРЫ ДЛЯ КУРЕНИЯ', \n",
    "       'НАРОДНЫЕ ПРОМЫСЛЫ','ИНФОРМАЦИОННЫЕ ТОВАРЫ', 'ГРИЛЬ','ГЛОБАЛЬНЫЙ КАТАЛОГ','ПЕРСОНАЛЬНЫЙ УХОД','ТАБАЧНЫЕ ИЗДЕЛИЯ',\n",
    "       'ВСПОМОГАТЕЛЬНАЯ ГРУППА', 'СЕЗОННЫЙ АССОРТИМЕНТ'\n",
    " \n",
    "])\n"
   ]
  },
  {
   "cell_type": "markdown",
   "metadata": {},
   "source": [
    "Сделаем профиль магазина по покупкам  \n",
    "Так как мы не можем посчитать на профиль на основе данных теста - подход тот же.  \n",
    "Вырезаем тест,а затем мёржим"
   ]
  },
  {
   "cell_type": "code",
   "execution_count": 82,
   "metadata": {},
   "outputs": [],
   "source": [
    "train_for_profiling = train.loc[pd.to_datetime(train['date'])<SPLIT_DATE].reset_index(drop=True)[['store_id','dept_name']]"
   ]
  },
  {
   "cell_type": "code",
   "execution_count": 83,
   "metadata": {},
   "outputs": [],
   "source": [
    "\n",
    "train_for_profiling['profile_18'] = train_for_profiling['dept_name'].apply(lambda row: 1 if row in tovary_dlya_sovershennoletnih.values else None)\n",
    "train_for_profiling['profile_ready_foot'] = train_for_profiling['dept_name'].apply(lambda row: 1 if row in gotovay_food.values else None)\n",
    "train_for_profiling['profile_products'] = train_for_profiling['dept_name'].apply(lambda row: 1 if row in produkty.values else None)\n",
    "train_for_profiling['profile_home'] = train_for_profiling['dept_name'].apply(lambda row: 1 if row in tovary_dlya_doma.values else None)\n",
    "\n"
   ]
  },
  {
   "cell_type": "code",
   "execution_count": 84,
   "metadata": {},
   "outputs": [
    {
     "data": {
      "text/html": [
       "<div>\n",
       "<style scoped>\n",
       "    .dataframe tbody tr th:only-of-type {\n",
       "        vertical-align: middle;\n",
       "    }\n",
       "\n",
       "    .dataframe tbody tr th {\n",
       "        vertical-align: top;\n",
       "    }\n",
       "\n",
       "    .dataframe thead th {\n",
       "        text-align: right;\n",
       "    }\n",
       "</style>\n",
       "<table border=\"1\" class=\"dataframe\">\n",
       "  <thead>\n",
       "    <tr style=\"text-align: right;\">\n",
       "      <th></th>\n",
       "      <th>store_id</th>\n",
       "      <th>dept_name</th>\n",
       "      <th>profile_18</th>\n",
       "      <th>profile_ready_foot</th>\n",
       "      <th>profile_products</th>\n",
       "      <th>profile_home</th>\n",
       "    </tr>\n",
       "  </thead>\n",
       "  <tbody>\n",
       "    <tr>\n",
       "      <th>6940175</th>\n",
       "      <td>4</td>\n",
       "      <td>ДЕТСКОЕ ПИТАНИЕ</td>\n",
       "      <td>NaN</td>\n",
       "      <td>NaN</td>\n",
       "      <td>1.000</td>\n",
       "      <td>NaN</td>\n",
       "    </tr>\n",
       "  </tbody>\n",
       "</table>\n",
       "</div>"
      ],
      "text/plain": [
       "         store_id        dept_name  profile_18  profile_ready_foot  \\\n",
       "6940175         4  ДЕТСКОЕ ПИТАНИЕ         NaN                 NaN   \n",
       "\n",
       "         profile_products  profile_home  \n",
       "6940175             1.000           NaN  "
      ]
     },
     "execution_count": 84,
     "metadata": {},
     "output_type": "execute_result"
    }
   ],
   "source": [
    "train_for_profiling.sample()"
   ]
  },
  {
   "cell_type": "markdown",
   "metadata": {},
   "source": [
    "заполним пропуски"
   ]
  },
  {
   "cell_type": "code",
   "execution_count": 85,
   "metadata": {},
   "outputs": [],
   "source": [
    "train_for_profiling = train_for_profiling.fillna(0)"
   ]
  },
  {
   "cell_type": "code",
   "execution_count": 86,
   "metadata": {},
   "outputs": [],
   "source": [
    "magazine_profile = train_for_profiling.groupby('store_id')[['profile_18','profile_ready_foot','profile_products','profile_home']].mean()"
   ]
  },
  {
   "cell_type": "code",
   "execution_count": 87,
   "metadata": {},
   "outputs": [
    {
     "data": {
      "text/html": [
       "<div>\n",
       "<style scoped>\n",
       "    .dataframe tbody tr th:only-of-type {\n",
       "        vertical-align: middle;\n",
       "    }\n",
       "\n",
       "    .dataframe tbody tr th {\n",
       "        vertical-align: top;\n",
       "    }\n",
       "\n",
       "    .dataframe thead th {\n",
       "        text-align: right;\n",
       "    }\n",
       "</style>\n",
       "<table border=\"1\" class=\"dataframe\">\n",
       "  <thead>\n",
       "    <tr style=\"text-align: right;\">\n",
       "      <th></th>\n",
       "      <th>profile_18</th>\n",
       "      <th>profile_ready_foot</th>\n",
       "      <th>profile_products</th>\n",
       "      <th>profile_home</th>\n",
       "    </tr>\n",
       "    <tr>\n",
       "      <th>store_id</th>\n",
       "      <th></th>\n",
       "      <th></th>\n",
       "      <th></th>\n",
       "      <th></th>\n",
       "    </tr>\n",
       "  </thead>\n",
       "  <tbody>\n",
       "    <tr>\n",
       "      <th>1</th>\n",
       "      <td>0.149</td>\n",
       "      <td>0.170</td>\n",
       "      <td>0.506</td>\n",
       "      <td>0.157</td>\n",
       "    </tr>\n",
       "    <tr>\n",
       "      <th>2</th>\n",
       "      <td>0.164</td>\n",
       "      <td>0.168</td>\n",
       "      <td>0.543</td>\n",
       "      <td>0.109</td>\n",
       "    </tr>\n",
       "    <tr>\n",
       "      <th>3</th>\n",
       "      <td>0.185</td>\n",
       "      <td>0.208</td>\n",
       "      <td>0.449</td>\n",
       "      <td>0.138</td>\n",
       "    </tr>\n",
       "    <tr>\n",
       "      <th>4</th>\n",
       "      <td>0.158</td>\n",
       "      <td>0.168</td>\n",
       "      <td>0.525</td>\n",
       "      <td>0.130</td>\n",
       "    </tr>\n",
       "  </tbody>\n",
       "</table>\n",
       "</div>"
      ],
      "text/plain": [
       "          profile_18  profile_ready_foot  profile_products  profile_home\n",
       "store_id                                                                \n",
       "1              0.149               0.170             0.506         0.157\n",
       "2              0.164               0.168             0.543         0.109\n",
       "3              0.185               0.208             0.449         0.138\n",
       "4              0.158               0.168             0.525         0.130"
      ]
     },
     "execution_count": 87,
     "metadata": {},
     "output_type": "execute_result"
    }
   ],
   "source": [
    "magazine_profile"
   ]
  },
  {
   "cell_type": "markdown",
   "metadata": {},
   "source": [
    "Определенная чувствительность есть в определенных срезах.Присоеденим как признак к магазину"
   ]
  },
  {
   "cell_type": "code",
   "execution_count": 88,
   "metadata": {},
   "outputs": [
    {
     "data": {
      "text/plain": [
       "(7640687, 35)"
      ]
     },
     "execution_count": 88,
     "metadata": {},
     "output_type": "execute_result"
    }
   ],
   "source": [
    "train = train.merge(magazine_profile,on='store_id',how='left')\n",
    "train.shape"
   ]
  },
  {
   "cell_type": "markdown",
   "metadata": {},
   "source": [
    "Заполнение пропусков,после создание признаков"
   ]
  },
  {
   "cell_type": "markdown",
   "metadata": {},
   "source": [
    "# Заполнение пропусков"
   ]
  },
  {
   "cell_type": "code",
   "execution_count": 89,
   "metadata": {},
   "outputs": [],
   "source": [
    "isna_columns = train.isna().sum()"
   ]
  },
  {
   "cell_type": "code",
   "execution_count": 90,
   "metadata": {},
   "outputs": [
    {
     "data": {
      "text/plain": [
       "Index(['number_disc_day', 'dept_name', 'weight_volume', 'quantity_lag_7',\n",
       "       'quantity_lag_14', 'quantity_lag_30', 'discount_price_perc',\n",
       "       'discount_price_abs'],\n",
       "      dtype='object')"
      ]
     },
     "execution_count": 90,
     "metadata": {},
     "output_type": "execute_result"
    }
   ],
   "source": [
    "isna_columns.loc[isna_columns!=0].index"
   ]
  },
  {
   "cell_type": "code",
   "execution_count": 91,
   "metadata": {},
   "outputs": [],
   "source": [
    "train['number_disc_day'] = train['number_disc_day'].fillna(0)"
   ]
  },
  {
   "cell_type": "markdown",
   "metadata": {},
   "source": [
    "Если пропуск в проведении акции - значит акция не проводится.0"
   ]
  },
  {
   "cell_type": "code",
   "execution_count": 92,
   "metadata": {},
   "outputs": [],
   "source": [
    "train['dept_name'] = train['dept_name'].fillna('Unknown')"
   ]
  },
  {
   "cell_type": "markdown",
   "metadata": {},
   "source": [
    "Неизвестные категории в продукте проставим для пропусков.(Они являются новыми продуктами)"
   ]
  },
  {
   "cell_type": "code",
   "execution_count": 93,
   "metadata": {},
   "outputs": [],
   "source": [
    "train['weight_volume'] = train['weight_volume'].fillna(train['weight_volume'].median())"
   ]
  },
  {
   "cell_type": "markdown",
   "metadata": {},
   "source": [
    "Обьем коробок проставим как медиану по нашим продуктам"
   ]
  },
  {
   "cell_type": "code",
   "execution_count": 94,
   "metadata": {},
   "outputs": [],
   "source": [
    "train['discount_price_perc'] = train['discount_price_perc'].fillna(0)\n",
    "train['discount_price_abs'] = train['discount_price_abs'].fillna(0)"
   ]
  },
  {
   "cell_type": "markdown",
   "metadata": {},
   "source": [
    "Если скидки нет,значит скидки 0 "
   ]
  },
  {
   "cell_type": "code",
   "execution_count": 95,
   "metadata": {},
   "outputs": [
    {
     "data": {
      "text/plain": [
       "(7640687, 35)"
      ]
     },
     "execution_count": 95,
     "metadata": {},
     "output_type": "execute_result"
    }
   ],
   "source": [
    "train.shape"
   ]
  },
  {
   "cell_type": "markdown",
   "metadata": {},
   "source": [
    "Удалим пустые строки с лагами в 30 дней.Тк для них не можем расчитать значение."
   ]
  },
  {
   "cell_type": "code",
   "execution_count": 96,
   "metadata": {},
   "outputs": [],
   "source": [
    "train = train.dropna(subset=['quantity_lag_30'])"
   ]
  },
  {
   "cell_type": "code",
   "execution_count": 97,
   "metadata": {},
   "outputs": [
    {
     "data": {
      "text/plain": [
       "Series([], dtype: int64)"
      ]
     },
     "execution_count": 97,
     "metadata": {},
     "output_type": "execute_result"
    }
   ],
   "source": [
    "na = train.isna().sum()\n",
    "na.loc[na!=0]"
   ]
  },
  {
   "cell_type": "markdown",
   "metadata": {},
   "source": [
    "пропуски удалены"
   ]
  },
  {
   "cell_type": "markdown",
   "metadata": {},
   "source": [
    "Делим данные.  \n",
    "Тестовая выборка будет использоваться для оценки финального решения.  \n",
    "Трейн будет использоваться для разбиения на трейн и валид и тест самого трейна  "
   ]
  },
  {
   "cell_type": "code",
   "execution_count": 98,
   "metadata": {},
   "outputs": [],
   "source": [
    "SPLIT_DATE = pd.to_datetime(train['date'].max()) - MONTHS_PREDICT\n",
    "test = train.loc[pd.to_datetime(train['date'])>=SPLIT_DATE].reset_index(drop=True).copy()\n",
    "train = train.loc[pd.to_datetime(train['date'])<SPLIT_DATE].reset_index(drop=True).copy()"
   ]
  },
  {
   "cell_type": "code",
   "execution_count": 99,
   "metadata": {},
   "outputs": [
    {
     "data": {
      "text/plain": [
       "(count                          5885057\n",
       " mean     2023-11-11 02:45:57.514568192\n",
       " min                2022-09-27 00:00:00\n",
       " 25%                2023-05-27 00:00:00\n",
       " 50%                2023-12-17 00:00:00\n",
       " 75%                2024-05-03 00:00:00\n",
       " max                2024-08-25 00:00:00\n",
       " Name: date, dtype: object,\n",
       " count                           413007\n",
       " mean     2024-09-10 11:04:25.288482048\n",
       " min                2024-08-26 00:00:00\n",
       " 25%                2024-09-02 00:00:00\n",
       " 50%                2024-09-10 00:00:00\n",
       " 75%                2024-09-19 00:00:00\n",
       " max                2024-09-26 00:00:00\n",
       " Name: date, dtype: object)"
      ]
     },
     "execution_count": 99,
     "metadata": {},
     "output_type": "execute_result"
    }
   ],
   "source": [
    "train.date.describe() , test.date.describe()"
   ]
  },
  {
   "cell_type": "markdown",
   "metadata": {},
   "source": [
    "Разбито верно"
   ]
  },
  {
   "cell_type": "markdown",
   "metadata": {},
   "source": [
    "# Отбор признаков"
   ]
  },
  {
   "cell_type": "markdown",
   "metadata": {},
   "source": [
    "Отберем важные признаки по рангам на кроссвалидация через time series splitter  \n",
    "Определимся с метриками:\n",
    "- лосс RMSE ,тк наиболее сильно штрафующий за сильные недопрогноз-перепрогноз\n",
    "- метрика качества WAPE , BIAS , R2 , МАЕ\n"
   ]
  },
  {
   "cell_type": "code",
   "execution_count": 101,
   "metadata": {},
   "outputs": [],
   "source": []
  },
  {
   "cell_type": "code",
   "execution_count": 100,
   "metadata": {},
   "outputs": [],
   "source": [
    "y = train['quantity']\n",
    "train = train.drop('quantity',axis=1)\n",
    "categorycal_cols = train.select_dtypes(include=['object']).columns.to_list()"
   ]
  },
  {
   "cell_type": "code",
   "execution_count": 106,
   "metadata": {},
   "outputs": [],
   "source": [
    "train.to_parquet('train_without_target17')\n",
    "pd.DataFrame(y).to_parquet('y_train17')"
   ]
  },
  {
   "cell_type": "markdown",
   "metadata": {},
   "source": [
    "Будем собирать ключевые метрики на 5 фолдах time series splitter и важность признаков,измеренных в рангах"
   ]
  },
  {
   "cell_type": "code",
   "execution_count": 101,
   "metadata": {},
   "outputs": [
    {
     "data": {
      "application/vnd.jupyter.widget-view+json": {
       "model_id": "11a49c4e8d5e4104847238c15cf1dd09",
       "version_major": 2,
       "version_minor": 0
      },
      "text/plain": [
       "MetricVisualizer(layout=Layout(align_self='stretch', height='500px'))"
      ]
     },
     "metadata": {},
     "output_type": "display_data"
    },
    {
     "name": "stdout",
     "output_type": "stream",
     "text": [
      "Learning rate set to 0.144998\n",
      "0:\tlearn: 16.3968509\ttest: 10.0204500\tbest: 10.0204500 (0)\ttotal: 148ms\tremaining: 2m 28s\n",
      "1:\tlearn: 14.7140905\ttest: 9.0704708\tbest: 9.0704708 (1)\ttotal: 208ms\tremaining: 1m 43s\n",
      "2:\tlearn: 13.3143576\ttest: 8.3251979\tbest: 8.3251979 (2)\ttotal: 267ms\tremaining: 1m 28s\n",
      "3:\tlearn: 12.1795231\ttest: 7.7884429\tbest: 7.7884429 (3)\ttotal: 335ms\tremaining: 1m 23s\n",
      "4:\tlearn: 11.2388376\ttest: 7.3608942\tbest: 7.3608942 (4)\ttotal: 392ms\tremaining: 1m 18s\n",
      "5:\tlearn: 10.4722466\ttest: 6.9949050\tbest: 6.9949050 (5)\ttotal: 439ms\tremaining: 1m 12s\n",
      "6:\tlearn: 9.8529698\ttest: 6.7680793\tbest: 6.7680793 (6)\ttotal: 491ms\tremaining: 1m 9s\n",
      "7:\tlearn: 9.3522630\ttest: 6.5345625\tbest: 6.5345625 (7)\ttotal: 541ms\tremaining: 1m 7s\n",
      "8:\tlearn: 8.9432574\ttest: 6.3708099\tbest: 6.3708099 (8)\ttotal: 585ms\tremaining: 1m 4s\n",
      "9:\tlearn: 8.5659534\ttest: 6.2618271\tbest: 6.2618271 (9)\ttotal: 633ms\tremaining: 1m 2s\n",
      "10:\tlearn: 8.2885245\ttest: 6.1563293\tbest: 6.1563293 (10)\ttotal: 693ms\tremaining: 1m 2s\n",
      "11:\tlearn: 8.0851455\ttest: 6.0765603\tbest: 6.0765603 (11)\ttotal: 744ms\tremaining: 1m 1s\n",
      "12:\tlearn: 7.9097354\ttest: 5.9997984\tbest: 5.9997984 (12)\ttotal: 810ms\tremaining: 1m 1s\n",
      "13:\tlearn: 7.7453342\ttest: 5.9413485\tbest: 5.9413485 (13)\ttotal: 872ms\tremaining: 1m 1s\n",
      "14:\tlearn: 7.6399416\ttest: 5.9211750\tbest: 5.9211750 (14)\ttotal: 930ms\tremaining: 1m 1s\n",
      "15:\tlearn: 7.5416689\ttest: 5.9004114\tbest: 5.9004114 (15)\ttotal: 989ms\tremaining: 1m\n",
      "16:\tlearn: 7.4405927\ttest: 5.8967331\tbest: 5.8967331 (16)\ttotal: 1.05s\tremaining: 1m\n",
      "17:\tlearn: 7.3660379\ttest: 5.8619056\tbest: 5.8619056 (17)\ttotal: 1.11s\tremaining: 1m\n",
      "18:\tlearn: 7.2691542\ttest: 5.8603346\tbest: 5.8603346 (18)\ttotal: 1.17s\tremaining: 1m\n",
      "19:\tlearn: 7.2070404\ttest: 5.8536690\tbest: 5.8536690 (19)\ttotal: 1.24s\tremaining: 1m\n",
      "20:\tlearn: 7.1558471\ttest: 5.8462123\tbest: 5.8462123 (20)\ttotal: 1.29s\tremaining: 1m\n",
      "21:\tlearn: 7.1181679\ttest: 5.8402323\tbest: 5.8402323 (21)\ttotal: 1.35s\tremaining: 60s\n",
      "22:\tlearn: 7.0572378\ttest: 5.8229351\tbest: 5.8229351 (22)\ttotal: 1.41s\tremaining: 59.9s\n",
      "23:\tlearn: 7.0264587\ttest: 5.8122510\tbest: 5.8122510 (23)\ttotal: 1.46s\tremaining: 59.4s\n",
      "24:\tlearn: 6.9825559\ttest: 5.8680967\tbest: 5.8122510 (23)\ttotal: 1.52s\tremaining: 59.5s\n",
      "25:\tlearn: 6.9496892\ttest: 5.8754793\tbest: 5.8122510 (23)\ttotal: 1.58s\tremaining: 59.4s\n",
      "26:\tlearn: 6.9255764\ttest: 5.8673580\tbest: 5.8122510 (23)\ttotal: 1.65s\tremaining: 59.3s\n",
      "27:\tlearn: 6.9007730\ttest: 5.8484681\tbest: 5.8122510 (23)\ttotal: 1.69s\tremaining: 58.8s\n",
      "28:\tlearn: 6.8766971\ttest: 5.8482202\tbest: 5.8122510 (23)\ttotal: 1.75s\tremaining: 58.6s\n",
      "29:\tlearn: 6.8392276\ttest: 5.8466671\tbest: 5.8122510 (23)\ttotal: 1.8s\tremaining: 58.3s\n",
      "30:\tlearn: 6.8094769\ttest: 5.8432753\tbest: 5.8122510 (23)\ttotal: 1.86s\tremaining: 58.2s\n",
      "31:\tlearn: 6.7932933\ttest: 5.8418396\tbest: 5.8122510 (23)\ttotal: 1.92s\tremaining: 58s\n",
      "32:\tlearn: 6.7586076\ttest: 5.8346794\tbest: 5.8122510 (23)\ttotal: 1.97s\tremaining: 57.6s\n",
      "33:\tlearn: 6.7400775\ttest: 5.8339181\tbest: 5.8122510 (23)\ttotal: 2.01s\tremaining: 57.2s\n",
      "34:\tlearn: 6.7267129\ttest: 5.8276230\tbest: 5.8122510 (23)\ttotal: 2.06s\tremaining: 56.9s\n",
      "35:\tlearn: 6.6991578\ttest: 5.8272074\tbest: 5.8122510 (23)\ttotal: 2.12s\tremaining: 56.7s\n",
      "36:\tlearn: 6.6767707\ttest: 5.8196878\tbest: 5.8122510 (23)\ttotal: 2.18s\tremaining: 56.7s\n",
      "37:\tlearn: 6.6626955\ttest: 5.8188723\tbest: 5.8122510 (23)\ttotal: 2.24s\tremaining: 56.8s\n",
      "38:\tlearn: 6.6397508\ttest: 5.8152503\tbest: 5.8122510 (23)\ttotal: 2.31s\tremaining: 56.8s\n",
      "39:\tlearn: 6.6316872\ttest: 5.8105752\tbest: 5.8105752 (39)\ttotal: 2.35s\tremaining: 56.4s\n",
      "40:\tlearn: 6.6173443\ttest: 5.8075748\tbest: 5.8075748 (40)\ttotal: 2.4s\tremaining: 56.3s\n",
      "41:\tlearn: 6.5863487\ttest: 5.7956578\tbest: 5.7956578 (41)\ttotal: 2.46s\tremaining: 56.2s\n",
      "42:\tlearn: 6.5780705\ttest: 5.7959850\tbest: 5.7956578 (41)\ttotal: 2.5s\tremaining: 55.7s\n",
      "43:\tlearn: 6.5692512\ttest: 5.7900086\tbest: 5.7900086 (43)\ttotal: 2.56s\tremaining: 55.5s\n",
      "44:\tlearn: 6.5393940\ttest: 5.7885584\tbest: 5.7885584 (44)\ttotal: 2.6s\tremaining: 55.3s\n",
      "45:\tlearn: 6.5222906\ttest: 5.8076056\tbest: 5.7885584 (44)\ttotal: 2.65s\tremaining: 54.9s\n",
      "46:\tlearn: 6.5088987\ttest: 5.7989500\tbest: 5.7885584 (44)\ttotal: 2.7s\tremaining: 54.8s\n",
      "47:\tlearn: 6.5031448\ttest: 5.7971402\tbest: 5.7885584 (44)\ttotal: 2.75s\tremaining: 54.5s\n",
      "48:\tlearn: 6.4913553\ttest: 5.7905287\tbest: 5.7885584 (44)\ttotal: 2.8s\tremaining: 54.4s\n",
      "49:\tlearn: 6.4750915\ttest: 5.7899376\tbest: 5.7885584 (44)\ttotal: 2.86s\tremaining: 54.4s\n",
      "50:\tlearn: 6.4603972\ttest: 5.7907464\tbest: 5.7885584 (44)\ttotal: 2.91s\tremaining: 54.2s\n",
      "51:\tlearn: 6.4519021\ttest: 5.7863181\tbest: 5.7863181 (51)\ttotal: 2.97s\tremaining: 54.2s\n",
      "52:\tlearn: 6.4418695\ttest: 5.7834442\tbest: 5.7834442 (52)\ttotal: 3.04s\tremaining: 54.2s\n",
      "53:\tlearn: 6.4279321\ttest: 5.7770485\tbest: 5.7770485 (53)\ttotal: 3.09s\tremaining: 54.1s\n",
      "54:\tlearn: 6.4178282\ttest: 5.7774373\tbest: 5.7770485 (53)\ttotal: 3.15s\tremaining: 54.1s\n",
      "55:\tlearn: 6.4105888\ttest: 5.7773636\tbest: 5.7770485 (53)\ttotal: 3.19s\tremaining: 53.8s\n",
      "56:\tlearn: 6.4013691\ttest: 5.7750838\tbest: 5.7750838 (56)\ttotal: 3.26s\tremaining: 53.9s\n",
      "57:\tlearn: 6.3972435\ttest: 5.7748645\tbest: 5.7748645 (57)\ttotal: 3.33s\tremaining: 54.1s\n",
      "58:\tlearn: 6.3900257\ttest: 5.7734193\tbest: 5.7734193 (58)\ttotal: 3.39s\tremaining: 54.1s\n",
      "59:\tlearn: 6.3841032\ttest: 5.7693701\tbest: 5.7693701 (59)\ttotal: 3.44s\tremaining: 53.8s\n",
      "60:\tlearn: 6.3734679\ttest: 5.7646558\tbest: 5.7646558 (60)\ttotal: 3.49s\tremaining: 53.7s\n",
      "61:\tlearn: 6.3687942\ttest: 5.7627197\tbest: 5.7627197 (61)\ttotal: 3.54s\tremaining: 53.5s\n",
      "62:\tlearn: 6.3550462\ttest: 5.7781597\tbest: 5.7627197 (61)\ttotal: 3.59s\tremaining: 53.4s\n",
      "63:\tlearn: 6.3469165\ttest: 5.7596887\tbest: 5.7596887 (63)\ttotal: 3.65s\tremaining: 53.3s\n",
      "64:\tlearn: 6.3358672\ttest: 5.7594762\tbest: 5.7594762 (64)\ttotal: 3.7s\tremaining: 53.2s\n",
      "65:\tlearn: 6.3294255\ttest: 5.7588918\tbest: 5.7588918 (65)\ttotal: 3.76s\tremaining: 53.2s\n",
      "66:\tlearn: 6.3199801\ttest: 5.7585784\tbest: 5.7585784 (66)\ttotal: 3.81s\tremaining: 53s\n",
      "67:\tlearn: 6.3127365\ttest: 5.7549181\tbest: 5.7549181 (67)\ttotal: 3.87s\tremaining: 53s\n",
      "68:\tlearn: 6.3068514\ttest: 5.7541792\tbest: 5.7541792 (68)\ttotal: 3.93s\tremaining: 53s\n",
      "69:\tlearn: 6.3024649\ttest: 5.7537864\tbest: 5.7537864 (69)\ttotal: 3.99s\tremaining: 53s\n",
      "70:\tlearn: 6.2940221\ttest: 5.7536209\tbest: 5.7536209 (70)\ttotal: 4.04s\tremaining: 52.9s\n",
      "71:\tlearn: 6.2842707\ttest: 5.7526847\tbest: 5.7526847 (71)\ttotal: 4.09s\tremaining: 52.7s\n",
      "72:\tlearn: 6.2740113\ttest: 5.7382665\tbest: 5.7382665 (72)\ttotal: 4.14s\tremaining: 52.6s\n",
      "73:\tlearn: 6.2661273\ttest: 5.7355539\tbest: 5.7355539 (73)\ttotal: 4.2s\tremaining: 52.6s\n",
      "74:\tlearn: 6.2523878\ttest: 5.7349985\tbest: 5.7349985 (74)\ttotal: 4.26s\tremaining: 52.6s\n",
      "75:\tlearn: 6.2456722\ttest: 5.7347136\tbest: 5.7347136 (75)\ttotal: 4.32s\tremaining: 52.5s\n",
      "76:\tlearn: 6.2410778\ttest: 5.7347245\tbest: 5.7347136 (75)\ttotal: 4.38s\tremaining: 52.5s\n",
      "77:\tlearn: 6.2334844\ttest: 5.7726802\tbest: 5.7347136 (75)\ttotal: 4.43s\tremaining: 52.3s\n",
      "78:\tlearn: 6.2258443\ttest: 5.7719583\tbest: 5.7347136 (75)\ttotal: 4.48s\tremaining: 52.2s\n",
      "79:\tlearn: 6.2238580\ttest: 5.7717400\tbest: 5.7347136 (75)\ttotal: 4.54s\tremaining: 52.3s\n",
      "80:\tlearn: 6.2156516\ttest: 5.7704378\tbest: 5.7347136 (75)\ttotal: 4.6s\tremaining: 52.2s\n",
      "81:\tlearn: 6.2111262\ttest: 5.7706387\tbest: 5.7347136 (75)\ttotal: 4.66s\tremaining: 52.2s\n",
      "82:\tlearn: 6.2005110\ttest: 5.7690972\tbest: 5.7347136 (75)\ttotal: 4.71s\tremaining: 52s\n",
      "83:\tlearn: 6.1875603\ttest: 5.7738018\tbest: 5.7347136 (75)\ttotal: 4.76s\tremaining: 51.9s\n",
      "84:\tlearn: 6.1822643\ttest: 5.7715015\tbest: 5.7347136 (75)\ttotal: 4.81s\tremaining: 51.8s\n",
      "85:\tlearn: 6.1720507\ttest: 5.7944182\tbest: 5.7347136 (75)\ttotal: 4.86s\tremaining: 51.7s\n",
      "86:\tlearn: 6.1657207\ttest: 5.7935926\tbest: 5.7347136 (75)\ttotal: 4.91s\tremaining: 51.5s\n",
      "87:\tlearn: 6.1590772\ttest: 5.7924250\tbest: 5.7347136 (75)\ttotal: 4.97s\tremaining: 51.5s\n",
      "88:\tlearn: 6.1537159\ttest: 5.7899936\tbest: 5.7347136 (75)\ttotal: 5.02s\tremaining: 51.3s\n",
      "89:\tlearn: 6.1514311\ttest: 5.7889983\tbest: 5.7347136 (75)\ttotal: 5.08s\tremaining: 51.4s\n",
      "90:\tlearn: 6.1443994\ttest: 5.7887783\tbest: 5.7347136 (75)\ttotal: 5.13s\tremaining: 51.2s\n",
      "91:\tlearn: 6.1395930\ttest: 5.7873347\tbest: 5.7347136 (75)\ttotal: 5.17s\tremaining: 51.1s\n",
      "92:\tlearn: 6.1335467\ttest: 5.7822307\tbest: 5.7347136 (75)\ttotal: 5.22s\tremaining: 51s\n",
      "93:\tlearn: 6.1259527\ttest: 5.7917468\tbest: 5.7347136 (75)\ttotal: 5.27s\tremaining: 50.8s\n",
      "94:\tlearn: 6.1200573\ttest: 5.7889989\tbest: 5.7347136 (75)\ttotal: 5.33s\tremaining: 50.8s\n",
      "95:\tlearn: 6.1131419\ttest: 5.7896833\tbest: 5.7347136 (75)\ttotal: 5.39s\tremaining: 50.8s\n",
      "96:\tlearn: 6.1068769\ttest: 5.7897023\tbest: 5.7347136 (75)\ttotal: 5.45s\tremaining: 50.7s\n",
      "97:\tlearn: 6.0996605\ttest: 5.7893331\tbest: 5.7347136 (75)\ttotal: 5.5s\tremaining: 50.6s\n",
      "98:\tlearn: 6.0930586\ttest: 5.7874919\tbest: 5.7347136 (75)\ttotal: 5.55s\tremaining: 50.6s\n",
      "99:\tlearn: 6.0844247\ttest: 5.8022368\tbest: 5.7347136 (75)\ttotal: 5.6s\tremaining: 50.4s\n",
      "100:\tlearn: 6.0800804\ttest: 5.8010061\tbest: 5.7347136 (75)\ttotal: 5.66s\tremaining: 50.3s\n",
      "101:\tlearn: 6.0718029\ttest: 5.8005049\tbest: 5.7347136 (75)\ttotal: 5.72s\tremaining: 50.3s\n",
      "102:\tlearn: 6.0660148\ttest: 5.8007795\tbest: 5.7347136 (75)\ttotal: 5.78s\tremaining: 50.4s\n",
      "103:\tlearn: 6.0629020\ttest: 5.8009125\tbest: 5.7347136 (75)\ttotal: 5.84s\tremaining: 50.3s\n",
      "104:\tlearn: 6.0571152\ttest: 5.8005864\tbest: 5.7347136 (75)\ttotal: 5.89s\tremaining: 50.2s\n",
      "105:\tlearn: 6.0517519\ttest: 5.8035197\tbest: 5.7347136 (75)\ttotal: 5.93s\tremaining: 50s\n",
      "106:\tlearn: 6.0464591\ttest: 5.8074465\tbest: 5.7347136 (75)\ttotal: 5.99s\tremaining: 50s\n",
      "107:\tlearn: 6.0411006\ttest: 5.8077623\tbest: 5.7347136 (75)\ttotal: 6.04s\tremaining: 49.8s\n",
      "108:\tlearn: 6.0356133\ttest: 5.8072493\tbest: 5.7347136 (75)\ttotal: 6.1s\tremaining: 49.8s\n",
      "109:\tlearn: 6.0286784\ttest: 5.8070964\tbest: 5.7347136 (75)\ttotal: 6.16s\tremaining: 49.8s\n",
      "110:\tlearn: 6.0230513\ttest: 5.8078413\tbest: 5.7347136 (75)\ttotal: 6.2s\tremaining: 49.7s\n",
      "111:\tlearn: 6.0129762\ttest: 5.8105710\tbest: 5.7347136 (75)\ttotal: 6.27s\tremaining: 49.7s\n",
      "112:\tlearn: 6.0099701\ttest: 5.8074488\tbest: 5.7347136 (75)\ttotal: 6.32s\tremaining: 49.6s\n",
      "113:\tlearn: 6.0063749\ttest: 5.8069006\tbest: 5.7347136 (75)\ttotal: 6.37s\tremaining: 49.5s\n",
      "114:\tlearn: 6.0020860\ttest: 5.8069920\tbest: 5.7347136 (75)\ttotal: 6.42s\tremaining: 49.4s\n",
      "115:\tlearn: 5.9931078\ttest: 5.8033403\tbest: 5.7347136 (75)\ttotal: 6.48s\tremaining: 49.4s\n",
      "116:\tlearn: 5.9896526\ttest: 5.7999769\tbest: 5.7347136 (75)\ttotal: 6.53s\tremaining: 49.3s\n",
      "117:\tlearn: 5.9833058\ttest: 5.7991198\tbest: 5.7347136 (75)\ttotal: 6.59s\tremaining: 49.2s\n",
      "118:\tlearn: 5.9771134\ttest: 5.8776056\tbest: 5.7347136 (75)\ttotal: 6.63s\tremaining: 49.1s\n",
      "119:\tlearn: 5.9737377\ttest: 5.8824332\tbest: 5.7347136 (75)\ttotal: 6.69s\tremaining: 49.1s\n",
      "120:\tlearn: 5.9712773\ttest: 5.8806793\tbest: 5.7347136 (75)\ttotal: 6.74s\tremaining: 49s\n",
      "121:\tlearn: 5.9663041\ttest: 5.8793270\tbest: 5.7347136 (75)\ttotal: 6.79s\tremaining: 48.9s\n",
      "122:\tlearn: 5.9615271\ttest: 5.9963654\tbest: 5.7347136 (75)\ttotal: 6.85s\tremaining: 48.8s\n",
      "123:\tlearn: 5.9542110\ttest: 5.9959733\tbest: 5.7347136 (75)\ttotal: 6.91s\tremaining: 48.8s\n",
      "124:\tlearn: 5.9486057\ttest: 5.9959723\tbest: 5.7347136 (75)\ttotal: 6.95s\tremaining: 48.7s\n",
      "125:\tlearn: 5.9428408\ttest: 5.9957908\tbest: 5.7347136 (75)\ttotal: 7s\tremaining: 48.6s\n",
      "Stopped by overfitting detector  (50 iterations wait)\n",
      "\n",
      "bestTest = 5.734713613\n",
      "bestIteration = 75\n",
      "\n",
      "Shrink model to first 76 iterations.\n"
     ]
    },
    {
     "data": {
      "application/vnd.jupyter.widget-view+json": {
       "model_id": "f38cb2c553f94383abf60e44f7a8d859",
       "version_major": 2,
       "version_minor": 0
      },
      "text/plain": [
       "MetricVisualizer(layout=Layout(align_self='stretch', height='500px'))"
      ]
     },
     "metadata": {},
     "output_type": "display_data"
    },
    {
     "name": "stdout",
     "output_type": "stream",
     "text": [
      "Learning rate set to 0.161668\n",
      "0:\tlearn: 14.3792866\ttest: 9.8155364\tbest: 9.8155364 (0)\ttotal: 97.4ms\tremaining: 1m 37s\n",
      "1:\tlearn: 12.7811001\ttest: 8.9623677\tbest: 8.9623677 (1)\ttotal: 193ms\tremaining: 1m 36s\n",
      "2:\tlearn: 11.5099052\ttest: 8.3505402\tbest: 8.3505402 (2)\ttotal: 293ms\tremaining: 1m 37s\n",
      "3:\tlearn: 10.4952196\ttest: 7.7812212\tbest: 7.7812212 (3)\ttotal: 424ms\tremaining: 1m 45s\n",
      "4:\tlearn: 9.6869809\ttest: 7.3607812\tbest: 7.3607812 (4)\ttotal: 530ms\tremaining: 1m 45s\n",
      "5:\tlearn: 9.0569067\ttest: 7.0414229\tbest: 7.0414229 (5)\ttotal: 637ms\tremaining: 1m 45s\n",
      "6:\tlearn: 8.5664127\ttest: 6.8158541\tbest: 6.8158541 (6)\ttotal: 757ms\tremaining: 1m 47s\n",
      "7:\tlearn: 8.1923409\ttest: 6.6463634\tbest: 6.6463634 (7)\ttotal: 887ms\tremaining: 1m 50s\n",
      "8:\tlearn: 7.8862911\ttest: 6.5185704\tbest: 6.5185704 (8)\ttotal: 1.03s\tremaining: 1m 53s\n",
      "9:\tlearn: 7.6463256\ttest: 6.3958218\tbest: 6.3958218 (9)\ttotal: 1.16s\tremaining: 1m 54s\n",
      "10:\tlearn: 7.4692478\ttest: 6.3085204\tbest: 6.3085204 (10)\ttotal: 1.27s\tremaining: 1m 53s\n",
      "11:\tlearn: 7.3225281\ttest: 6.2425878\tbest: 6.2425878 (11)\ttotal: 1.4s\tremaining: 1m 55s\n",
      "12:\tlearn: 7.2016919\ttest: 6.1877727\tbest: 6.1877727 (12)\ttotal: 1.52s\tremaining: 1m 55s\n",
      "13:\tlearn: 7.0769849\ttest: 6.2505798\tbest: 6.1877727 (12)\ttotal: 1.63s\tremaining: 1m 54s\n",
      "14:\tlearn: 6.9985893\ttest: 6.2281941\tbest: 6.1877727 (12)\ttotal: 1.75s\tremaining: 1m 55s\n",
      "15:\tlearn: 6.9094130\ttest: 6.2044305\tbest: 6.1877727 (12)\ttotal: 1.86s\tremaining: 1m 54s\n",
      "16:\tlearn: 6.8468542\ttest: 6.1852004\tbest: 6.1852004 (16)\ttotal: 1.96s\tremaining: 1m 53s\n",
      "17:\tlearn: 6.7979394\ttest: 6.1643342\tbest: 6.1643342 (17)\ttotal: 2.07s\tremaining: 1m 53s\n",
      "18:\tlearn: 6.7597843\ttest: 6.1445378\tbest: 6.1445378 (18)\ttotal: 2.19s\tremaining: 1m 53s\n",
      "19:\tlearn: 6.7221569\ttest: 6.1355216\tbest: 6.1355216 (19)\ttotal: 2.32s\tremaining: 1m 53s\n",
      "20:\tlearn: 6.6857044\ttest: 6.1272465\tbest: 6.1272465 (20)\ttotal: 2.44s\tremaining: 1m 53s\n",
      "21:\tlearn: 6.6577259\ttest: 6.1216860\tbest: 6.1216860 (21)\ttotal: 2.56s\tremaining: 1m 53s\n",
      "22:\tlearn: 6.6175093\ttest: 6.1161449\tbest: 6.1161449 (22)\ttotal: 2.69s\tremaining: 1m 54s\n",
      "23:\tlearn: 6.5957146\ttest: 6.1023638\tbest: 6.1023638 (23)\ttotal: 2.79s\tremaining: 1m 53s\n",
      "24:\tlearn: 6.5597860\ttest: 6.1047654\tbest: 6.1023638 (23)\ttotal: 2.88s\tremaining: 1m 52s\n",
      "25:\tlearn: 6.5333978\ttest: 6.1006786\tbest: 6.1006786 (25)\ttotal: 3s\tremaining: 1m 52s\n",
      "26:\tlearn: 6.5167106\ttest: 6.0965110\tbest: 6.0965110 (26)\ttotal: 3.13s\tremaining: 1m 52s\n",
      "27:\tlearn: 6.4842754\ttest: 6.0934453\tbest: 6.0934453 (27)\ttotal: 3.26s\tremaining: 1m 53s\n",
      "28:\tlearn: 6.4646931\ttest: 6.0907159\tbest: 6.0907159 (28)\ttotal: 3.36s\tremaining: 1m 52s\n",
      "29:\tlearn: 6.4464889\ttest: 6.2312972\tbest: 6.0907159 (28)\ttotal: 3.47s\tremaining: 1m 52s\n",
      "30:\tlearn: 6.4270454\ttest: 6.2248320\tbest: 6.0907159 (28)\ttotal: 3.58s\tremaining: 1m 51s\n",
      "31:\tlearn: 6.4087055\ttest: 6.2240730\tbest: 6.0907159 (28)\ttotal: 3.7s\tremaining: 1m 51s\n",
      "32:\tlearn: 6.3842677\ttest: 6.2273234\tbest: 6.0907159 (28)\ttotal: 3.79s\tremaining: 1m 51s\n",
      "33:\tlearn: 6.3626857\ttest: 6.2237936\tbest: 6.0907159 (28)\ttotal: 3.9s\tremaining: 1m 50s\n",
      "34:\tlearn: 6.3461469\ttest: 6.2157766\tbest: 6.0907159 (28)\ttotal: 4.01s\tremaining: 1m 50s\n",
      "35:\tlearn: 6.3332029\ttest: 6.2127317\tbest: 6.0907159 (28)\ttotal: 4.11s\tremaining: 1m 50s\n",
      "36:\tlearn: 6.3254872\ttest: 6.2087802\tbest: 6.0907159 (28)\ttotal: 4.25s\tremaining: 1m 50s\n",
      "37:\tlearn: 6.3119887\ttest: 6.2013151\tbest: 6.0907159 (28)\ttotal: 4.37s\tremaining: 1m 50s\n",
      "38:\tlearn: 6.3022019\ttest: 6.1972620\tbest: 6.0907159 (28)\ttotal: 4.46s\tremaining: 1m 49s\n",
      "39:\tlearn: 6.2888025\ttest: 6.1929431\tbest: 6.0907159 (28)\ttotal: 4.55s\tremaining: 1m 49s\n",
      "40:\tlearn: 6.2768710\ttest: 6.1868435\tbest: 6.0907159 (28)\ttotal: 4.65s\tremaining: 1m 48s\n",
      "41:\tlearn: 6.2636183\ttest: 6.1804455\tbest: 6.0907159 (28)\ttotal: 4.75s\tremaining: 1m 48s\n",
      "42:\tlearn: 6.2443288\ttest: 6.1811942\tbest: 6.0907159 (28)\ttotal: 4.85s\tremaining: 1m 47s\n",
      "43:\tlearn: 6.2209061\ttest: 6.1782009\tbest: 6.0907159 (28)\ttotal: 4.97s\tremaining: 1m 48s\n",
      "44:\tlearn: 6.2089767\ttest: 6.1769146\tbest: 6.0907159 (28)\ttotal: 5.08s\tremaining: 1m 47s\n",
      "45:\tlearn: 6.2012498\ttest: 6.1750076\tbest: 6.0907159 (28)\ttotal: 5.21s\tremaining: 1m 48s\n",
      "46:\tlearn: 6.1914355\ttest: 6.1716737\tbest: 6.0907159 (28)\ttotal: 5.32s\tremaining: 1m 47s\n",
      "47:\tlearn: 6.1811447\ttest: 6.1630227\tbest: 6.0907159 (28)\ttotal: 5.42s\tremaining: 1m 47s\n",
      "48:\tlearn: 6.1724641\ttest: 6.1653646\tbest: 6.0907159 (28)\ttotal: 5.53s\tremaining: 1m 47s\n",
      "49:\tlearn: 6.1586880\ttest: 6.1652043\tbest: 6.0907159 (28)\ttotal: 5.66s\tremaining: 1m 47s\n",
      "50:\tlearn: 6.1445076\ttest: 6.1611952\tbest: 6.0907159 (28)\ttotal: 5.78s\tremaining: 1m 47s\n",
      "51:\tlearn: 6.1329888\ttest: 6.1619285\tbest: 6.0907159 (28)\ttotal: 5.89s\tremaining: 1m 47s\n",
      "52:\tlearn: 6.1249405\ttest: 6.1591934\tbest: 6.0907159 (28)\ttotal: 6s\tremaining: 1m 47s\n",
      "53:\tlearn: 6.1116725\ttest: 6.1582374\tbest: 6.0907159 (28)\ttotal: 6.1s\tremaining: 1m 46s\n",
      "54:\tlearn: 6.1044836\ttest: 6.1559670\tbest: 6.0907159 (28)\ttotal: 6.2s\tremaining: 1m 46s\n",
      "55:\tlearn: 6.0926481\ttest: 6.1534733\tbest: 6.0907159 (28)\ttotal: 6.31s\tremaining: 1m 46s\n",
      "56:\tlearn: 6.0813014\ttest: 6.1503791\tbest: 6.0907159 (28)\ttotal: 6.41s\tremaining: 1m 46s\n",
      "57:\tlearn: 6.0660573\ttest: 6.1492668\tbest: 6.0907159 (28)\ttotal: 6.51s\tremaining: 1m 45s\n",
      "58:\tlearn: 6.0624322\ttest: 6.1489325\tbest: 6.0907159 (28)\ttotal: 6.64s\tremaining: 1m 45s\n",
      "59:\tlearn: 6.0526455\ttest: 6.1478650\tbest: 6.0907159 (28)\ttotal: 6.73s\tremaining: 1m 45s\n",
      "60:\tlearn: 6.0458715\ttest: 6.1441499\tbest: 6.0907159 (28)\ttotal: 6.86s\tremaining: 1m 45s\n",
      "61:\tlearn: 6.0336804\ttest: 6.1440278\tbest: 6.0907159 (28)\ttotal: 6.99s\tremaining: 1m 45s\n",
      "62:\tlearn: 6.0276933\ttest: 6.1349152\tbest: 6.0907159 (28)\ttotal: 7.12s\tremaining: 1m 45s\n",
      "63:\tlearn: 6.0208732\ttest: 6.1393815\tbest: 6.0907159 (28)\ttotal: 7.24s\tremaining: 1m 45s\n",
      "64:\tlearn: 6.0106539\ttest: 6.1387298\tbest: 6.0907159 (28)\ttotal: 7.35s\tremaining: 1m 45s\n",
      "65:\tlearn: 6.0057847\ttest: 6.1378948\tbest: 6.0907159 (28)\ttotal: 7.46s\tremaining: 1m 45s\n",
      "66:\tlearn: 5.9920584\ttest: 6.1368403\tbest: 6.0907159 (28)\ttotal: 7.58s\tremaining: 1m 45s\n",
      "67:\tlearn: 5.9892992\ttest: 6.1355671\tbest: 6.0907159 (28)\ttotal: 7.72s\tremaining: 1m 45s\n",
      "68:\tlearn: 5.9771519\ttest: 6.1324833\tbest: 6.0907159 (28)\ttotal: 7.83s\tremaining: 1m 45s\n",
      "69:\tlearn: 5.9717764\ttest: 6.1317652\tbest: 6.0907159 (28)\ttotal: 7.95s\tremaining: 1m 45s\n",
      "70:\tlearn: 5.9661793\ttest: 6.1286810\tbest: 6.0907159 (28)\ttotal: 8.05s\tremaining: 1m 45s\n",
      "71:\tlearn: 5.9599583\ttest: 6.1302171\tbest: 6.0907159 (28)\ttotal: 8.15s\tremaining: 1m 45s\n",
      "72:\tlearn: 5.9537796\ttest: 6.1300898\tbest: 6.0907159 (28)\ttotal: 8.25s\tremaining: 1m 44s\n",
      "73:\tlearn: 5.9510487\ttest: 6.1298830\tbest: 6.0907159 (28)\ttotal: 8.38s\tremaining: 1m 44s\n",
      "74:\tlearn: 5.9436412\ttest: 6.1232933\tbest: 6.0907159 (28)\ttotal: 8.51s\tremaining: 1m 44s\n",
      "75:\tlearn: 5.9347827\ttest: 6.1226335\tbest: 6.0907159 (28)\ttotal: 8.61s\tremaining: 1m 44s\n",
      "76:\tlearn: 5.9262207\ttest: 6.1211582\tbest: 6.0907159 (28)\ttotal: 8.73s\tremaining: 1m 44s\n",
      "77:\tlearn: 5.9231412\ttest: 6.1187395\tbest: 6.0907159 (28)\ttotal: 8.84s\tremaining: 1m 44s\n",
      "78:\tlearn: 5.9197486\ttest: 6.1174121\tbest: 6.0907159 (28)\ttotal: 8.95s\tremaining: 1m 44s\n",
      "Stopped by overfitting detector  (50 iterations wait)\n",
      "\n",
      "bestTest = 6.090715856\n",
      "bestIteration = 28\n",
      "\n",
      "Shrink model to first 29 iterations.\n"
     ]
    },
    {
     "data": {
      "application/vnd.jupyter.widget-view+json": {
       "model_id": "c94b6908e4d646009947b77ad6887314",
       "version_major": 2,
       "version_minor": 0
      },
      "text/plain": [
       "MetricVisualizer(layout=Layout(align_self='stretch', height='500px'))"
      ]
     },
     "metadata": {},
     "output_type": "display_data"
    },
    {
     "name": "stdout",
     "output_type": "stream",
     "text": [
      "Learning rate set to 0.172294\n",
      "0:\tlearn: 16.1174417\ttest: 18.0621310\tbest: 18.0621310 (0)\ttotal: 186ms\tremaining: 3m 5s\n",
      "1:\tlearn: 14.0951272\ttest: 16.5308045\tbest: 16.5308045 (1)\ttotal: 370ms\tremaining: 3m 4s\n",
      "2:\tlearn: 12.4981477\ttest: 15.4708412\tbest: 15.4708412 (2)\ttotal: 530ms\tremaining: 2m 56s\n",
      "3:\tlearn: 11.2477840\ttest: 14.6476707\tbest: 14.6476707 (3)\ttotal: 702ms\tremaining: 2m 54s\n",
      "4:\tlearn: 10.2749317\ttest: 14.1120936\tbest: 14.1120936 (4)\ttotal: 855ms\tremaining: 2m 50s\n",
      "5:\tlearn: 9.5194280\ttest: 13.6646816\tbest: 13.6646816 (5)\ttotal: 1.04s\tremaining: 2m 52s\n",
      "6:\tlearn: 8.9563826\ttest: 13.3299969\tbest: 13.3299969 (6)\ttotal: 1.2s\tremaining: 2m 50s\n",
      "7:\tlearn: 8.5073196\ttest: 13.0782556\tbest: 13.0782556 (7)\ttotal: 1.41s\tremaining: 2m 54s\n",
      "8:\tlearn: 8.1716011\ttest: 12.9129654\tbest: 12.9129654 (8)\ttotal: 1.56s\tremaining: 2m 52s\n",
      "9:\tlearn: 7.9088429\ttest: 12.7953820\tbest: 12.7953820 (9)\ttotal: 1.74s\tremaining: 2m 52s\n",
      "10:\tlearn: 7.7110890\ttest: 12.7153741\tbest: 12.7153741 (10)\ttotal: 1.92s\tremaining: 2m 52s\n",
      "11:\tlearn: 7.5596047\ttest: 12.6560053\tbest: 12.6560053 (11)\ttotal: 2.12s\tremaining: 2m 54s\n",
      "12:\tlearn: 7.4330320\ttest: 12.5978602\tbest: 12.5978602 (12)\ttotal: 2.31s\tremaining: 2m 55s\n",
      "13:\tlearn: 7.3466227\ttest: 12.5002771\tbest: 12.5002771 (13)\ttotal: 2.47s\tremaining: 2m 53s\n",
      "14:\tlearn: 7.2722872\ttest: 12.4835699\tbest: 12.4835699 (14)\ttotal: 2.66s\tremaining: 2m 54s\n",
      "15:\tlearn: 7.2116175\ttest: 12.4086820\tbest: 12.4086820 (15)\ttotal: 2.86s\tremaining: 2m 55s\n",
      "16:\tlearn: 7.1538975\ttest: 12.3891718\tbest: 12.3891718 (16)\ttotal: 3.01s\tremaining: 2m 54s\n",
      "17:\tlearn: 7.1037304\ttest: 12.3764779\tbest: 12.3764779 (17)\ttotal: 3.21s\tremaining: 2m 54s\n",
      "18:\tlearn: 7.0657076\ttest: 12.3695767\tbest: 12.3695767 (18)\ttotal: 3.4s\tremaining: 2m 55s\n",
      "19:\tlearn: 7.0036140\ttest: 12.3287529\tbest: 12.3287529 (19)\ttotal: 3.58s\tremaining: 2m 55s\n",
      "20:\tlearn: 6.9511400\ttest: 12.3155054\tbest: 12.3155054 (20)\ttotal: 3.76s\tremaining: 2m 55s\n",
      "21:\tlearn: 6.9156892\ttest: 12.3104958\tbest: 12.3104958 (21)\ttotal: 3.92s\tremaining: 2m 54s\n",
      "22:\tlearn: 6.8876837\ttest: 12.3013371\tbest: 12.3013371 (22)\ttotal: 4.11s\tremaining: 2m 54s\n",
      "23:\tlearn: 6.8632823\ttest: 12.2909989\tbest: 12.2909989 (23)\ttotal: 4.29s\tremaining: 2m 54s\n",
      "24:\tlearn: 6.8325817\ttest: 12.2924263\tbest: 12.2909989 (23)\ttotal: 4.49s\tremaining: 2m 54s\n",
      "25:\tlearn: 6.8175110\ttest: 12.2708387\tbest: 12.2708387 (25)\ttotal: 4.66s\tremaining: 2m 54s\n",
      "26:\tlearn: 6.7921082\ttest: 12.2430598\tbest: 12.2430598 (26)\ttotal: 4.85s\tremaining: 2m 54s\n",
      "27:\tlearn: 6.7684010\ttest: 12.2374278\tbest: 12.2374278 (27)\ttotal: 5.04s\tremaining: 2m 54s\n",
      "28:\tlearn: 6.7504413\ttest: 12.2863102\tbest: 12.2374278 (27)\ttotal: 5.18s\tremaining: 2m 53s\n",
      "29:\tlearn: 6.7077278\ttest: 12.2775495\tbest: 12.2374278 (27)\ttotal: 5.37s\tremaining: 2m 53s\n",
      "30:\tlearn: 6.6937656\ttest: 12.2776500\tbest: 12.2374278 (27)\ttotal: 5.54s\tremaining: 2m 53s\n",
      "31:\tlearn: 6.6726919\ttest: 12.2703850\tbest: 12.2374278 (27)\ttotal: 5.7s\tremaining: 2m 52s\n",
      "32:\tlearn: 6.6602203\ttest: 12.2631370\tbest: 12.2374278 (27)\ttotal: 5.84s\tremaining: 2m 51s\n",
      "33:\tlearn: 6.6388148\ttest: 12.2775084\tbest: 12.2374278 (27)\ttotal: 5.95s\tremaining: 2m 49s\n",
      "34:\tlearn: 6.6211653\ttest: 12.2749192\tbest: 12.2374278 (27)\ttotal: 6.13s\tremaining: 2m 48s\n",
      "35:\tlearn: 6.6071303\ttest: 12.2659432\tbest: 12.2374278 (27)\ttotal: 6.3s\tremaining: 2m 48s\n",
      "36:\tlearn: 6.5898916\ttest: 12.2581651\tbest: 12.2374278 (27)\ttotal: 6.49s\tremaining: 2m 48s\n",
      "37:\tlearn: 6.5729720\ttest: 12.2570640\tbest: 12.2374278 (27)\ttotal: 6.65s\tremaining: 2m 48s\n",
      "38:\tlearn: 6.5622100\ttest: 12.2367051\tbest: 12.2367051 (38)\ttotal: 6.81s\tremaining: 2m 47s\n",
      "39:\tlearn: 6.5487764\ttest: 12.2428608\tbest: 12.2367051 (38)\ttotal: 6.97s\tremaining: 2m 47s\n",
      "40:\tlearn: 6.5372559\ttest: 12.2415603\tbest: 12.2367051 (38)\ttotal: 7.14s\tremaining: 2m 46s\n",
      "41:\tlearn: 6.5245929\ttest: 12.2348110\tbest: 12.2348110 (41)\ttotal: 7.28s\tremaining: 2m 46s\n",
      "42:\tlearn: 6.5122001\ttest: 12.2385093\tbest: 12.2348110 (41)\ttotal: 7.46s\tremaining: 2m 45s\n",
      "43:\tlearn: 6.5025610\ttest: 12.2352603\tbest: 12.2348110 (41)\ttotal: 7.66s\tremaining: 2m 46s\n",
      "44:\tlearn: 6.4923795\ttest: 12.2293840\tbest: 12.2293840 (44)\ttotal: 7.83s\tremaining: 2m 46s\n",
      "45:\tlearn: 6.4847161\ttest: 12.2231457\tbest: 12.2231457 (45)\ttotal: 7.98s\tremaining: 2m 45s\n",
      "46:\tlearn: 6.4705488\ttest: 12.2307564\tbest: 12.2231457 (45)\ttotal: 8.17s\tremaining: 2m 45s\n",
      "47:\tlearn: 6.4622571\ttest: 12.2297448\tbest: 12.2231457 (45)\ttotal: 8.37s\tremaining: 2m 45s\n",
      "48:\tlearn: 6.4541975\ttest: 12.2261953\tbest: 12.2231457 (45)\ttotal: 8.55s\tremaining: 2m 45s\n",
      "49:\tlearn: 6.4480236\ttest: 12.2253687\tbest: 12.2231457 (45)\ttotal: 8.69s\tremaining: 2m 45s\n",
      "50:\tlearn: 6.4328633\ttest: 12.2214883\tbest: 12.2214883 (50)\ttotal: 8.82s\tremaining: 2m 44s\n",
      "51:\tlearn: 6.4203383\ttest: 12.2242605\tbest: 12.2214883 (50)\ttotal: 9s\tremaining: 2m 44s\n",
      "52:\tlearn: 6.4003205\ttest: 12.2329793\tbest: 12.2214883 (50)\ttotal: 9.19s\tremaining: 2m 44s\n",
      "53:\tlearn: 6.3890580\ttest: 12.2337123\tbest: 12.2214883 (50)\ttotal: 9.38s\tremaining: 2m 44s\n",
      "54:\tlearn: 6.3821353\ttest: 12.2200249\tbest: 12.2200249 (54)\ttotal: 9.58s\tremaining: 2m 44s\n",
      "55:\tlearn: 6.3710648\ttest: 12.2216943\tbest: 12.2200249 (54)\ttotal: 9.76s\tremaining: 2m 44s\n",
      "56:\tlearn: 6.3626816\ttest: 12.2210926\tbest: 12.2200249 (54)\ttotal: 9.95s\tremaining: 2m 44s\n",
      "57:\tlearn: 6.3534700\ttest: 12.2027637\tbest: 12.2027637 (57)\ttotal: 10.1s\tremaining: 2m 44s\n",
      "58:\tlearn: 6.3338743\ttest: 12.2036094\tbest: 12.2027637 (57)\ttotal: 10.3s\tremaining: 2m 45s\n",
      "59:\tlearn: 6.3256387\ttest: 12.2026961\tbest: 12.2026961 (59)\ttotal: 10.5s\tremaining: 2m 45s\n",
      "60:\tlearn: 6.3130161\ttest: 12.2033634\tbest: 12.2026961 (59)\ttotal: 10.8s\tremaining: 2m 45s\n",
      "61:\tlearn: 6.3051521\ttest: 12.1948079\tbest: 12.1948079 (61)\ttotal: 10.9s\tremaining: 2m 45s\n",
      "62:\tlearn: 6.2988825\ttest: 12.1933402\tbest: 12.1933402 (62)\ttotal: 11.1s\tremaining: 2m 45s\n",
      "63:\tlearn: 6.2943720\ttest: 12.1818315\tbest: 12.1818315 (63)\ttotal: 11.3s\tremaining: 2m 44s\n",
      "64:\tlearn: 6.2873366\ttest: 12.1782820\tbest: 12.1782820 (64)\ttotal: 11.5s\tremaining: 2m 45s\n",
      "65:\tlearn: 6.2810669\ttest: 12.1753238\tbest: 12.1753238 (65)\ttotal: 11.6s\tremaining: 2m 44s\n",
      "66:\tlearn: 6.2656169\ttest: 12.1727560\tbest: 12.1727560 (66)\ttotal: 11.8s\tremaining: 2m 43s\n",
      "67:\tlearn: 6.2507039\ttest: 12.1716971\tbest: 12.1716971 (67)\ttotal: 11.9s\tremaining: 2m 42s\n",
      "68:\tlearn: 6.2437180\ttest: 12.1680602\tbest: 12.1680602 (68)\ttotal: 12.1s\tremaining: 2m 42s\n",
      "69:\tlearn: 6.2360378\ttest: 12.1688326\tbest: 12.1680602 (68)\ttotal: 12.2s\tremaining: 2m 42s\n",
      "70:\tlearn: 6.2307161\ttest: 12.1572454\tbest: 12.1572454 (70)\ttotal: 12.4s\tremaining: 2m 41s\n",
      "71:\tlearn: 6.2231682\ttest: 12.1560145\tbest: 12.1560145 (71)\ttotal: 12.5s\tremaining: 2m 41s\n",
      "72:\tlearn: 6.2144680\ttest: 12.1544766\tbest: 12.1544766 (72)\ttotal: 12.7s\tremaining: 2m 40s\n",
      "73:\tlearn: 6.2090546\ttest: 12.1548386\tbest: 12.1544766 (72)\ttotal: 12.8s\tremaining: 2m 40s\n",
      "74:\tlearn: 6.2055911\ttest: 12.1467500\tbest: 12.1467500 (74)\ttotal: 13.1s\tremaining: 2m 41s\n",
      "75:\tlearn: 6.1968132\ttest: 12.1468882\tbest: 12.1467500 (74)\ttotal: 13.2s\tremaining: 2m 40s\n",
      "76:\tlearn: 6.1850043\ttest: 12.1442088\tbest: 12.1442088 (76)\ttotal: 13.4s\tremaining: 2m 40s\n",
      "77:\tlearn: 6.1704104\ttest: 12.1314344\tbest: 12.1314344 (77)\ttotal: 13.6s\tremaining: 2m 40s\n",
      "78:\tlearn: 6.1579677\ttest: 12.1370279\tbest: 12.1314344 (77)\ttotal: 13.8s\tremaining: 2m 40s\n",
      "79:\tlearn: 6.1557538\ttest: 12.1333997\tbest: 12.1314344 (77)\ttotal: 13.9s\tremaining: 2m 40s\n",
      "80:\tlearn: 6.1528408\ttest: 12.1298623\tbest: 12.1298623 (80)\ttotal: 14.1s\tremaining: 2m 40s\n",
      "81:\tlearn: 6.1446870\ttest: 12.1279356\tbest: 12.1279356 (81)\ttotal: 14.3s\tremaining: 2m 40s\n",
      "82:\tlearn: 6.1412194\ttest: 12.1273999\tbest: 12.1273999 (82)\ttotal: 14.5s\tremaining: 2m 40s\n",
      "83:\tlearn: 6.1384130\ttest: 12.1267044\tbest: 12.1267044 (83)\ttotal: 14.7s\tremaining: 2m 39s\n",
      "84:\tlearn: 6.1228547\ttest: 12.1271607\tbest: 12.1267044 (83)\ttotal: 14.8s\tremaining: 2m 39s\n",
      "85:\tlearn: 6.1037647\ttest: 12.1221522\tbest: 12.1221522 (85)\ttotal: 15s\tremaining: 2m 39s\n",
      "86:\tlearn: 6.0951194\ttest: 12.1221297\tbest: 12.1221297 (86)\ttotal: 15.1s\tremaining: 2m 38s\n",
      "87:\tlearn: 6.0878850\ttest: 12.1211333\tbest: 12.1211333 (87)\ttotal: 15.3s\tremaining: 2m 38s\n",
      "88:\tlearn: 6.0854439\ttest: 12.1208594\tbest: 12.1208594 (88)\ttotal: 15.5s\tremaining: 2m 38s\n",
      "89:\tlearn: 6.0795144\ttest: 12.1199471\tbest: 12.1199471 (89)\ttotal: 15.6s\tremaining: 2m 38s\n",
      "90:\tlearn: 6.0756914\ttest: 12.1184713\tbest: 12.1184713 (90)\ttotal: 15.8s\tremaining: 2m 38s\n",
      "91:\tlearn: 6.0681450\ttest: 12.1157287\tbest: 12.1157287 (91)\ttotal: 16s\tremaining: 2m 37s\n",
      "92:\tlearn: 6.0643183\ttest: 12.1170644\tbest: 12.1157287 (91)\ttotal: 16.2s\tremaining: 2m 38s\n",
      "93:\tlearn: 6.0555088\ttest: 12.1147062\tbest: 12.1147062 (93)\ttotal: 16.4s\tremaining: 2m 38s\n",
      "94:\tlearn: 6.0493844\ttest: 12.1134099\tbest: 12.1134099 (94)\ttotal: 16.6s\tremaining: 2m 38s\n",
      "95:\tlearn: 6.0448188\ttest: 12.1138631\tbest: 12.1134099 (94)\ttotal: 16.8s\tremaining: 2m 37s\n",
      "96:\tlearn: 6.0416078\ttest: 12.1131123\tbest: 12.1131123 (96)\ttotal: 17s\tremaining: 2m 37s\n",
      "97:\tlearn: 6.0363713\ttest: 12.1052601\tbest: 12.1052601 (97)\ttotal: 17.1s\tremaining: 2m 37s\n",
      "98:\tlearn: 6.0348034\ttest: 12.1040849\tbest: 12.1040849 (98)\ttotal: 17.2s\tremaining: 2m 36s\n",
      "99:\tlearn: 6.0279284\ttest: 12.1117888\tbest: 12.1040849 (98)\ttotal: 17.4s\tremaining: 2m 36s\n",
      "100:\tlearn: 6.0225974\ttest: 12.1118091\tbest: 12.1040849 (98)\ttotal: 17.6s\tremaining: 2m 36s\n",
      "101:\tlearn: 6.0206201\ttest: 12.1064507\tbest: 12.1040849 (98)\ttotal: 17.7s\tremaining: 2m 35s\n",
      "102:\tlearn: 6.0158917\ttest: 12.0988750\tbest: 12.0988750 (102)\ttotal: 17.9s\tremaining: 2m 35s\n",
      "103:\tlearn: 5.9982558\ttest: 12.1009890\tbest: 12.0988750 (102)\ttotal: 18s\tremaining: 2m 34s\n",
      "104:\tlearn: 5.9956161\ttest: 12.1051558\tbest: 12.0988750 (102)\ttotal: 18.1s\tremaining: 2m 34s\n",
      "105:\tlearn: 5.9880247\ttest: 12.1040948\tbest: 12.0988750 (102)\ttotal: 18.3s\tremaining: 2m 34s\n",
      "106:\tlearn: 5.9822844\ttest: 12.1042029\tbest: 12.0988750 (102)\ttotal: 18.5s\tremaining: 2m 34s\n",
      "107:\tlearn: 5.9794183\ttest: 12.1041938\tbest: 12.0988750 (102)\ttotal: 18.6s\tremaining: 2m 33s\n",
      "108:\tlearn: 5.9754833\ttest: 12.1036583\tbest: 12.0988750 (102)\ttotal: 18.8s\tremaining: 2m 33s\n",
      "109:\tlearn: 5.9686923\ttest: 12.0996998\tbest: 12.0988750 (102)\ttotal: 18.9s\tremaining: 2m 33s\n",
      "110:\tlearn: 5.9635576\ttest: 12.1009121\tbest: 12.0988750 (102)\ttotal: 19.1s\tremaining: 2m 32s\n",
      "111:\tlearn: 5.9587590\ttest: 12.1013814\tbest: 12.0988750 (102)\ttotal: 19.3s\tremaining: 2m 32s\n",
      "112:\tlearn: 5.9517377\ttest: 12.1057756\tbest: 12.0988750 (102)\ttotal: 19.4s\tremaining: 2m 32s\n",
      "113:\tlearn: 5.9463229\ttest: 12.1094990\tbest: 12.0988750 (102)\ttotal: 19.6s\tremaining: 2m 32s\n",
      "114:\tlearn: 5.9413755\ttest: 12.1109173\tbest: 12.0988750 (102)\ttotal: 19.7s\tremaining: 2m 31s\n",
      "115:\tlearn: 5.9388110\ttest: 12.1097261\tbest: 12.0988750 (102)\ttotal: 19.9s\tremaining: 2m 31s\n",
      "116:\tlearn: 5.9336264\ttest: 12.1131471\tbest: 12.0988750 (102)\ttotal: 20.1s\tremaining: 2m 31s\n",
      "117:\tlearn: 5.9313521\ttest: 12.1130966\tbest: 12.0988750 (102)\ttotal: 20.3s\tremaining: 2m 31s\n",
      "118:\tlearn: 5.9266825\ttest: 12.1114616\tbest: 12.0988750 (102)\ttotal: 20.5s\tremaining: 2m 31s\n",
      "119:\tlearn: 5.9175262\ttest: 12.1137961\tbest: 12.0988750 (102)\ttotal: 20.6s\tremaining: 2m 31s\n",
      "120:\tlearn: 5.9119744\ttest: 12.1143892\tbest: 12.0988750 (102)\ttotal: 20.8s\tremaining: 2m 31s\n",
      "121:\tlearn: 5.9060925\ttest: 12.0934647\tbest: 12.0934647 (121)\ttotal: 21s\tremaining: 2m 30s\n",
      "122:\tlearn: 5.9044414\ttest: 12.0888699\tbest: 12.0888699 (122)\ttotal: 21.1s\tremaining: 2m 30s\n",
      "123:\tlearn: 5.8985089\ttest: 12.0872202\tbest: 12.0872202 (123)\ttotal: 21.3s\tremaining: 2m 30s\n",
      "124:\tlearn: 5.8947371\ttest: 12.0863275\tbest: 12.0863275 (124)\ttotal: 21.4s\tremaining: 2m 30s\n",
      "125:\tlearn: 5.8924022\ttest: 12.0861086\tbest: 12.0861086 (125)\ttotal: 21.6s\tremaining: 2m 30s\n",
      "126:\tlearn: 5.8900215\ttest: 12.0846212\tbest: 12.0846212 (126)\ttotal: 21.8s\tremaining: 2m 29s\n",
      "127:\tlearn: 5.8835840\ttest: 12.0936688\tbest: 12.0846212 (126)\ttotal: 21.9s\tremaining: 2m 29s\n",
      "128:\tlearn: 5.8767823\ttest: 12.0834594\tbest: 12.0834594 (128)\ttotal: 22.1s\tremaining: 2m 29s\n",
      "129:\tlearn: 5.8725400\ttest: 12.0828026\tbest: 12.0828026 (129)\ttotal: 22.3s\tremaining: 2m 28s\n",
      "130:\tlearn: 5.8692813\ttest: 12.1119829\tbest: 12.0828026 (129)\ttotal: 22.4s\tremaining: 2m 28s\n",
      "131:\tlearn: 5.8669820\ttest: 12.1117291\tbest: 12.0828026 (129)\ttotal: 22.6s\tremaining: 2m 28s\n",
      "132:\tlearn: 5.8614649\ttest: 12.1282296\tbest: 12.0828026 (129)\ttotal: 22.8s\tremaining: 2m 28s\n",
      "133:\tlearn: 5.8581944\ttest: 12.1284634\tbest: 12.0828026 (129)\ttotal: 22.9s\tremaining: 2m 28s\n",
      "134:\tlearn: 5.8517595\ttest: 12.1304188\tbest: 12.0828026 (129)\ttotal: 23.1s\tremaining: 2m 27s\n",
      "135:\tlearn: 5.8482048\ttest: 12.1280004\tbest: 12.0828026 (129)\ttotal: 23.2s\tremaining: 2m 27s\n",
      "136:\tlearn: 5.8470059\ttest: 12.1287781\tbest: 12.0828026 (129)\ttotal: 23.4s\tremaining: 2m 27s\n",
      "137:\tlearn: 5.8427072\ttest: 12.1366422\tbest: 12.0828026 (129)\ttotal: 23.5s\tremaining: 2m 26s\n",
      "138:\tlearn: 5.8413911\ttest: 12.1360157\tbest: 12.0828026 (129)\ttotal: 23.7s\tremaining: 2m 26s\n",
      "139:\tlearn: 5.8357811\ttest: 12.1343745\tbest: 12.0828026 (129)\ttotal: 23.8s\tremaining: 2m 26s\n",
      "140:\tlearn: 5.8299809\ttest: 12.1301174\tbest: 12.0828026 (129)\ttotal: 24s\tremaining: 2m 26s\n",
      "141:\tlearn: 5.8253540\ttest: 12.1310888\tbest: 12.0828026 (129)\ttotal: 24.2s\tremaining: 2m 26s\n",
      "142:\tlearn: 5.8204055\ttest: 12.1289076\tbest: 12.0828026 (129)\ttotal: 24.4s\tremaining: 2m 26s\n",
      "143:\tlearn: 5.8164660\ttest: 12.1264102\tbest: 12.0828026 (129)\ttotal: 24.5s\tremaining: 2m 25s\n",
      "144:\tlearn: 5.8148226\ttest: 12.1284362\tbest: 12.0828026 (129)\ttotal: 24.7s\tremaining: 2m 25s\n",
      "145:\tlearn: 5.8120021\ttest: 12.1625524\tbest: 12.0828026 (129)\ttotal: 24.8s\tremaining: 2m 25s\n",
      "146:\tlearn: 5.8082866\ttest: 12.1629536\tbest: 12.0828026 (129)\ttotal: 25s\tremaining: 2m 25s\n",
      "147:\tlearn: 5.7973723\ttest: 12.1702246\tbest: 12.0828026 (129)\ttotal: 25.2s\tremaining: 2m 25s\n",
      "148:\tlearn: 5.7933972\ttest: 12.1701791\tbest: 12.0828026 (129)\ttotal: 25.4s\tremaining: 2m 24s\n",
      "149:\tlearn: 5.7880295\ttest: 12.1796926\tbest: 12.0828026 (129)\ttotal: 25.5s\tremaining: 2m 24s\n",
      "150:\tlearn: 5.7847892\ttest: 12.1770138\tbest: 12.0828026 (129)\ttotal: 25.7s\tremaining: 2m 24s\n",
      "151:\tlearn: 5.7831114\ttest: 12.1776199\tbest: 12.0828026 (129)\ttotal: 25.8s\tremaining: 2m 24s\n",
      "152:\tlearn: 5.7818093\ttest: 12.1764539\tbest: 12.0828026 (129)\ttotal: 26s\tremaining: 2m 24s\n",
      "153:\tlearn: 5.7770517\ttest: 12.1709545\tbest: 12.0828026 (129)\ttotal: 26.2s\tremaining: 2m 23s\n",
      "154:\tlearn: 5.7748850\ttest: 12.1602716\tbest: 12.0828026 (129)\ttotal: 26.4s\tremaining: 2m 23s\n",
      "155:\tlearn: 5.7705545\ttest: 12.1580576\tbest: 12.0828026 (129)\ttotal: 26.5s\tremaining: 2m 23s\n",
      "156:\tlearn: 5.7659693\ttest: 12.1593779\tbest: 12.0828026 (129)\ttotal: 26.7s\tremaining: 2m 23s\n",
      "157:\tlearn: 5.7636984\ttest: 12.1546082\tbest: 12.0828026 (129)\ttotal: 26.9s\tremaining: 2m 23s\n",
      "158:\tlearn: 5.7603016\ttest: 12.1598795\tbest: 12.0828026 (129)\ttotal: 27s\tremaining: 2m 23s\n",
      "159:\tlearn: 5.7561595\ttest: 12.1593829\tbest: 12.0828026 (129)\ttotal: 27.2s\tremaining: 2m 22s\n",
      "160:\tlearn: 5.7554468\ttest: 12.1590019\tbest: 12.0828026 (129)\ttotal: 27.4s\tremaining: 2m 22s\n",
      "161:\tlearn: 5.7536200\ttest: 12.1578122\tbest: 12.0828026 (129)\ttotal: 27.6s\tremaining: 2m 22s\n",
      "162:\tlearn: 5.7503860\ttest: 12.1537844\tbest: 12.0828026 (129)\ttotal: 27.8s\tremaining: 2m 22s\n",
      "163:\tlearn: 5.7486731\ttest: 12.1528740\tbest: 12.0828026 (129)\ttotal: 27.9s\tremaining: 2m 22s\n",
      "164:\tlearn: 5.7464747\ttest: 12.1530926\tbest: 12.0828026 (129)\ttotal: 28.1s\tremaining: 2m 22s\n",
      "165:\tlearn: 5.7429373\ttest: 12.1660779\tbest: 12.0828026 (129)\ttotal: 28.3s\tremaining: 2m 22s\n",
      "166:\tlearn: 5.7394294\ttest: 12.1633018\tbest: 12.0828026 (129)\ttotal: 28.5s\tremaining: 2m 22s\n",
      "167:\tlearn: 5.7328310\ttest: 12.1647121\tbest: 12.0828026 (129)\ttotal: 28.6s\tremaining: 2m 21s\n",
      "168:\tlearn: 5.7307442\ttest: 12.1587716\tbest: 12.0828026 (129)\ttotal: 28.8s\tremaining: 2m 21s\n",
      "169:\tlearn: 5.7277166\ttest: 12.1591980\tbest: 12.0828026 (129)\ttotal: 29s\tremaining: 2m 21s\n",
      "170:\tlearn: 5.7260797\ttest: 12.1569308\tbest: 12.0828026 (129)\ttotal: 29.1s\tremaining: 2m 21s\n",
      "171:\tlearn: 5.7210527\ttest: 12.1737223\tbest: 12.0828026 (129)\ttotal: 29.3s\tremaining: 2m 20s\n",
      "172:\tlearn: 5.7179530\ttest: 12.1661574\tbest: 12.0828026 (129)\ttotal: 29.4s\tremaining: 2m 20s\n",
      "173:\tlearn: 5.7128670\ttest: 12.1712774\tbest: 12.0828026 (129)\ttotal: 29.6s\tremaining: 2m 20s\n",
      "174:\tlearn: 5.7116864\ttest: 12.1796870\tbest: 12.0828026 (129)\ttotal: 29.8s\tremaining: 2m 20s\n",
      "175:\tlearn: 5.7101159\ttest: 12.1785516\tbest: 12.0828026 (129)\ttotal: 30s\tremaining: 2m 20s\n",
      "176:\tlearn: 5.7062119\ttest: 12.1725845\tbest: 12.0828026 (129)\ttotal: 30.1s\tremaining: 2m 20s\n",
      "177:\tlearn: 5.7035241\ttest: 12.1720881\tbest: 12.0828026 (129)\ttotal: 30.3s\tremaining: 2m 19s\n",
      "178:\tlearn: 5.6990630\ttest: 12.1727856\tbest: 12.0828026 (129)\ttotal: 30.5s\tremaining: 2m 19s\n",
      "179:\tlearn: 5.6947285\ttest: 12.1963435\tbest: 12.0828026 (129)\ttotal: 30.6s\tremaining: 2m 19s\n",
      "Stopped by overfitting detector  (50 iterations wait)\n",
      "\n",
      "bestTest = 12.08280262\n",
      "bestIteration = 129\n",
      "\n",
      "Shrink model to first 130 iterations.\n"
     ]
    },
    {
     "data": {
      "application/vnd.jupyter.widget-view+json": {
       "model_id": "c558467bd1ef416fad905a57ea3c0b6f",
       "version_major": 2,
       "version_minor": 0
      },
      "text/plain": [
       "MetricVisualizer(layout=Layout(align_self='stretch', height='500px'))"
      ]
     },
     "metadata": {},
     "output_type": "display_data"
    },
    {
     "name": "stdout",
     "output_type": "stream",
     "text": [
      "Learning rate set to 0.180254\n",
      "0:\tlearn: 16.1263692\ttest: 18.2382800\tbest: 18.2382800 (0)\ttotal: 191ms\tremaining: 3m 10s\n",
      "1:\tlearn: 14.2199679\ttest: 15.7317163\tbest: 15.7317163 (1)\ttotal: 422ms\tremaining: 3m 30s\n",
      "2:\tlearn: 12.7644919\ttest: 13.3984216\tbest: 13.3984216 (2)\ttotal: 652ms\tremaining: 3m 36s\n",
      "3:\tlearn: 11.6298185\ttest: 11.8711968\tbest: 11.8711968 (3)\ttotal: 876ms\tremaining: 3m 38s\n",
      "4:\tlearn: 10.7623031\ttest: 10.6047967\tbest: 10.6047967 (4)\ttotal: 1.12s\tremaining: 3m 43s\n",
      "5:\tlearn: 10.1289391\ttest: 9.7607824\tbest: 9.7607824 (5)\ttotal: 1.34s\tremaining: 3m 41s\n",
      "6:\tlearn: 9.6503783\ttest: 9.1702616\tbest: 9.1702616 (6)\ttotal: 1.53s\tremaining: 3m 37s\n",
      "7:\tlearn: 9.2602350\ttest: 8.6908637\tbest: 8.6908637 (7)\ttotal: 1.79s\tremaining: 3m 41s\n",
      "8:\tlearn: 8.9804136\ttest: 8.3506839\tbest: 8.3506839 (8)\ttotal: 2.04s\tremaining: 3m 45s\n",
      "9:\tlearn: 8.6575204\ttest: 8.1680570\tbest: 8.1680570 (9)\ttotal: 2.3s\tremaining: 3m 47s\n",
      "10:\tlearn: 8.4971941\ttest: 8.0369287\tbest: 8.0369287 (10)\ttotal: 2.51s\tremaining: 3m 45s\n",
      "11:\tlearn: 8.2675966\ttest: 8.0178703\tbest: 8.0178703 (11)\ttotal: 2.7s\tremaining: 3m 42s\n",
      "12:\tlearn: 8.0595060\ttest: 8.0368921\tbest: 8.0178703 (11)\ttotal: 2.94s\tremaining: 3m 43s\n",
      "13:\tlearn: 7.9786357\ttest: 8.0060302\tbest: 8.0060302 (13)\ttotal: 3.21s\tremaining: 3m 46s\n",
      "14:\tlearn: 7.9228313\ttest: 7.9806175\tbest: 7.9806175 (14)\ttotal: 3.48s\tremaining: 3m 48s\n",
      "15:\tlearn: 7.7618567\ttest: 8.0686252\tbest: 7.9806175 (14)\ttotal: 3.7s\tremaining: 3m 47s\n",
      "16:\tlearn: 7.6365197\ttest: 8.1015471\tbest: 7.9806175 (14)\ttotal: 3.89s\tremaining: 3m 44s\n",
      "17:\tlearn: 7.5284629\ttest: 8.1693611\tbest: 7.9806175 (14)\ttotal: 4.14s\tremaining: 3m 45s\n",
      "18:\tlearn: 7.4588584\ttest: 8.3904566\tbest: 7.9806175 (14)\ttotal: 4.33s\tremaining: 3m 43s\n",
      "19:\tlearn: 7.4293729\ttest: 8.3848368\tbest: 7.9806175 (14)\ttotal: 4.58s\tremaining: 3m 44s\n",
      "20:\tlearn: 7.3899046\ttest: 8.4153738\tbest: 7.9806175 (14)\ttotal: 4.83s\tremaining: 3m 45s\n",
      "21:\tlearn: 7.3588618\ttest: 8.3848873\tbest: 7.9806175 (14)\ttotal: 5.06s\tremaining: 3m 44s\n",
      "22:\tlearn: 7.3038691\ttest: 8.7575816\tbest: 7.9806175 (14)\ttotal: 5.28s\tremaining: 3m 44s\n",
      "23:\tlearn: 7.2860728\ttest: 8.7647190\tbest: 7.9806175 (14)\ttotal: 5.57s\tremaining: 3m 46s\n",
      "24:\tlearn: 7.2571777\ttest: 8.7996151\tbest: 7.9806175 (14)\ttotal: 5.79s\tremaining: 3m 45s\n",
      "25:\tlearn: 7.2336704\ttest: 8.7963663\tbest: 7.9806175 (14)\ttotal: 6.01s\tremaining: 3m 45s\n",
      "26:\tlearn: 7.2161524\ttest: 8.7785244\tbest: 7.9806175 (14)\ttotal: 6.24s\tremaining: 3m 45s\n",
      "27:\tlearn: 7.1546653\ttest: 8.8600738\tbest: 7.9806175 (14)\ttotal: 6.46s\tremaining: 3m 44s\n",
      "28:\tlearn: 7.1356064\ttest: 8.8162538\tbest: 7.9806175 (14)\ttotal: 6.68s\tremaining: 3m 43s\n",
      "29:\tlearn: 7.1170987\ttest: 8.7916678\tbest: 7.9806175 (14)\ttotal: 6.92s\tremaining: 3m 43s\n",
      "30:\tlearn: 7.0589335\ttest: 8.8072379\tbest: 7.9806175 (14)\ttotal: 7.14s\tremaining: 3m 43s\n",
      "31:\tlearn: 7.0219384\ttest: 8.7576195\tbest: 7.9806175 (14)\ttotal: 7.33s\tremaining: 3m 41s\n",
      "32:\tlearn: 6.9938221\ttest: 8.7724511\tbest: 7.9806175 (14)\ttotal: 7.58s\tremaining: 3m 42s\n",
      "33:\tlearn: 6.9767588\ttest: 8.8351664\tbest: 7.9806175 (14)\ttotal: 7.8s\tremaining: 3m 41s\n",
      "34:\tlearn: 6.9434581\ttest: 8.9709851\tbest: 7.9806175 (14)\ttotal: 8.03s\tremaining: 3m 41s\n",
      "35:\tlearn: 6.9086725\ttest: 9.0035466\tbest: 7.9806175 (14)\ttotal: 8.22s\tremaining: 3m 40s\n",
      "36:\tlearn: 6.8800167\ttest: 9.2931012\tbest: 7.9806175 (14)\ttotal: 8.39s\tremaining: 3m 38s\n",
      "37:\tlearn: 6.8631421\ttest: 9.2813289\tbest: 7.9806175 (14)\ttotal: 8.59s\tremaining: 3m 37s\n",
      "38:\tlearn: 6.8475247\ttest: 9.2552797\tbest: 7.9806175 (14)\ttotal: 8.77s\tremaining: 3m 36s\n",
      "39:\tlearn: 6.8307255\ttest: 9.2305880\tbest: 7.9806175 (14)\ttotal: 9.02s\tremaining: 3m 36s\n",
      "40:\tlearn: 6.8150944\ttest: 9.1996004\tbest: 7.9806175 (14)\ttotal: 9.25s\tremaining: 3m 36s\n",
      "41:\tlearn: 6.7956984\ttest: 9.1848751\tbest: 7.9806175 (14)\ttotal: 9.45s\tremaining: 3m 35s\n",
      "42:\tlearn: 6.7635153\ttest: 9.1627675\tbest: 7.9806175 (14)\ttotal: 9.67s\tremaining: 3m 35s\n",
      "43:\tlearn: 6.7464238\ttest: 9.3156152\tbest: 7.9806175 (14)\ttotal: 9.92s\tremaining: 3m 35s\n",
      "44:\tlearn: 6.7335583\ttest: 9.3236177\tbest: 7.9806175 (14)\ttotal: 10.1s\tremaining: 3m 35s\n",
      "45:\tlearn: 6.7185339\ttest: 9.3177457\tbest: 7.9806175 (14)\ttotal: 10.4s\tremaining: 3m 36s\n",
      "46:\tlearn: 6.6976568\ttest: 9.2907732\tbest: 7.9806175 (14)\ttotal: 10.6s\tremaining: 3m 35s\n",
      "47:\tlearn: 6.6802817\ttest: 9.3199787\tbest: 7.9806175 (14)\ttotal: 10.8s\tremaining: 3m 34s\n",
      "48:\tlearn: 6.6710914\ttest: 9.3187614\tbest: 7.9806175 (14)\ttotal: 11.1s\tremaining: 3m 34s\n",
      "49:\tlearn: 6.6597840\ttest: 9.3111313\tbest: 7.9806175 (14)\ttotal: 11.3s\tremaining: 3m 34s\n",
      "50:\tlearn: 6.6476291\ttest: 9.3711089\tbest: 7.9806175 (14)\ttotal: 11.5s\tremaining: 3m 34s\n",
      "51:\tlearn: 6.6334941\ttest: 9.3940852\tbest: 7.9806175 (14)\ttotal: 11.7s\tremaining: 3m 33s\n",
      "52:\tlearn: 6.6261315\ttest: 9.3956573\tbest: 7.9806175 (14)\ttotal: 11.9s\tremaining: 3m 32s\n",
      "53:\tlearn: 6.6091875\ttest: 9.4120534\tbest: 7.9806175 (14)\ttotal: 12.1s\tremaining: 3m 32s\n",
      "54:\tlearn: 6.5964858\ttest: 9.4183698\tbest: 7.9806175 (14)\ttotal: 12.3s\tremaining: 3m 31s\n",
      "55:\tlearn: 6.5789501\ttest: 9.4460062\tbest: 7.9806175 (14)\ttotal: 12.5s\tremaining: 3m 30s\n",
      "56:\tlearn: 6.5703199\ttest: 9.4583252\tbest: 7.9806175 (14)\ttotal: 12.7s\tremaining: 3m 30s\n",
      "57:\tlearn: 6.5636056\ttest: 9.4578009\tbest: 7.9806175 (14)\ttotal: 12.9s\tremaining: 3m 29s\n",
      "58:\tlearn: 6.5582816\ttest: 9.4598169\tbest: 7.9806175 (14)\ttotal: 13.2s\tremaining: 3m 30s\n",
      "59:\tlearn: 6.5493921\ttest: 9.4795887\tbest: 7.9806175 (14)\ttotal: 13.4s\tremaining: 3m 30s\n",
      "60:\tlearn: 6.5288936\ttest: 9.4407022\tbest: 7.9806175 (14)\ttotal: 13.6s\tremaining: 3m 29s\n",
      "61:\tlearn: 6.5160842\ttest: 9.4495106\tbest: 7.9806175 (14)\ttotal: 13.8s\tremaining: 3m 29s\n",
      "62:\tlearn: 6.5079502\ttest: 9.4438791\tbest: 7.9806175 (14)\ttotal: 14s\tremaining: 3m 28s\n",
      "63:\tlearn: 6.4969297\ttest: 9.4434504\tbest: 7.9806175 (14)\ttotal: 14.2s\tremaining: 3m 28s\n",
      "64:\tlearn: 6.4864614\ttest: 9.4367894\tbest: 7.9806175 (14)\ttotal: 14.4s\tremaining: 3m 27s\n",
      "Stopped by overfitting detector  (50 iterations wait)\n",
      "\n",
      "bestTest = 7.980617489\n",
      "bestIteration = 14\n",
      "\n",
      "Shrink model to first 15 iterations.\n"
     ]
    },
    {
     "data": {
      "application/vnd.jupyter.widget-view+json": {
       "model_id": "85e4d303174e491b86486622b7a3c026",
       "version_major": 2,
       "version_minor": 0
      },
      "text/plain": [
       "MetricVisualizer(layout=Layout(align_self='stretch', height='500px'))"
      ]
     },
     "metadata": {},
     "output_type": "display_data"
    },
    {
     "name": "stdout",
     "output_type": "stream",
     "text": [
      "Learning rate set to 0.186681\n",
      "0:\tlearn: 16.4748216\ttest: 51.4421430\tbest: 51.4421430 (0)\ttotal: 309ms\tremaining: 5m 8s\n",
      "1:\tlearn: 14.3797219\ttest: 48.6987004\tbest: 48.6987004 (1)\ttotal: 617ms\tremaining: 5m 8s\n",
      "2:\tlearn: 12.7812853\ttest: 46.5182230\tbest: 46.5182230 (2)\ttotal: 926ms\tremaining: 5m 7s\n",
      "3:\tlearn: 11.5625219\ttest: 44.4885448\tbest: 44.4885448 (3)\ttotal: 1.15s\tremaining: 4m 45s\n",
      "4:\tlearn: 10.6565114\ttest: 43.0480841\tbest: 43.0480841 (4)\ttotal: 1.45s\tremaining: 4m 47s\n",
      "5:\tlearn: 9.9727511\ttest: 41.9004079\tbest: 41.9004079 (5)\ttotal: 1.72s\tremaining: 4m 44s\n",
      "6:\tlearn: 9.4748318\ttest: 40.9217015\tbest: 40.9217015 (6)\ttotal: 1.96s\tremaining: 4m 37s\n",
      "7:\tlearn: 9.0929561\ttest: 40.4322784\tbest: 40.4322784 (7)\ttotal: 2.24s\tremaining: 4m 37s\n",
      "8:\tlearn: 8.7415505\ttest: 39.9431778\tbest: 39.9431778 (8)\ttotal: 2.59s\tremaining: 4m 45s\n",
      "9:\tlearn: 8.5127455\ttest: 39.7481827\tbest: 39.7481827 (9)\ttotal: 2.93s\tremaining: 4m 49s\n",
      "10:\tlearn: 8.3511137\ttest: 39.3077699\tbest: 39.3077699 (10)\ttotal: 3.28s\tremaining: 4m 55s\n",
      "11:\tlearn: 8.1244343\ttest: 38.9878890\tbest: 38.9878890 (11)\ttotal: 3.55s\tremaining: 4m 52s\n",
      "12:\tlearn: 8.0243199\ttest: 39.0770464\tbest: 38.9878890 (11)\ttotal: 3.85s\tremaining: 4m 51s\n",
      "13:\tlearn: 7.9402044\ttest: 38.9793392\tbest: 38.9793392 (13)\ttotal: 4.15s\tremaining: 4m 52s\n",
      "14:\tlearn: 7.8757579\ttest: 39.0337621\tbest: 38.9793392 (13)\ttotal: 4.47s\tremaining: 4m 53s\n",
      "15:\tlearn: 7.7545987\ttest: 38.9638285\tbest: 38.9638285 (15)\ttotal: 4.72s\tremaining: 4m 50s\n",
      "16:\tlearn: 7.6489574\ttest: 38.8171562\tbest: 38.8171562 (16)\ttotal: 5.05s\tremaining: 4m 51s\n",
      "17:\tlearn: 7.6071172\ttest: 38.7560763\tbest: 38.7560763 (17)\ttotal: 5.36s\tremaining: 4m 52s\n",
      "18:\tlearn: 7.5693251\ttest: 38.6855984\tbest: 38.6855984 (18)\ttotal: 5.61s\tremaining: 4m 49s\n",
      "19:\tlearn: 7.4840322\ttest: 38.6258399\tbest: 38.6258399 (19)\ttotal: 5.86s\tremaining: 4m 47s\n",
      "20:\tlearn: 7.4547674\ttest: 38.5107338\tbest: 38.5107338 (20)\ttotal: 6.23s\tremaining: 4m 50s\n",
      "21:\tlearn: 7.4251863\ttest: 38.6703262\tbest: 38.5107338 (20)\ttotal: 6.5s\tremaining: 4m 49s\n",
      "22:\tlearn: 7.3412472\ttest: 38.6287353\tbest: 38.5107338 (20)\ttotal: 6.81s\tremaining: 4m 49s\n",
      "23:\tlearn: 7.2730567\ttest: 38.4701841\tbest: 38.4701841 (23)\ttotal: 7.13s\tremaining: 4m 49s\n",
      "24:\tlearn: 7.2526747\ttest: 38.5687360\tbest: 38.4701841 (23)\ttotal: 7.46s\tremaining: 4m 50s\n",
      "25:\tlearn: 7.2288813\ttest: 38.5424464\tbest: 38.4701841 (23)\ttotal: 7.73s\tremaining: 4m 49s\n",
      "26:\tlearn: 7.2115160\ttest: 38.4930079\tbest: 38.4701841 (23)\ttotal: 7.96s\tremaining: 4m 46s\n",
      "27:\tlearn: 7.1471260\ttest: 39.0353050\tbest: 38.4701841 (23)\ttotal: 8.23s\tremaining: 4m 45s\n",
      "28:\tlearn: 7.1268335\ttest: 39.0850943\tbest: 38.4701841 (23)\ttotal: 8.45s\tremaining: 4m 43s\n",
      "29:\tlearn: 7.1053887\ttest: 38.5664410\tbest: 38.4701841 (23)\ttotal: 8.67s\tremaining: 4m 40s\n",
      "30:\tlearn: 7.0541488\ttest: 38.8115405\tbest: 38.4701841 (23)\ttotal: 8.91s\tremaining: 4m 38s\n",
      "31:\tlearn: 7.0166391\ttest: 38.8153596\tbest: 38.4701841 (23)\ttotal: 9.17s\tremaining: 4m 37s\n",
      "32:\tlearn: 6.9947872\ttest: 39.1022435\tbest: 38.4701841 (23)\ttotal: 9.45s\tremaining: 4m 36s\n",
      "33:\tlearn: 6.9696079\ttest: 39.3630906\tbest: 38.4701841 (23)\ttotal: 9.63s\tremaining: 4m 33s\n",
      "34:\tlearn: 6.9575609\ttest: 39.3654877\tbest: 38.4701841 (23)\ttotal: 9.9s\tremaining: 4m 33s\n",
      "35:\tlearn: 6.9323383\ttest: 39.5006970\tbest: 38.4701841 (23)\ttotal: 10.1s\tremaining: 4m 31s\n",
      "36:\tlearn: 6.8990085\ttest: 38.8902999\tbest: 38.4701841 (23)\ttotal: 10.3s\tremaining: 4m 29s\n",
      "37:\tlearn: 6.8732605\ttest: 38.8937418\tbest: 38.4701841 (23)\ttotal: 10.6s\tremaining: 4m 28s\n",
      "38:\tlearn: 6.8538352\ttest: 39.3057831\tbest: 38.4701841 (23)\ttotal: 10.9s\tremaining: 4m 27s\n",
      "39:\tlearn: 6.8405502\ttest: 39.2461269\tbest: 38.4701841 (23)\ttotal: 11.2s\tremaining: 4m 29s\n",
      "40:\tlearn: 6.8162988\ttest: 39.2851922\tbest: 38.4701841 (23)\ttotal: 11.5s\tremaining: 4m 29s\n",
      "41:\tlearn: 6.8008820\ttest: 39.2279581\tbest: 38.4701841 (23)\ttotal: 11.8s\tremaining: 4m 29s\n",
      "42:\tlearn: 6.7880780\ttest: 39.2427762\tbest: 38.4701841 (23)\ttotal: 12s\tremaining: 4m 27s\n",
      "43:\tlearn: 6.7677992\ttest: 39.2404723\tbest: 38.4701841 (23)\ttotal: 12.3s\tremaining: 4m 27s\n",
      "44:\tlearn: 6.7549323\ttest: 39.2280012\tbest: 38.4701841 (23)\ttotal: 12.6s\tremaining: 4m 28s\n",
      "45:\tlearn: 6.7383636\ttest: 39.1589312\tbest: 38.4701841 (23)\ttotal: 12.9s\tremaining: 4m 28s\n",
      "46:\tlearn: 6.7223266\ttest: 39.1630615\tbest: 38.4701841 (23)\ttotal: 13.3s\tremaining: 4m 29s\n",
      "47:\tlearn: 6.7109717\ttest: 39.1716789\tbest: 38.4701841 (23)\ttotal: 13.5s\tremaining: 4m 28s\n",
      "48:\tlearn: 6.6923639\ttest: 39.2555668\tbest: 38.4701841 (23)\ttotal: 13.7s\tremaining: 4m 26s\n",
      "49:\tlearn: 6.6833390\ttest: 39.2529814\tbest: 38.4701841 (23)\ttotal: 14.1s\tremaining: 4m 26s\n",
      "50:\tlearn: 6.6676664\ttest: 39.0697202\tbest: 38.4701841 (23)\ttotal: 14.3s\tremaining: 4m 26s\n",
      "51:\tlearn: 6.6519001\ttest: 39.0448827\tbest: 38.4701841 (23)\ttotal: 14.6s\tremaining: 4m 26s\n",
      "52:\tlearn: 6.6292524\ttest: 39.0364027\tbest: 38.4701841 (23)\ttotal: 14.9s\tremaining: 4m 26s\n",
      "53:\tlearn: 6.6232932\ttest: 39.0335175\tbest: 38.4701841 (23)\ttotal: 15.3s\tremaining: 4m 27s\n",
      "54:\tlearn: 6.6097554\ttest: 39.2414439\tbest: 38.4701841 (23)\ttotal: 15.5s\tremaining: 4m 26s\n",
      "55:\tlearn: 6.5954573\ttest: 39.2462334\tbest: 38.4701841 (23)\ttotal: 15.8s\tremaining: 4m 26s\n",
      "56:\tlearn: 6.5813182\ttest: 39.2455209\tbest: 38.4701841 (23)\ttotal: 16.1s\tremaining: 4m 25s\n",
      "57:\tlearn: 6.5745009\ttest: 39.2678037\tbest: 38.4701841 (23)\ttotal: 16.4s\tremaining: 4m 25s\n",
      "58:\tlearn: 6.5615868\ttest: 39.2703637\tbest: 38.4701841 (23)\ttotal: 16.7s\tremaining: 4m 25s\n",
      "59:\tlearn: 6.5539943\ttest: 39.4801417\tbest: 38.4701841 (23)\ttotal: 17s\tremaining: 4m 25s\n",
      "60:\tlearn: 6.5414670\ttest: 39.4593870\tbest: 38.4701841 (23)\ttotal: 17.3s\tremaining: 4m 26s\n",
      "61:\tlearn: 6.5329208\ttest: 39.4654316\tbest: 38.4701841 (23)\ttotal: 17.6s\tremaining: 4m 26s\n",
      "62:\tlearn: 6.5258445\ttest: 39.4429625\tbest: 38.4701841 (23)\ttotal: 17.9s\tremaining: 4m 26s\n",
      "63:\tlearn: 6.5194159\ttest: 39.4423237\tbest: 38.4701841 (23)\ttotal: 18.3s\tremaining: 4m 27s\n",
      "64:\tlearn: 6.5071933\ttest: 39.5499798\tbest: 38.4701841 (23)\ttotal: 18.6s\tremaining: 4m 27s\n",
      "65:\tlearn: 6.4901558\ttest: 39.5535715\tbest: 38.4701841 (23)\ttotal: 18.9s\tremaining: 4m 26s\n",
      "66:\tlearn: 6.4807044\ttest: 39.5520476\tbest: 38.4701841 (23)\ttotal: 19.2s\tremaining: 4m 27s\n",
      "67:\tlearn: 6.4696631\ttest: 39.5692526\tbest: 38.4701841 (23)\ttotal: 19.5s\tremaining: 4m 27s\n",
      "68:\tlearn: 6.4641347\ttest: 39.6584150\tbest: 38.4701841 (23)\ttotal: 19.9s\tremaining: 4m 28s\n",
      "69:\tlearn: 6.4600937\ttest: 39.6536365\tbest: 38.4701841 (23)\ttotal: 20.1s\tremaining: 4m 27s\n",
      "70:\tlearn: 6.4490360\ttest: 39.6597759\tbest: 38.4701841 (23)\ttotal: 20.5s\tremaining: 4m 27s\n",
      "71:\tlearn: 6.4389859\ttest: 39.8108776\tbest: 38.4701841 (23)\ttotal: 20.7s\tremaining: 4m 26s\n",
      "72:\tlearn: 6.4264666\ttest: 39.7393419\tbest: 38.4701841 (23)\ttotal: 21.1s\tremaining: 4m 27s\n",
      "73:\tlearn: 6.4128221\ttest: 40.1040733\tbest: 38.4701841 (23)\ttotal: 21.3s\tremaining: 4m 26s\n",
      "Stopped by overfitting detector  (50 iterations wait)\n",
      "\n",
      "bestTest = 38.47018413\n",
      "bestIteration = 23\n",
      "\n",
      "Shrink model to first 24 iterations.\n"
     ]
    }
   ],
   "source": [
    "all_importances = pd.DataFrame() # для сбора рангов на итерациях\n",
    "tscv = TimeSeriesSplit(n_splits=5)\n",
    "val_ratio = 0.2\n",
    "metrics = {\n",
    "    'R2': [],\n",
    "    'WAPE': [],\n",
    "    'BIAS': [],\n",
    "    'MAE': []\n",
    "}\n",
    "for _, (train_index, test_index) in enumerate(tscv.split(train)):\n",
    "    train_train, train_test = train.iloc[train_index], train.iloc[test_index]\n",
    "    y_train, y_test = y.iloc[train_index], y.iloc[test_index]\n",
    "    \n",
    "    split_idx = int(len(train_train) * (1 - val_ratio))\n",
    "    train_train, train_val = train_train.iloc[:split_idx], train_train.iloc[split_idx:]\n",
    "    y_train, y_val = y_train.iloc[:split_idx], y_train.iloc[split_idx:]\n",
    "    \n",
    "    model = catboost.CatBoostRegressor(random_seed=313,\n",
    "                                   cat_features=categorycal_cols,\n",
    "                                   loss_function='RMSE',\n",
    "                                   early_stopping_rounds=50)\n",
    "    model.fit(train_train, y_train , eval_set=(train_val, y_val),plot=True)\n",
    "    y_pred = model.predict(train_test)\n",
    "    metrics['R2'].append(r2_score(y_test, y_pred))\n",
    "    metrics['WAPE'].append(calculate_wape(y_test, y_pred))\n",
    "    metrics['BIAS'].append(calculate_bias(y_test, y_pred))\n",
    "    metrics['MAE'].append(mean_absolute_error(y_test, y_pred))\n",
    "\n",
    "    feature_importances = pd.DataFrame({'w':model.feature_importances_ , 'name':train.columns}).sort_values('w',ascending=False).reset_index(drop=True)\n",
    "    feature_importances['index'] = len(feature_importances) - feature_importances.index\n",
    "    all_importances = pd.concat([all_importances]+[feature_importances])"
   ]
  },
  {
   "cell_type": "code",
   "execution_count": 102,
   "metadata": {},
   "outputs": [],
   "source": [
    "for i in metrics.keys():\n",
    "    plt.title(i)\n",
    "    plt.xlabel('fold')\n",
    "    pd.Series(metrics[i]).plot(kind='bar')\n",
    "    plt.show()"
   ]
  },
  {
   "cell_type": "code",
   "execution_count": 103,
   "metadata": {},
   "outputs": [
    {
     "data": {
      "text/plain": [
       "{'R2': [0.7467067727851017,\n",
       "  0.738635997722974,\n",
       "  0.8341619782027103,\n",
       "  0.45642085638444785,\n",
       "  0.8269973335184851],\n",
       " 'WAPE': [0.4467182695365406,\n",
       "  0.4098262643341299,\n",
       "  0.4132230974431865,\n",
       "  0.5108860599972064,\n",
       "  0.4123698416727923],\n",
       " 'BIAS': [0.126249050858801,\n",
       "  -0.2628515477155136,\n",
       "  0.05358902441728794,\n",
       "  -1.1681582904741477,\n",
       "  -0.0012367414817186578],\n",
       " 'MAE': [2.478571401303497,\n",
       "  2.7026688289131267,\n",
       "  2.502639015738281,\n",
       "  3.8495722393225384,\n",
       "  2.4554250843534136]}"
      ]
     },
     "execution_count": 103,
     "metadata": {},
     "output_type": "execute_result"
    }
   ],
   "source": [
    "metrics"
   ]
  },
  {
   "cell_type": "markdown",
   "metadata": {},
   "source": [
    "Не самые выдающиеся метрики,но и не самые выдающиеся данные"
   ]
  },
  {
   "cell_type": "markdown",
   "metadata": {},
   "source": [
    "catboost показывает нам графики.  \n",
    "pools обеспечивают нам валидацию ошибок трейн и теста  \n",
    "Видно,что мы не допустили недообучения и переобучения,что важно.  \n",
    "После каждого фолда мы записываем ранг важности каждого признака,складываем и усредняем.  \n",
    "Получаем ранги важностей признаков.  \n",
    "Давайте взглянем  "
   ]
  },
  {
   "cell_type": "code",
   "execution_count": 104,
   "metadata": {},
   "outputs": [],
   "source": [
    "all_importances = pd.DataFrame(all_importances.groupby('name')['index'].mean().sort_values(ascending=False))\n",
    "plt.bar(feature_importances['name'], feature_importances['w'])\n",
    "plt.xlabel('Features')\n",
    "plt.ylabel('Importance')\n",
    "plt.title('Feature Importances')\n",
    "plt.xticks(rotation=45, ha='right')\n",
    "plt.tight_layout()\n",
    "plt.show()"
   ]
  },
  {
   "cell_type": "code",
   "execution_count": 105,
   "metadata": {},
   "outputs": [
    {
     "data": {
      "text/html": [
       "<div>\n",
       "<style scoped>\n",
       "    .dataframe tbody tr th:only-of-type {\n",
       "        vertical-align: middle;\n",
       "    }\n",
       "\n",
       "    .dataframe tbody tr th {\n",
       "        vertical-align: top;\n",
       "    }\n",
       "\n",
       "    .dataframe thead th {\n",
       "        text-align: right;\n",
       "    }\n",
       "</style>\n",
       "<table border=\"1\" class=\"dataframe\">\n",
       "  <thead>\n",
       "    <tr style=\"text-align: right;\">\n",
       "      <th></th>\n",
       "      <th>index</th>\n",
       "    </tr>\n",
       "    <tr>\n",
       "      <th>name</th>\n",
       "      <th></th>\n",
       "    </tr>\n",
       "  </thead>\n",
       "  <tbody>\n",
       "    <tr>\n",
       "      <th>sales_last_1_weeks</th>\n",
       "      <td>34.000</td>\n",
       "    </tr>\n",
       "    <tr>\n",
       "      <th>quantity_lag_14</th>\n",
       "      <td>32.600</td>\n",
       "    </tr>\n",
       "    <tr>\n",
       "      <th>quantity_lag_7</th>\n",
       "      <td>32.200</td>\n",
       "    </tr>\n",
       "    <tr>\n",
       "      <th>price_base</th>\n",
       "      <td>29.400</td>\n",
       "    </tr>\n",
       "    <tr>\n",
       "      <th>sales_last_4_weeks</th>\n",
       "      <td>29.000</td>\n",
       "    </tr>\n",
       "    <tr>\n",
       "      <th>day_of_week_avg_sales</th>\n",
       "      <td>27.400</td>\n",
       "    </tr>\n",
       "    <tr>\n",
       "      <th>sales_last_2_weeks</th>\n",
       "      <td>26.800</td>\n",
       "    </tr>\n",
       "    <tr>\n",
       "      <th>quantity_lag_30</th>\n",
       "      <td>26.600</td>\n",
       "    </tr>\n",
       "    <tr>\n",
       "      <th>day_of_week</th>\n",
       "      <td>24.400</td>\n",
       "    </tr>\n",
       "    <tr>\n",
       "      <th>dept_name</th>\n",
       "      <td>24.200</td>\n",
       "    </tr>\n",
       "  </tbody>\n",
       "</table>\n",
       "</div>"
      ],
      "text/plain": [
       "                       index\n",
       "name                        \n",
       "sales_last_1_weeks    34.000\n",
       "quantity_lag_14       32.600\n",
       "quantity_lag_7        32.200\n",
       "price_base            29.400\n",
       "sales_last_4_weeks    29.000\n",
       "day_of_week_avg_sales 27.400\n",
       "sales_last_2_weeks    26.800\n",
       "quantity_lag_30       26.600\n",
       "day_of_week           24.400\n",
       "dept_name             24.200"
      ]
     },
     "execution_count": 105,
     "metadata": {},
     "output_type": "execute_result"
    }
   ],
   "source": [
    "all_importances.head(10)"
   ]
  },
  {
   "cell_type": "markdown",
   "metadata": {},
   "source": [
    "Возьмем топ20 фичей и добавим оставшиеся важные"
   ]
  },
  {
   "cell_type": "code",
   "execution_count": 106,
   "metadata": {},
   "outputs": [],
   "source": [
    "selected_features = all_importances.head(20).index.to_list()"
   ]
  },
  {
   "cell_type": "markdown",
   "metadata": {},
   "source": [
    "Лучшие фичи"
   ]
  },
  {
   "cell_type": "code",
   "execution_count": 107,
   "metadata": {},
   "outputs": [
    {
     "data": {
      "text/plain": [
       "['sales_last_1_weeks',\n",
       " 'quantity_lag_14',\n",
       " 'quantity_lag_7',\n",
       " 'price_base',\n",
       " 'sales_last_4_weeks',\n",
       " 'day_of_week_avg_sales',\n",
       " 'sales_last_2_weeks',\n",
       " 'quantity_lag_30',\n",
       " 'day_of_week',\n",
       " 'dept_name',\n",
       " 'sales_last_3_weeks',\n",
       " 'discount_price_perc',\n",
       " 'date',\n",
       " 'week_of_year',\n",
       " 'quarter_avg_sales',\n",
       " 'discount_price_abs',\n",
       " 'number_disc_day',\n",
       " 'weight_volume',\n",
       " 'day_avg_sales',\n",
       " 'item_id']"
      ]
     },
     "execution_count": 107,
     "metadata": {},
     "output_type": "execute_result"
    }
   ],
   "source": [
    "selected_features"
   ]
  },
  {
   "cell_type": "code",
   "execution_count": 108,
   "metadata": {},
   "outputs": [],
   "source": [
    "selected_features = selected_features + ['store_id']"
   ]
  },
  {
   "cell_type": "markdown",
   "metadata": {},
   "source": [
    "обновим инфо об категориальных колонках"
   ]
  },
  {
   "cell_type": "markdown",
   "metadata": {},
   "source": [
    "Возьмем только нужные фичи далее"
   ]
  },
  {
   "cell_type": "code",
   "execution_count": 112,
   "metadata": {},
   "outputs": [],
   "source": [
    "train.to_parquet('train')\n",
    "pd.DataFrame(y).to_parquet('y')\n",
    "test.to_parquet('test')\n"
   ]
  },
  {
   "cell_type": "code",
   "execution_count": 114,
   "metadata": {},
   "outputs": [],
   "source": [
    "train = train[selected_features]\n",
    "# y = уже в оперативке\n",
    "y_test = test['quantity']\n",
    "test = test[selected_features]"
   ]
  },
  {
   "cell_type": "code",
   "execution_count": 117,
   "metadata": {},
   "outputs": [],
   "source": [
    "categorycal_cols = train.select_dtypes(include=['object']).columns.to_list()"
   ]
  },
  {
   "cell_type": "markdown",
   "metadata": {},
   "source": [
    "# Подбор параметров"
   ]
  },
  {
   "cell_type": "markdown",
   "metadata": {},
   "source": [
    "Воспользуемся библиотекой optuna.\n",
    "Минимизуем rmse"
   ]
  },
  {
   "cell_type": "code",
   "execution_count": 119,
   "metadata": {},
   "outputs": [
    {
     "name": "stderr",
     "output_type": "stream",
     "text": [
      "[I 2025-01-27 22:40:33,316] A new study created in memory with name: no-name-9a15a475-cc94-4dc0-ab19-2691378d3370\n",
      "[I 2025-01-27 22:41:30,262] Trial 0 finished with value: 551408.7480905324 and parameters: {'iterations': 756, 'learning_rate': 0.040271775840387776, 'depth': 8, 'l2_leaf_reg': 4.528626714590712, 'border_count': 153, 'random_strength': 1.1839166296410168, 'bagging_temperature': 0.10991332465664416}. Best is trial 0 with value: 551408.7480905324.\n"
     ]
    },
    {
     "name": "stdout",
     "output_type": "stream",
     "text": [
      "Trial 0: [21911.819565984217, 1080905.6766150806] , mean : 551408.7480905324\n",
      "rmse_scores [21911.819565984217, 1080905.6766150806]\n"
     ]
    },
    {
     "name": "stderr",
     "output_type": "stream",
     "text": [
      "[I 2025-01-27 22:41:53,445] Trial 1 finished with value: 569776.6087918523 and parameters: {'iterations': 2971, 'learning_rate': 0.16530862274168154, 'depth': 3, 'l2_leaf_reg': 3.439367596058628, 'border_count': 111, 'random_strength': 1.6201242355262917, 'bagging_temperature': 3.52470022841503}. Best is trial 0 with value: 551408.7480905324.\n"
     ]
    },
    {
     "name": "stdout",
     "output_type": "stream",
     "text": [
      "Trial 1: [23825.28662457973, 1115727.9309591248] , mean : 569776.6087918523\n",
      "rmse_scores [23825.28662457973, 1115727.9309591248]\n"
     ]
    },
    {
     "name": "stderr",
     "output_type": "stream",
     "text": [
      "[I 2025-01-27 22:42:29,189] Trial 2 finished with value: 556125.5539288425 and parameters: {'iterations': 4480, 'learning_rate': 0.18217034214062058, 'depth': 8, 'l2_leaf_reg': 0.724788611934804, 'border_count': 112, 'random_strength': 0.9400451543181234, 'bagging_temperature': 3.2430020559395456}. Best is trial 0 with value: 551408.7480905324.\n"
     ]
    },
    {
     "name": "stdout",
     "output_type": "stream",
     "text": [
      "Trial 2: [32567.224503428082, 1079683.883354257] , mean : 556125.5539288425\n",
      "rmse_scores [32567.224503428082, 1079683.883354257]\n"
     ]
    },
    {
     "name": "stderr",
     "output_type": "stream",
     "text": [
      "[I 2025-01-27 22:43:19,216] Trial 3 finished with value: 697593.7731818713 and parameters: {'iterations': 3463, 'learning_rate': 0.09561736511118551, 'depth': 10, 'l2_leaf_reg': 3.391612890181438, 'border_count': 123, 'random_strength': 1.3847890859989018, 'bagging_temperature': 0.7537556911569909}. Best is trial 0 with value: 551408.7480905324.\n"
     ]
    },
    {
     "name": "stdout",
     "output_type": "stream",
     "text": [
      "Trial 3: [32239.640281246626, 1362947.9060824958] , mean : 697593.7731818713\n",
      "rmse_scores [32239.640281246626, 1362947.9060824958]\n"
     ]
    },
    {
     "name": "stderr",
     "output_type": "stream",
     "text": [
      "[I 2025-01-27 22:44:15,344] Trial 4 finished with value: 612664.1531603287 and parameters: {'iterations': 554, 'learning_rate': 0.05635718547987127, 'depth': 9, 'l2_leaf_reg': 4.4666550593768015, 'border_count': 172, 'random_strength': 0.07455767869230767, 'bagging_temperature': 2.262821290577884}. Best is trial 0 with value: 551408.7480905324.\n"
     ]
    },
    {
     "name": "stdout",
     "output_type": "stream",
     "text": [
      "Trial 4: [19758.952783415934, 1205569.3535372415] , mean : 612664.1531603287\n",
      "rmse_scores [19758.952783415934, 1205569.3535372415]\n"
     ]
    },
    {
     "name": "stderr",
     "output_type": "stream",
     "text": [
      "[I 2025-01-27 22:44:37,712] Trial 5 finished with value: 858049.2230281155 and parameters: {'iterations': 703, 'learning_rate': 0.17703317810968155, 'depth': 4, 'l2_leaf_reg': 0.25368845833393827, 'border_count': 32, 'random_strength': 1.1166506297679237, 'bagging_temperature': 3.1654725979098606}. Best is trial 0 with value: 551408.7480905324.\n"
     ]
    },
    {
     "name": "stdout",
     "output_type": "stream",
     "text": [
      "Trial 5: [66696.50569174031, 1649401.9403644907] , mean : 858049.2230281155\n",
      "rmse_scores [66696.50569174031, 1649401.9403644907]\n"
     ]
    },
    {
     "name": "stderr",
     "output_type": "stream",
     "text": [
      "[I 2025-01-27 22:45:04,177] Trial 6 finished with value: 638354.9328083021 and parameters: {'iterations': 1826, 'learning_rate': 0.2134722702083992, 'depth': 5, 'l2_leaf_reg': 4.615957441284795, 'border_count': 111, 'random_strength': 0.34329719628817346, 'bagging_temperature': 4.470713193667245}. Best is trial 0 with value: 551408.7480905324.\n"
     ]
    },
    {
     "name": "stdout",
     "output_type": "stream",
     "text": [
      "Trial 6: [34116.40825518579, 1242593.4573614185] , mean : 638354.9328083021\n",
      "rmse_scores [34116.40825518579, 1242593.4573614185]\n"
     ]
    },
    {
     "name": "stderr",
     "output_type": "stream",
     "text": [
      "[I 2025-01-27 22:45:31,312] Trial 7 finished with value: 494052.29663515964 and parameters: {'iterations': 3712, 'learning_rate': 0.23767041503296166, 'depth': 6, 'l2_leaf_reg': 2.173241439531821, 'border_count': 225, 'random_strength': 0.970245514151574, 'bagging_temperature': 2.1055292694852983}. Best is trial 7 with value: 494052.29663515964.\n"
     ]
    },
    {
     "name": "stdout",
     "output_type": "stream",
     "text": [
      "Trial 7: [15544.122051359542, 972560.4712189598] , mean : 494052.29663515964\n",
      "rmse_scores [15544.122051359542, 972560.4712189598]\n"
     ]
    },
    {
     "name": "stderr",
     "output_type": "stream",
     "text": [
      "[I 2025-01-27 22:46:03,134] Trial 8 finished with value: 562037.0067317621 and parameters: {'iterations': 1025, 'learning_rate': 0.22440451155992233, 'depth': 7, 'l2_leaf_reg': 2.3364299592012054, 'border_count': 166, 'random_strength': 1.2413347219088877, 'bagging_temperature': 3.1347614696388644}. Best is trial 7 with value: 494052.29663515964.\n"
     ]
    },
    {
     "name": "stdout",
     "output_type": "stream",
     "text": [
      "Trial 8: [28437.015456394965, 1095636.9980071292] , mean : 562037.0067317621\n",
      "rmse_scores [28437.015456394965, 1095636.9980071292]\n"
     ]
    },
    {
     "name": "stderr",
     "output_type": "stream",
     "text": [
      "[I 2025-01-27 22:46:23,577] Trial 9 finished with value: 624820.5065228426 and parameters: {'iterations': 3400, 'learning_rate': 0.24883276953420916, 'depth': 4, 'l2_leaf_reg': 1.2190130416292289, 'border_count': 114, 'random_strength': 0.7218327113462595, 'bagging_temperature': 4.8768384083589265}. Best is trial 7 with value: 494052.29663515964.\n"
     ]
    },
    {
     "name": "stdout",
     "output_type": "stream",
     "text": [
      "Trial 9: [26549.64912425124, 1223091.363921434] , mean : 624820.5065228426\n",
      "rmse_scores [26549.64912425124, 1223091.363921434]\n"
     ]
    }
   ],
   "source": [
    "\n",
    "def catboost_objective(trial):\n",
    "    params = {\n",
    "        'iterations': trial.suggest_int('iterations', 500, 5000),\n",
    "        'learning_rate': trial.suggest_float('learning_rate', 0.01, 0.3),\n",
    "        'depth': trial.suggest_int('depth', 3, 10),\n",
    "        'l2_leaf_reg': trial.suggest_float('l2_leaf_reg', 0, 5),\n",
    "        'border_count': trial.suggest_int('border_count', 32, 255),\n",
    "        'random_strength': trial.suggest_float('random_strength', 0, 2),\n",
    "        'bagging_temperature': trial.suggest_float('bagging_temperature', 0, 5),\n",
    "        \n",
    "    }\n",
    "    tscv = TimeSeriesSplit(n_splits=2)\n",
    "    rmse_scores = []\n",
    "    for _, (train_index, test_index) in enumerate(tscv.split(train)):\n",
    "        train_train, train_test = train.iloc[train_index], train.iloc[test_index]\n",
    "        y_train, y_test = y.iloc[train_index], y.iloc[test_index]\n",
    "        \n",
    "        split_idx = int(len(train_train) * (1 - val_ratio))\n",
    "        train_train, train_val = train_train.iloc[:split_idx], train_train.iloc[split_idx:]\n",
    "        y_train, y_val = y_train.iloc[:split_idx], y_train.iloc[split_idx:]\n",
    "        model = catboost.CatBoostRegressor(**params,\n",
    "                                random_seed=313,\n",
    "                                   cat_features=categorycal_cols,\n",
    "                                   loss_function='RMSE',\n",
    "                                   early_stopping_rounds=50,\n",
    "                                   verbose=False)\n",
    "        model.fit(train_train, y_train , eval_set=(train_val, y_val),plot=False)\n",
    "        y_pred = model.predict(train_test)\n",
    "        rmse = (mean_squared_error(y_test, y_pred))**2\n",
    "        rmse_scores.append(rmse)\n",
    "    print(f'Trial {trial.number}: {rmse_scores} , mean : {np.mean(rmse_scores)}')\n",
    "    print('rmse_scores',rmse_scores)\n",
    "    return np.mean(rmse_scores) \n",
    "\n",
    "catboost_study = optuna.create_study(direction='minimize')\n",
    "catboost_study.optimize(catboost_objective, n_trials=10)\n",
    "\n",
    "catboost_combined_data_best_params = catboost_study.best_params"
   ]
  },
  {
   "cell_type": "markdown",
   "metadata": {},
   "source": [
    "Лучшие параметры катбуста на 10 итерациях поиска"
   ]
  },
  {
   "cell_type": "code",
   "execution_count": 120,
   "metadata": {},
   "outputs": [
    {
     "data": {
      "text/plain": [
       "{'iterations': 3712,\n",
       " 'learning_rate': 0.23767041503296166,\n",
       " 'depth': 6,\n",
       " 'l2_leaf_reg': 2.173241439531821,\n",
       " 'border_count': 225,\n",
       " 'random_strength': 0.970245514151574,\n",
       " 'bagging_temperature': 2.1055292694852983}"
      ]
     },
     "execution_count": 120,
     "metadata": {},
     "output_type": "execute_result"
    }
   ],
   "source": [
    "catboost_combined_data_best_params"
   ]
  },
  {
   "cell_type": "markdown",
   "metadata": {},
   "source": [
    "# Финальная модель"
   ]
  },
  {
   "cell_type": "markdown",
   "metadata": {},
   "source": [
    "Обучим итоговую модель на лучших фичах и параметрах"
   ]
  },
  {
   "cell_type": "code",
   "execution_count": 126,
   "metadata": {},
   "outputs": [],
   "source": [
    "train_train, train_val, y_train, y_val = train_test_split(train, y, test_size=0.2, shuffle=False)# нельзя перемешивать"
   ]
  },
  {
   "cell_type": "code",
   "execution_count": 127,
   "metadata": {},
   "outputs": [
    {
     "data": {
      "application/vnd.jupyter.widget-view+json": {
       "model_id": "13107c1d7fbe47bdb2fc92fcd0f17056",
       "version_major": 2,
       "version_minor": 0
      },
      "text/plain": [
       "MetricVisualizer(layout=Layout(align_self='stretch', height='500px'))"
      ]
     },
     "metadata": {},
     "output_type": "display_data"
    },
    {
     "data": {
      "text/plain": [
       "<catboost.core.CatBoostRegressor at 0x30c827c50>"
      ]
     },
     "execution_count": 127,
     "metadata": {},
     "output_type": "execute_result"
    }
   ],
   "source": [
    "model  = catboost.CatBoostRegressor(**catboost_combined_data_best_params,\n",
    "                                random_seed=313,\n",
    "                                   cat_features=categorycal_cols,\n",
    "                                   loss_function='RMSE',\n",
    "                                   early_stopping_rounds=50,\n",
    "                                   verbose=False)\n",
    "model.fit(train_train, y_train , eval_set=(train_val, y_val),plot=True)"
   ]
  },
  {
   "cell_type": "markdown",
   "metadata": {},
   "source": [
    "# Предсказание теста"
   ]
  },
  {
   "cell_type": "markdown",
   "metadata": {},
   "source": [
    "дата задача для каждой точки теста в разрезе продукт-магазин-дата дать прогноз на 7 дней вперед  \n",
    "Для этого расчитаем базовые предсказания"
   ]
  },
  {
   "cell_type": "code",
   "execution_count": 129,
   "metadata": {},
   "outputs": [],
   "source": [
    "test['predict'] = model.predict(test)"
   ]
  },
  {
   "cell_type": "markdown",
   "metadata": {},
   "source": [
    "для обьективного расчета метрики необходимо конечно знать меру в чем продается товар.(вопрос округления в какую сторону и нужно ли)\n",
    "Но таких данных у нас нет.  \n",
    "Поэтому оставлю прогноз как есть"
   ]
  },
  {
   "cell_type": "code",
   "execution_count": 132,
   "metadata": {},
   "outputs": [
    {
     "data": {
      "text/plain": [
       "0        3.000\n",
       "1        2.000\n",
       "2        2.000\n",
       "3        3.000\n",
       "4        4.000\n",
       "          ... \n",
       "413002   2.000\n",
       "413003   1.000\n",
       "413004   1.000\n",
       "413005   2.000\n",
       "413006   1.000\n",
       "Name: quantity, Length: 413007, dtype: float64"
      ]
     },
     "execution_count": 132,
     "metadata": {},
     "output_type": "execute_result"
    }
   ],
   "source": [
    "y_test"
   ]
  },
  {
   "cell_type": "markdown",
   "metadata": {},
   "source": [
    "Вернем обратно таргет для расчета метрик"
   ]
  },
  {
   "cell_type": "code",
   "execution_count": 136,
   "metadata": {},
   "outputs": [],
   "source": [
    "test['quantity'] = y_test"
   ]
  },
  {
   "cell_type": "markdown",
   "metadata": {},
   "source": [
    "Посчитаем по каждому артикулу-магазину-и дате на 7 дней вперед включительно сколько было продаж и сколько спрогнозированно"
   ]
  },
  {
   "cell_type": "markdown",
   "metadata": {},
   "source": [
    "Что здесь в сущности измеренно"
   ]
  },
  {
   "cell_type": "code",
   "execution_count": 155,
   "metadata": {},
   "outputs": [
    {
     "data": {
      "text/html": [
       "<div>\n",
       "<style scoped>\n",
       "    .dataframe tbody tr th:only-of-type {\n",
       "        vertical-align: middle;\n",
       "    }\n",
       "\n",
       "    .dataframe tbody tr th {\n",
       "        vertical-align: top;\n",
       "    }\n",
       "\n",
       "    .dataframe thead th {\n",
       "        text-align: right;\n",
       "    }\n",
       "</style>\n",
       "<table border=\"1\" class=\"dataframe\">\n",
       "  <thead>\n",
       "    <tr style=\"text-align: right;\">\n",
       "      <th></th>\n",
       "      <th>date</th>\n",
       "      <th>item_id</th>\n",
       "      <th>quantity</th>\n",
       "      <th>store_id</th>\n",
       "      <th>cast_1_weeks</th>\n",
       "      <th>fact_1_weeks</th>\n",
       "    </tr>\n",
       "  </thead>\n",
       "  <tbody>\n",
       "    <tr>\n",
       "      <th>0</th>\n",
       "      <td>2024-08-26</td>\n",
       "      <td>001829cb707d</td>\n",
       "      <td>3.000</td>\n",
       "      <td>1</td>\n",
       "      <td>25.967</td>\n",
       "      <td>26.000</td>\n",
       "    </tr>\n",
       "    <tr>\n",
       "      <th>1</th>\n",
       "      <td>2024-08-27</td>\n",
       "      <td>001829cb707d</td>\n",
       "      <td>2.000</td>\n",
       "      <td>1</td>\n",
       "      <td>28.287</td>\n",
       "      <td>24.000</td>\n",
       "    </tr>\n",
       "    <tr>\n",
       "      <th>2</th>\n",
       "      <td>2024-08-28</td>\n",
       "      <td>001829cb707d</td>\n",
       "      <td>2.000</td>\n",
       "      <td>1</td>\n",
       "      <td>29.351</td>\n",
       "      <td>24.000</td>\n",
       "    </tr>\n",
       "    <tr>\n",
       "      <th>3</th>\n",
       "      <td>2024-08-29</td>\n",
       "      <td>001829cb707d</td>\n",
       "      <td>3.000</td>\n",
       "      <td>1</td>\n",
       "      <td>29.428</td>\n",
       "      <td>26.000</td>\n",
       "    </tr>\n",
       "    <tr>\n",
       "      <th>4</th>\n",
       "      <td>2024-08-30</td>\n",
       "      <td>001829cb707d</td>\n",
       "      <td>4.000</td>\n",
       "      <td>1</td>\n",
       "      <td>30.163</td>\n",
       "      <td>27.000</td>\n",
       "    </tr>\n",
       "  </tbody>\n",
       "</table>\n",
       "</div>"
      ],
      "text/plain": [
       "        date       item_id  quantity  store_id  cast_1_weeks  fact_1_weeks\n",
       "0 2024-08-26  001829cb707d     3.000         1        25.967        26.000\n",
       "1 2024-08-27  001829cb707d     2.000         1        28.287        24.000\n",
       "2 2024-08-28  001829cb707d     2.000         1        29.351        24.000\n",
       "3 2024-08-29  001829cb707d     3.000         1        29.428        26.000\n",
       "4 2024-08-30  001829cb707d     4.000         1        30.163        27.000"
      ]
     },
     "execution_count": 155,
     "metadata": {},
     "output_type": "execute_result"
    }
   ],
   "source": [
    "test[['date','item_id','quantity','store_id','cast_1_weeks','fact_1_weeks']].head()"
   ]
  },
  {
   "cell_type": "markdown",
   "metadata": {},
   "source": [
    "у нас есть прогнозы и продажи для каждой строчки,  \n",
    "Мы просто ищем по ключу их же,и складываем на 7 дней вперед для каждой строчки"
   ]
  },
  {
   "cell_type": "code",
   "execution_count": 145,
   "metadata": {},
   "outputs": [
    {
     "data": {
      "text/plain": [
       "25.967057554854883"
      ]
     },
     "execution_count": 145,
     "metadata": {},
     "output_type": "execute_result"
    }
   ],
   "source": [
    "test.head(7)['predict'].sum()"
   ]
  },
  {
   "cell_type": "markdown",
   "metadata": {},
   "source": [
    "Вручную проверил считается верно"
   ]
  },
  {
   "cell_type": "code",
   "execution_count": 137,
   "metadata": {},
   "outputs": [],
   "source": [
    "\n",
    "for weeks, days in [(1,7)]:\n",
    "    test = add_sum(test, f'cast_{weeks}_weeks','predict')\n",
    "    test = add_sum(test, f'fact_{weeks}_weeks','quantity')\n"
   ]
  },
  {
   "cell_type": "markdown",
   "metadata": {},
   "source": [
    "Так как тест заканчивается 28 числом а прогноз на 7 дней,то обрежем до 21 числа,чтобы правильно измерить метрики"
   ]
  },
  {
   "cell_type": "code",
   "execution_count": 139,
   "metadata": {},
   "outputs": [],
   "source": [
    "test_to_compute_metrics = test.loc[test['date']<='2024-09-21'].copy()\n"
   ]
  },
  {
   "cell_type": "markdown",
   "metadata": {},
   "source": [
    "# Итоговые метрики"
   ]
  },
  {
   "cell_type": "code",
   "execution_count": 140,
   "metadata": {},
   "outputs": [
    {
     "name": "stdout",
     "output_type": "stream",
     "text": [
      "wape 0.18681000029723113\n",
      "bias 0.4726527849376888\n",
      "mae 6.416807518422039\n"
     ]
    }
   ],
   "source": [
    "print('wape',calculate_wape(test_to_compute_metrics['cast_1_weeks'],test_to_compute_metrics['fact_1_weeks'])),\n",
    "print('bias',calculate_bias(test_to_compute_metrics['cast_1_weeks'],test_to_compute_metrics['fact_1_weeks']))\n",
    "print('mae',mean_absolute_error(test_to_compute_metrics['cast_1_weeks'],test_to_compute_metrics['fact_1_weeks']))\n"
   ]
  },
  {
   "cell_type": "markdown",
   "metadata": {},
   "source": [
    "Данные метрики можно улучшить за счет новых данных:\n",
    "- Информации об остатках в магазинах\n",
    "- Прогноза погоды\n",
    "- Информации о наших посетителях\n",
    "- И многое и многое другое.\n",
    "Так же результат можно улучшить применив техники блендинга и стекинга для разных товарных категорий и магазинов  "
   ]
  },
  {
   "cell_type": "markdown",
   "metadata": {},
   "source": [
    "Посчитаем эффективность прогнозирования по категориям без учета магазинов  \n",
    "Воспользуемся АBC анализом"
   ]
  },
  {
   "cell_type": "code",
   "execution_count": 157,
   "metadata": {},
   "outputs": [
    {
     "data": {
      "text/html": [
       "<div>\n",
       "<style scoped>\n",
       "    .dataframe tbody tr th:only-of-type {\n",
       "        vertical-align: middle;\n",
       "    }\n",
       "\n",
       "    .dataframe tbody tr th {\n",
       "        vertical-align: top;\n",
       "    }\n",
       "\n",
       "    .dataframe thead th {\n",
       "        text-align: right;\n",
       "    }\n",
       "</style>\n",
       "<table border=\"1\" class=\"dataframe\">\n",
       "  <thead>\n",
       "    <tr style=\"text-align: right;\">\n",
       "      <th></th>\n",
       "      <th>date</th>\n",
       "      <th>item_id</th>\n",
       "      <th>store_id</th>\n",
       "      <th>quantity</th>\n",
       "      <th>price_base</th>\n",
       "      <th>sum</th>\n",
       "    </tr>\n",
       "  </thead>\n",
       "  <tbody>\n",
       "    <tr>\n",
       "      <th>0</th>\n",
       "      <td>2022-08-28</td>\n",
       "      <td>001829cb707d</td>\n",
       "      <td>1</td>\n",
       "      <td>7.000</td>\n",
       "      <td>134.760</td>\n",
       "      <td>943.320</td>\n",
       "    </tr>\n",
       "    <tr>\n",
       "      <th>1</th>\n",
       "      <td>2022-08-28</td>\n",
       "      <td>001829cb707d</td>\n",
       "      <td>2</td>\n",
       "      <td>1.000</td>\n",
       "      <td>148.000</td>\n",
       "      <td>148.000</td>\n",
       "    </tr>\n",
       "    <tr>\n",
       "      <th>2</th>\n",
       "      <td>2022-08-28</td>\n",
       "      <td>0022b986c8f0</td>\n",
       "      <td>1</td>\n",
       "      <td>2.000</td>\n",
       "      <td>59.900</td>\n",
       "      <td>119.800</td>\n",
       "    </tr>\n",
       "    <tr>\n",
       "      <th>3</th>\n",
       "      <td>2022-08-28</td>\n",
       "      <td>00274a69c705</td>\n",
       "      <td>2</td>\n",
       "      <td>1.000</td>\n",
       "      <td>35.900</td>\n",
       "      <td>35.900</td>\n",
       "    </tr>\n",
       "    <tr>\n",
       "      <th>4</th>\n",
       "      <td>2022-08-28</td>\n",
       "      <td>00274a69c705</td>\n",
       "      <td>3</td>\n",
       "      <td>5.000</td>\n",
       "      <td>35.900</td>\n",
       "      <td>179.500</td>\n",
       "    </tr>\n",
       "  </tbody>\n",
       "</table>\n",
       "</div>"
      ],
      "text/plain": [
       "         date       item_id  store_id  quantity  price_base     sum\n",
       "0  2022-08-28  001829cb707d         1     7.000     134.760 943.320\n",
       "1  2022-08-28  001829cb707d         2     1.000     148.000 148.000\n",
       "2  2022-08-28  0022b986c8f0         1     2.000      59.900 119.800\n",
       "3  2022-08-28  00274a69c705         2     1.000      35.900  35.900\n",
       "4  2022-08-28  00274a69c705         3     5.000      35.900 179.500"
      ]
     },
     "execution_count": 157,
     "metadata": {},
     "output_type": "execute_result"
    }
   ],
   "source": [
    "sales['sum'] = sales['quantity'] * sales['price_base']\n",
    "sales.head()"
   ]
  },
  {
   "cell_type": "markdown",
   "metadata": {},
   "source": [
    "Посчитаем сумму продаж по каждому продукту и долю каждого продукта"
   ]
  },
  {
   "cell_type": "code",
   "execution_count": 159,
   "metadata": {},
   "outputs": [
    {
     "data": {
      "text/html": [
       "<div>\n",
       "<style scoped>\n",
       "    .dataframe tbody tr th:only-of-type {\n",
       "        vertical-align: middle;\n",
       "    }\n",
       "\n",
       "    .dataframe tbody tr th {\n",
       "        vertical-align: top;\n",
       "    }\n",
       "\n",
       "    .dataframe thead th {\n",
       "        text-align: right;\n",
       "    }\n",
       "</style>\n",
       "<table border=\"1\" class=\"dataframe\">\n",
       "  <thead>\n",
       "    <tr style=\"text-align: right;\">\n",
       "      <th></th>\n",
       "      <th>item_id</th>\n",
       "      <th>sum</th>\n",
       "    </tr>\n",
       "  </thead>\n",
       "  <tbody>\n",
       "    <tr>\n",
       "      <th>0</th>\n",
       "      <td>9a7e315f3f42</td>\n",
       "      <td>333375186.179</td>\n",
       "    </tr>\n",
       "    <tr>\n",
       "      <th>1</th>\n",
       "      <td>63161948a95a</td>\n",
       "      <td>195430050.000</td>\n",
       "    </tr>\n",
       "    <tr>\n",
       "      <th>2</th>\n",
       "      <td>0973df3ff57f</td>\n",
       "      <td>42112929.171</td>\n",
       "    </tr>\n",
       "    <tr>\n",
       "      <th>3</th>\n",
       "      <td>7428830d55b6</td>\n",
       "      <td>38893094.598</td>\n",
       "    </tr>\n",
       "    <tr>\n",
       "      <th>4</th>\n",
       "      <td>e7e806fd20a2</td>\n",
       "      <td>35383731.874</td>\n",
       "    </tr>\n",
       "    <tr>\n",
       "      <th>...</th>\n",
       "      <td>...</td>\n",
       "      <td>...</td>\n",
       "    </tr>\n",
       "    <tr>\n",
       "      <th>28304</th>\n",
       "      <td>95da1d9e3800</td>\n",
       "      <td>0.010</td>\n",
       "    </tr>\n",
       "    <tr>\n",
       "      <th>28305</th>\n",
       "      <td>2d34a7e69457</td>\n",
       "      <td>0.010</td>\n",
       "    </tr>\n",
       "    <tr>\n",
       "      <th>28306</th>\n",
       "      <td>dd2c54241ca9</td>\n",
       "      <td>0.010</td>\n",
       "    </tr>\n",
       "    <tr>\n",
       "      <th>28307</th>\n",
       "      <td>63f36cd1a242</td>\n",
       "      <td>0.010</td>\n",
       "    </tr>\n",
       "    <tr>\n",
       "      <th>28308</th>\n",
       "      <td>da3656c437c5</td>\n",
       "      <td>0.010</td>\n",
       "    </tr>\n",
       "  </tbody>\n",
       "</table>\n",
       "<p>28309 rows × 2 columns</p>\n",
       "</div>"
      ],
      "text/plain": [
       "            item_id           sum\n",
       "0      9a7e315f3f42 333375186.179\n",
       "1      63161948a95a 195430050.000\n",
       "2      0973df3ff57f  42112929.171\n",
       "3      7428830d55b6  38893094.598\n",
       "4      e7e806fd20a2  35383731.874\n",
       "...             ...           ...\n",
       "28304  95da1d9e3800         0.010\n",
       "28305  2d34a7e69457         0.010\n",
       "28306  dd2c54241ca9         0.010\n",
       "28307  63f36cd1a242         0.010\n",
       "28308  da3656c437c5         0.010\n",
       "\n",
       "[28309 rows x 2 columns]"
      ]
     },
     "execution_count": 159,
     "metadata": {},
     "output_type": "execute_result"
    }
   ],
   "source": [
    "abc_analis = sales.groupby('item_id')['sum'].sum().sort_values(ascending=False).reset_index()\n",
    "abc_analis"
   ]
  },
  {
   "cell_type": "code",
   "execution_count": 160,
   "metadata": {},
   "outputs": [
    {
     "data": {
      "text/html": [
       "<div>\n",
       "<style scoped>\n",
       "    .dataframe tbody tr th:only-of-type {\n",
       "        vertical-align: middle;\n",
       "    }\n",
       "\n",
       "    .dataframe tbody tr th {\n",
       "        vertical-align: top;\n",
       "    }\n",
       "\n",
       "    .dataframe thead th {\n",
       "        text-align: right;\n",
       "    }\n",
       "</style>\n",
       "<table border=\"1\" class=\"dataframe\">\n",
       "  <thead>\n",
       "    <tr style=\"text-align: right;\">\n",
       "      <th></th>\n",
       "      <th>item_id</th>\n",
       "      <th>sum</th>\n",
       "      <th>perc</th>\n",
       "    </tr>\n",
       "  </thead>\n",
       "  <tbody>\n",
       "    <tr>\n",
       "      <th>0</th>\n",
       "      <td>9a7e315f3f42</td>\n",
       "      <td>333375186.179</td>\n",
       "      <td>5.804</td>\n",
       "    </tr>\n",
       "    <tr>\n",
       "      <th>1</th>\n",
       "      <td>63161948a95a</td>\n",
       "      <td>195430050.000</td>\n",
       "      <td>3.402</td>\n",
       "    </tr>\n",
       "    <tr>\n",
       "      <th>2</th>\n",
       "      <td>0973df3ff57f</td>\n",
       "      <td>42112929.171</td>\n",
       "      <td>0.733</td>\n",
       "    </tr>\n",
       "    <tr>\n",
       "      <th>3</th>\n",
       "      <td>7428830d55b6</td>\n",
       "      <td>38893094.598</td>\n",
       "      <td>0.677</td>\n",
       "    </tr>\n",
       "    <tr>\n",
       "      <th>4</th>\n",
       "      <td>e7e806fd20a2</td>\n",
       "      <td>35383731.874</td>\n",
       "      <td>0.616</td>\n",
       "    </tr>\n",
       "  </tbody>\n",
       "</table>\n",
       "</div>"
      ],
      "text/plain": [
       "        item_id           sum  perc\n",
       "0  9a7e315f3f42 333375186.179 5.804\n",
       "1  63161948a95a 195430050.000 3.402\n",
       "2  0973df3ff57f  42112929.171 0.733\n",
       "3  7428830d55b6  38893094.598 0.677\n",
       "4  e7e806fd20a2  35383731.874 0.616"
      ]
     },
     "execution_count": 160,
     "metadata": {},
     "output_type": "execute_result"
    }
   ],
   "source": [
    "abc_analis['perc'] = abc_analis['sum'] / abc_analis['sum'].sum()*100\n",
    "abc_analis.head()"
   ]
  },
  {
   "cell_type": "code",
   "execution_count": 162,
   "metadata": {},
   "outputs": [
    {
     "data": {
      "text/html": [
       "<div>\n",
       "<style scoped>\n",
       "    .dataframe tbody tr th:only-of-type {\n",
       "        vertical-align: middle;\n",
       "    }\n",
       "\n",
       "    .dataframe tbody tr th {\n",
       "        vertical-align: top;\n",
       "    }\n",
       "\n",
       "    .dataframe thead th {\n",
       "        text-align: right;\n",
       "    }\n",
       "</style>\n",
       "<table border=\"1\" class=\"dataframe\">\n",
       "  <thead>\n",
       "    <tr style=\"text-align: right;\">\n",
       "      <th></th>\n",
       "      <th>item_id</th>\n",
       "      <th>sum</th>\n",
       "      <th>perc</th>\n",
       "      <th>perc_cumsum</th>\n",
       "      <th>category</th>\n",
       "    </tr>\n",
       "  </thead>\n",
       "  <tbody>\n",
       "    <tr>\n",
       "      <th>0</th>\n",
       "      <td>9a7e315f3f42</td>\n",
       "      <td>333375186.179</td>\n",
       "      <td>5.804</td>\n",
       "      <td>5.804</td>\n",
       "      <td>A</td>\n",
       "    </tr>\n",
       "    <tr>\n",
       "      <th>1</th>\n",
       "      <td>63161948a95a</td>\n",
       "      <td>195430050.000</td>\n",
       "      <td>3.402</td>\n",
       "      <td>9.206</td>\n",
       "      <td>A</td>\n",
       "    </tr>\n",
       "    <tr>\n",
       "      <th>2</th>\n",
       "      <td>0973df3ff57f</td>\n",
       "      <td>42112929.171</td>\n",
       "      <td>0.733</td>\n",
       "      <td>9.939</td>\n",
       "      <td>A</td>\n",
       "    </tr>\n",
       "    <tr>\n",
       "      <th>3</th>\n",
       "      <td>7428830d55b6</td>\n",
       "      <td>38893094.598</td>\n",
       "      <td>0.677</td>\n",
       "      <td>10.616</td>\n",
       "      <td>A</td>\n",
       "    </tr>\n",
       "    <tr>\n",
       "      <th>4</th>\n",
       "      <td>e7e806fd20a2</td>\n",
       "      <td>35383731.874</td>\n",
       "      <td>0.616</td>\n",
       "      <td>11.232</td>\n",
       "      <td>A</td>\n",
       "    </tr>\n",
       "  </tbody>\n",
       "</table>\n",
       "</div>"
      ],
      "text/plain": [
       "        item_id           sum  perc  perc_cumsum category\n",
       "0  9a7e315f3f42 333375186.179 5.804        5.804        A\n",
       "1  63161948a95a 195430050.000 3.402        9.206        A\n",
       "2  0973df3ff57f  42112929.171 0.733        9.939        A\n",
       "3  7428830d55b6  38893094.598 0.677       10.616        A\n",
       "4  e7e806fd20a2  35383731.874 0.616       11.232        A"
      ]
     },
     "execution_count": 162,
     "metadata": {},
     "output_type": "execute_result"
    }
   ],
   "source": [
    "abc_analis['perc_cumsum']  = abc_analis['perc'].cumsum()\n",
    "abc_analis.loc[abc_analis['perc_cumsum']>80,'category'] = 'C'\n",
    "abc_analis.loc[abc_analis['perc_cumsum']<20,'category'] = 'A'\n",
    "abc_analis = abc_analis.fillna('B')\n",
    "abc_analis.head()"
   ]
  },
  {
   "cell_type": "code",
   "execution_count": null,
   "metadata": {},
   "outputs": [],
   "source": [
    "test_to_compute_metrics['error'] = test_to_compute_metrics['fact_1_weeks'] - test_to_compute_metrics['cast_1_weeks']\n",
    "fact_error_by_items = test_to_compute_metrics.groupby('item_id')['error'].mean().abs()#ошибка по модулю\n",
    "abc_analis = abc_analis.merge(fact_error_by_items,on='item_id')\n"
   ]
  },
  {
   "cell_type": "code",
   "execution_count": 176,
   "metadata": {},
   "outputs": [
    {
     "data": {
      "text/html": [
       "<div>\n",
       "<style scoped>\n",
       "    .dataframe tbody tr th:only-of-type {\n",
       "        vertical-align: middle;\n",
       "    }\n",
       "\n",
       "    .dataframe tbody tr th {\n",
       "        vertical-align: top;\n",
       "    }\n",
       "\n",
       "    .dataframe thead th {\n",
       "        text-align: right;\n",
       "    }\n",
       "</style>\n",
       "<table border=\"1\" class=\"dataframe\">\n",
       "  <thead>\n",
       "    <tr style=\"text-align: right;\">\n",
       "      <th></th>\n",
       "      <th>error</th>\n",
       "    </tr>\n",
       "    <tr>\n",
       "      <th>category</th>\n",
       "      <th></th>\n",
       "    </tr>\n",
       "  </thead>\n",
       "  <tbody>\n",
       "    <tr>\n",
       "      <th>A</th>\n",
       "      <td>3.238</td>\n",
       "    </tr>\n",
       "    <tr>\n",
       "      <th>B</th>\n",
       "      <td>3.279</td>\n",
       "    </tr>\n",
       "    <tr>\n",
       "      <th>C</th>\n",
       "      <td>4.436</td>\n",
       "    </tr>\n",
       "  </tbody>\n",
       "</table>\n",
       "</div>"
      ],
      "text/plain": [
       "          error\n",
       "category       \n",
       "A         3.238\n",
       "B         3.279\n",
       "C         4.436"
      ]
     },
     "execution_count": 176,
     "metadata": {},
     "output_type": "execute_result"
    }
   ],
   "source": [
    "pd.DataFrame(abc_analis.groupby('category')['error'].mean())"
   ]
  },
  {
   "cell_type": "markdown",
   "metadata": {},
   "source": [
    "Наиболее большая ошибка в категории С.\n",
    "Причина скорее всего в том,что они имеют неполную,разряженную историю продаж.\n",
    "В этой категории не до конца  всего понятна динамика,сезонность,тренд и тд.  \n",
    "Что и показывает важность качественных данных,и важность работы по обогащению и востановлению данных  "
   ]
  },
  {
   "cell_type": "markdown",
   "metadata": {},
   "source": [
    "Итоги:  \n",
    "Мы провели работу по предсказанию спроса в разрезе разных магазинов.  \n",
    "Подготовили данные,поработали над признаками,обучением моделей и получили предсказание спроса на необходимый нам   горизонт.  \n",
    "Работу выполнил Батутин Андрей   \n",
    "27.01.2025  "
   ]
  }
 ],
 "metadata": {
  "kernelspec": {
   "display_name": "mac_venv",
   "language": "python",
   "name": "python3"
  },
  "language_info": {
   "codemirror_mode": {
    "name": "ipython",
    "version": 3
   },
   "file_extension": ".py",
   "mimetype": "text/x-python",
   "name": "python",
   "nbconvert_exporter": "python",
   "pygments_lexer": "ipython3",
   "version": "3.12.7"
  }
 },
 "nbformat": 4,
 "nbformat_minor": 2
}
