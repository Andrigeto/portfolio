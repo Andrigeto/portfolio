{
 "cells": [
  {
   "cell_type": "markdown",
   "metadata": {},
   "source": [
    "Работу выполнил : Батутин Андрей , DataScientist"
   ]
  },
  {
   "cell_type": "code",
   "execution_count": 15,
   "metadata": {},
   "outputs": [],
   "source": [
    "import numpy as np\n",
    "import pandas as pd\n",
    "import statsmodels.api as sm\n",
    "import scipy.stats as stats\n",
    "import matplotlib.pyplot as plt\n",
    "from statsmodels.graphics.gofplots import qqplot\n",
    "from scipy.stats import norm, uniform\n",
    "import seaborn as sns\n",
    "import matplotlib.pyplot as plt\n",
    "import warnings\n",
    "warnings.filterwarnings('ignore')\n",
    "plt.style.use('dark_background')"
   ]
  },
  {
   "cell_type": "markdown",
   "metadata": {},
   "source": [
    "Формулируем гипотезу:\n",
    "Н0: Разница в 5 ударов за бой не значима.Бивол получил эту разницу случайно  \n",
    "Н1: Разница в 5 ударов за бой значима,Бивол \"вырвал\" эти ударов не случайно,за счет мастерства и превосходства над соперником"
   ]
  },
  {
   "cell_type": "markdown",
   "metadata": {},
   "source": [
    "Статистика по нанесенным ударам"
   ]
  },
  {
   "cell_type": "code",
   "execution_count": 4,
   "metadata": {},
   "outputs": [
    {
     "data": {
      "text/html": [
       "<div>\n",
       "<style scoped>\n",
       "    .dataframe tbody tr th:only-of-type {\n",
       "        vertical-align: middle;\n",
       "    }\n",
       "\n",
       "    .dataframe tbody tr th {\n",
       "        vertical-align: top;\n",
       "    }\n",
       "\n",
       "    .dataframe thead th {\n",
       "        text-align: right;\n",
       "    }\n",
       "</style>\n",
       "<table border=\"1\" class=\"dataframe\">\n",
       "  <thead>\n",
       "    <tr style=\"text-align: right;\">\n",
       "      <th></th>\n",
       "      <th>Beterviev</th>\n",
       "      <th>Bivol</th>\n",
       "    </tr>\n",
       "  </thead>\n",
       "  <tbody>\n",
       "    <tr>\n",
       "      <th>0</th>\n",
       "      <td>4</td>\n",
       "      <td>14</td>\n",
       "    </tr>\n",
       "    <tr>\n",
       "      <th>1</th>\n",
       "      <td>6</td>\n",
       "      <td>12</td>\n",
       "    </tr>\n",
       "    <tr>\n",
       "      <th>2</th>\n",
       "      <td>13</td>\n",
       "      <td>12</td>\n",
       "    </tr>\n",
       "    <tr>\n",
       "      <th>3</th>\n",
       "      <td>10</td>\n",
       "      <td>11</td>\n",
       "    </tr>\n",
       "    <tr>\n",
       "      <th>4</th>\n",
       "      <td>7</td>\n",
       "      <td>11</td>\n",
       "    </tr>\n",
       "    <tr>\n",
       "      <th>5</th>\n",
       "      <td>9</td>\n",
       "      <td>9</td>\n",
       "    </tr>\n",
       "    <tr>\n",
       "      <th>6</th>\n",
       "      <td>17</td>\n",
       "      <td>13</td>\n",
       "    </tr>\n",
       "    <tr>\n",
       "      <th>7</th>\n",
       "      <td>12</td>\n",
       "      <td>7</td>\n",
       "    </tr>\n",
       "    <tr>\n",
       "      <th>8</th>\n",
       "      <td>13</td>\n",
       "      <td>15</td>\n",
       "    </tr>\n",
       "    <tr>\n",
       "      <th>9</th>\n",
       "      <td>10</td>\n",
       "      <td>9</td>\n",
       "    </tr>\n",
       "    <tr>\n",
       "      <th>10</th>\n",
       "      <td>21</td>\n",
       "      <td>15</td>\n",
       "    </tr>\n",
       "    <tr>\n",
       "      <th>11</th>\n",
       "      <td>15</td>\n",
       "      <td>14</td>\n",
       "    </tr>\n",
       "  </tbody>\n",
       "</table>\n",
       "</div>"
      ],
      "text/plain": [
       "    Beterviev  Bivol\n",
       "0           4     14\n",
       "1           6     12\n",
       "2          13     12\n",
       "3          10     11\n",
       "4           7     11\n",
       "5           9      9\n",
       "6          17     13\n",
       "7          12      7\n",
       "8          13     15\n",
       "9          10      9\n",
       "10         21     15\n",
       "11         15     14"
      ]
     },
     "execution_count": 4,
     "metadata": {},
     "output_type": "execute_result"
    }
   ],
   "source": [
    "import pandas as pd\n",
    "data_total_punches = {\n",
    "    \"Beterviev\": [4, 6, 13, 10, 7, 9, 17, 12, 13, 10, 21, 15],\n",
    "    \"Bivol\": [14, 12, 12, 11, 11, 9, 13, 7, 15, 9, 15, 14],\n",
    "}\n",
    "df_total_punches = pd.DataFrame(data_total_punches)\n",
    "df_total_punches\n"
   ]
  },
  {
   "cell_type": "code",
   "execution_count": 5,
   "metadata": {},
   "outputs": [
    {
     "name": "stdout",
     "output_type": "stream",
     "text": [
      "Бивол нанес на 5 ударов больше за бой\n",
      "Бивол 142 / 137 Бетербиев\n",
      "Давайте найдем,закономерно ли это\n",
      "Разница средних за все 12 раундов 0.417\n"
     ]
    }
   ],
   "source": [
    "print(f'Бивол нанес на {(df_total_punches['Bivol'].sum() - df_total_punches['Beterviev'].sum())} ударов больше за бой')\n",
    "print(f'Бивол {df_total_punches['Bivol'].sum()} / {df_total_punches['Beterviev'].sum()} Бетербиев')\n",
    "print('Давайте найдем,закономерно ли это')\n",
    "print(f'Разница средних за все 12 раундов {np.round((df_total_punches['Bivol'].mean() - df_total_punches['Beterviev'].mean()),3)}')"
   ]
  },
  {
   "cell_type": "markdown",
   "metadata": {},
   "source": [
    "Используем ттест Стьюдента при уровне значимости 0.05"
   ]
  },
  {
   "cell_type": "code",
   "execution_count": 6,
   "metadata": {},
   "outputs": [
    {
     "name": "stdout",
     "output_type": "stream",
     "text": [
      "p_value 0.794\n"
     ]
    }
   ],
   "source": [
    "t_statistic, p_value = stats.ttest_ind(df_total_punches['Bivol'].values, df_total_punches['Beterviev'].values)\n",
    "print('p_value',np.round(p_value,3))"
   ]
  },
  {
   "cell_type": "markdown",
   "metadata": {},
   "source": [
    "Не можем отклонить нулевую гипотезу в прямую из за слабой мощности по причине недостотаточной выборки"
   ]
  },
  {
   "cell_type": "markdown",
   "metadata": {},
   "source": [
    "Расчитаем фактическое МДЕ,которое можем задетектировать,с выборкой в 12.\n",
    "Для этого,обьеденим дисперсию"
   ]
  },
  {
   "cell_type": "code",
   "execution_count": 7,
   "metadata": {},
   "outputs": [
    {
     "name": "stdout",
     "output_type": "stream",
     "text": [
      "Дисперсия 13.651\n",
      "Стд.отклонение 3.695\n"
     ]
    }
   ],
   "source": [
    "print('Дисперсия',np.round(df_total_punches.values.var(),3))\n",
    "print('Стд.отклонение',np.round(df_total_punches.values.std(),3))\n"
   ]
  },
  {
   "cell_type": "code",
   "execution_count": 8,
   "metadata": {},
   "outputs": [
    {
     "data": {
      "text/plain": [
       "5.98"
      ]
     },
     "execution_count": 8,
     "metadata": {},
     "output_type": "execute_result"
    }
   ],
   "source": [
    "#определить эффект по набору выборки\n",
    "n = 12\n",
    "Var_contrl = 13.65\n",
    "np.round((-(-1.96+(-0.842)) * np.sqrt((4 * Var_contrl /n))),2)"
   ]
  },
  {
   "cell_type": "code",
   "execution_count": 9,
   "metadata": {},
   "outputs": [
    {
     "name": "stdout",
     "output_type": "stream",
     "text": [
      "Фактическая мощность(способность обнаружить эффект там,где он действительно есть) при 12 наблюдениях 0.261\n",
      "Поэтому слепо доверять pvalue без дизайна АБ теста нельзя(хоть и такой тест,лучше чем отстутствие любого (с) Карпов.\n"
     ]
    }
   ],
   "source": [
    "\n",
    "x1 = 11.83\n",
    "x2 = 11.41\n",
    "dif = x1-x2\n",
    "s1 = 2.55\n",
    "s2 = 4.81\n",
    "n1 = 12\n",
    "n2 = 12\n",
    "all_dif = []\n",
    "curent_a = pd.Series(np.random.normal(loc=x1,scale=s1,size=n1))\n",
    "curent_b = pd.Series(np.random.normal(loc=x2,scale=s2,size=n2))\n",
    "all_data = pd.concat([curent_a]+[curent_b])\n",
    "count = 0\n",
    "iterations = 10000\n",
    "all_dif = []\n",
    "for i in range(iterations):\n",
    "    sub_a = all_data.sample(12,replace=True).mean()\n",
    "    sub_b = all_data.sample(12,replace=True).mean()\n",
    "    cur_dif = sub_a-sub_b\n",
    "    all_dif.append(cur_dif)\n",
    "    if abs(cur_dif) >= dif:\n",
    "        count += 1\n",
    "print(f'Фактическая мощность(способность обнаружить эффект там,где он действительно есть) при 12 наблюдениях {np.round(1- count/iterations,3)}')\n",
    "print('Поэтому слепо доверять pvalue без дизайна АБ теста нельзя(хоть и такой тест,лучше чем отстутствие любого (с) Карпов.')"
   ]
  },
  {
   "cell_type": "markdown",
   "metadata": {},
   "source": [
    "Выборка 12 позволяет нам задетектировать разницу средних только более ~ 6 ударов.Но не 0.41\n",
    "Соотвественно,расчитаем необходимый размер выборки"
   ]
  },
  {
   "cell_type": "code",
   "execution_count": null,
   "metadata": {},
   "outputs": [
    {
     "name": "stdout",
     "output_type": "stream",
     "text": [
      "Необходимый размер выборки для каждой группы: 1233\n"
     ]
    }
   ],
   "source": [
    "alpha = 0.05  # уровень значимости\n",
    "power = 0.80  # мощность теста\n",
    "delta = 0.417    # ожидаемая разница между группами\n",
    "sigma = 3.695  # стандартное отклонение\n",
    "\n",
    "# Рассчитайте размер выборки\n",
    "sample_size = sm.stats.tt_ind_solve_power(effect_size=delta/sigma, \n",
    "                                            nobs1=None, \n",
    "                                            alpha=alpha, \n",
    "                                            power=power, \n",
    "                                            alternative='two-sided')\n",
    "\n",
    "print(f\"Необходимый размер выборки для каждой группы: {int(sample_size)}\")"
   ]
  },
  {
   "cell_type": "markdown",
   "metadata": {},
   "source": [
    "Отклоним нулевую гипотезу с помощью доверительного интервала:\n",
    "- Если разницы между бойцами нет, то разница средних кол-ва ударов за раунд является 0.\n",
    "- Если 0 не находится в диапазоне дов.интревала - значит отклоняем гипотезу о равенстве боксеров"
   ]
  },
  {
   "cell_type": "code",
   "execution_count": 11,
   "metadata": {},
   "outputs": [
    {
     "name": "stdout",
     "output_type": "stream",
     "text": [
      "(0.4149415680849111, 0.4207833305363379)\n",
      "Отклоняем нулевую гипотезу,так как с 95% вероятностью - Ноль не является истиным значением разницы средних\n"
     ]
    },
    {
     "data": {
      "image/png": "[encoded data removed]",
      "text/plain": [
       "<Figure size 640x480 with 1 Axes>"
      ]
     },
     "metadata": {},
     "output_type": "display_data"
    }
   ],
   "source": [
    "list_diff = []\n",
    "for i in range(10000):\n",
    "    sub_a = df_total_punches['Bivol'].sample(1233,replace=True).mean()\n",
    "    sub_b = df_total_punches['Beterviev'].sample(1233,replace=True).mean()\n",
    "    list_diff.append(sub_a - sub_b)\n",
    "overall = pd.Series(list_diff)\n",
    "print(st.t.interval(confidence=0.95, df=len(overall)-1, loc=np.mean(overall), scale=st.sem(overall)))\n",
    "print('Отклоняем нулевую гипотезу,так как с 95% вероятностью - Ноль не является истиным значением разницы средних')\n",
    "sns.histplot(overall)\n",
    "plt.axvline(x=0, color='red', linestyle='dashed', linewidth=2, label='Граница нуля')\n",
    "plt.title('Доверительный интервал разницы средних')\n",
    "plt.xlabel('Разница средних')\n",
    "plt.ylabel('Частота')\n",
    "plt.legend()\n",
    "plt.show()"
   ]
  },
  {
   "cell_type": "markdown",
   "metadata": {},
   "source": [
    "Проверим гипотезу с помощью Монте-Карлов(генерируем процесс)"
   ]
  },
  {
   "cell_type": "code",
   "execution_count": 12,
   "metadata": {},
   "outputs": [
    {
     "name": "stdout",
     "output_type": "stream",
     "text": [
      "pvalue 0.0158\n",
      "Отклоняем нулевую гипотезу,так как наблюдаемая разница РАВНЫМИ распределениями встречается реже чем в 5% случаях\n"
     ]
    },
    {
     "data": {
      "image/png": "[encoded data removed]",
      "text/plain": [
       "<Figure size 640x480 with 1 Axes>"
      ]
     },
     "metadata": {},
     "output_type": "display_data"
    }
   ],
   "source": [
    "\n",
    "x1 = 11.83\n",
    "x2 = 11.41\n",
    "dif = x1-x2\n",
    "s1 = 2.55\n",
    "s2 = 4.81\n",
    "n1 = 12\n",
    "n2 = 12\n",
    "all_dif = []\n",
    "curent_a = pd.Series(np.random.normal(loc=x1,scale=s1,size=n1))\n",
    "curent_b = pd.Series(np.random.normal(loc=x2,scale=s2,size=n2))\n",
    "all_data = pd.concat([curent_a]+[curent_b])\n",
    "count = 0\n",
    "iterations = 10000\n",
    "all_dif = []\n",
    "for i in range(iterations):\n",
    "    sub_a = all_data.sample(1233,replace=True).mean()\n",
    "    sub_b = all_data.sample(1233,replace=True).mean()\n",
    "    cur_dif = sub_a-sub_b\n",
    "    all_dif.append(cur_dif)\n",
    "    \n",
    "    if abs(cur_dif) >= dif:\n",
    "        count += 1\n",
    "print('pvalue',count/iterations)\n",
    "print('Отклоняем нулевую гипотезу,так как наблюдаемая разница РАВНЫМИ распределениями встречается реже чем в 5% случаях')\n",
    "all_dif = pd.Series(all_dif)\n",
    "plt.hist(all_dif, bins=30, color='skyblue', edgecolor='black')\n",
    "plt.axvline(x=dif, color='red', linestyle='dashed', linewidth=2, label='Observation mean')\n",
    "plt.title('Monte Karlo Test for разницы средних')\n",
    "plt.xlabel('Распределение разниц средних')\n",
    "plt.ylabel('Частота')\n",
    "plt.legend()\n",
    "plt.show()"
   ]
  },
  {
   "cell_type": "markdown",
   "metadata": {},
   "source": [
    "Проведем Ттест Стьюдента(из кода выше) с расчетной мощностью 80% увеличив выборки эмпирически до 1233 (раундов)"
   ]
  },
  {
   "cell_type": "code",
   "execution_count": 20,
   "metadata": {},
   "outputs": [
    {
     "name": "stdout",
     "output_type": "stream",
     "text": [
      "pvalues 0.012\n",
      "Ттесту сверху не хватило мощности увидеть значимость,отклоняем нулевую гипотезу\n"
     ]
    }
   ],
   "source": [
    "BIVOL = df_total_punches['Bivol'].sample(1233,replace=True)\n",
    "BTR = df_total_punches['Beterviev'].sample(1233,replace=True)\n",
    "t_statistic, p_value = stats.ttest_ind(BIVOL, BTR)\n",
    "print('pvalues',np.round(p_value,3))\n",
    "print('Ттесту сверху не хватило мощности увидеть значимость,отклоняем нулевую гипотезу')"
   ]
  },
  {
   "cell_type": "markdown",
   "metadata": {},
   "source": [
    "Проверим через распределение pvalue и qq-plot.  \n",
    "Если различия нет,распределение примет форму нормального.  \n",
    "Если различие есть - распределение станет скошеным"
   ]
  },
  {
   "cell_type": "code",
   "execution_count": 14,
   "metadata": {},
   "outputs": [
    {
     "data": {
      "image/png": "[encoded data removed]",
      "text/plain": [
       "<Figure size 640x480 with 1 Axes>"
      ]
     },
     "metadata": {},
     "output_type": "display_data"
    },
    {
     "data": {
      "image/png": "[encoded data removed]",
      "text/plain": [
       "<Figure size 640x480 with 1 Axes>"
      ]
     },
     "metadata": {},
     "output_type": "display_data"
    }
   ],
   "source": [
    "l_pval = []\n",
    "for i in range(10000):\n",
    "    Bivol = all_data.sample(1233,replace=True).mean()\n",
    "    Bete = all_data.sample(1233,replace=True).mean()\n",
    "    t_statistic, p_value = stats.ttest_ind(curent_a, curent_b)\n",
    "    l_pval.append(p_value)\n",
    "pd.Series(l_pval).hist(bins=30)\n",
    "plt.show()\n",
    "qqplot(pd.Series(l_pval),uniform,fit=True,line=\"45\")\n",
    "plt.show()"
   ]
  },
  {
   "cell_type": "markdown",
   "metadata": {},
   "source": [
    "Теперь можем сказать,что Бивол нанес больше ударов за бой не случайно с погрешностью в 5%!  при условии что они проведут 1233 похожих на имеющиеся раундов.  \n",
    "По имеющемуся набору данных ни о какой стат.значимости говорить нельзя\n"
   ]
  },
  {
   "cell_type": "markdown",
   "metadata": {},
   "source": [
    "Не смотря на разницу в 5 ударов - Бетербиев выбросил  682 удара против 423 Бивола  \n",
    "Разбил блок и лицо Бивола силовыми ударами 90 - 84 и доминировал весь бой,заслужив честную победу."
   ]
  }
 ],
 "metadata": {
  "kernelspec": {
   "display_name": "mac_venv",
   "language": "python",
   "name": "python3"
  },
  "language_info": {
   "codemirror_mode": {
    "name": "ipython",
    "version": 3
   },
   "file_extension": ".py",
   "mimetype": "text/x-python",
   "name": "python",
   "nbconvert_exporter": "python",
   "pygments_lexer": "ipython3",
   "version": "3.12.7"
  }
 },
 "nbformat": 4,
 "nbformat_minor": 2
}
