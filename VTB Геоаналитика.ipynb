{
 "cells": [
  {
   "cell_type": "markdown",
   "id": "e50b01d6",
   "metadata": {},
   "source": [
    "Тестовое задание в ВТБ.  \n",
    "Геоаналитика  \n",
    "Батутин А.В  \n",
    "08.08.2025  "
   ]
  },
  {
   "cell_type": "markdown",
   "id": "5a7a5071",
   "metadata": {},
   "source": [
    "# Импорты"
   ]
  },
  {
   "cell_type": "code",
   "execution_count": 1,
   "id": "73ddd394",
   "metadata": {},
   "outputs": [],
   "source": [
    "import warnings\n",
    "\n",
    "import matplotlib.pyplot as plt\n",
    "import numpy as np\n",
    "import pandas as pd\n",
    "from matplotlib.patches import Patch\n",
    "from ydata_profiling import ProfileReport\n",
    "\n",
    "warnings.filterwarnings('ignore')"
   ]
  },
  {
   "cell_type": "code",
   "execution_count": 2,
   "id": "0d9564f4",
   "metadata": {},
   "outputs": [],
   "source": [
    "KEY_CLIENT = 'Ид. клиента'\n",
    "KEY_TP = 'Код БИСКВИТ'\n",
    "LIST_DEL_TP = [755,1455,1855,1955,55]#добавим 55,он не обслуживает физ лица. Нужно для конечного результата"
   ]
  },
  {
   "cell_type": "code",
   "execution_count": 3,
   "id": "2c974ccd",
   "metadata": {},
   "outputs": [],
   "source": [
    "def check_quality(data: pd.DataFrame):\n",
    "    \"Функция проверяет качество данных\"\n",
    "    print(f'Размерность данных {data.shape}')\n",
    "    print(f'Кол-во дубликатов : {data.duplicated().sum()}')\n",
    "    print(f'Кол-во пропусков : {data.isna().sum().sum()}')\n"
   ]
  },
  {
   "cell_type": "markdown",
   "id": "2c714543",
   "metadata": {},
   "source": [
    "# Задача "
   ]
  },
  {
   "cell_type": "markdown",
   "id": "08f6c01c",
   "metadata": {},
   "source": [
    "Данные: информация по офисам и банкоматам (координаты, режим работы, формат работы),   \n",
    "визиты клиентов в отделения банка, операции клиентов в банкоматах,   \n",
    "POS-операции клиентов в городе Краснодар.   \n",
    "Все данные собраны за 2021 год, все операции с координатами.   \n",
    "Можно использовать не все данные\n",
    "\n",
    "\n",
    "Задание: посчитать как в среднем распределяется клиентопоток физ лиц между отделениями банка в Краснодаре,\n",
    "как он будет распределяться между отделениями банка в Краснодаре, если 4 офиса закроются навсегда (755, 1455, 1855, 1955)"
   ]
  },
  {
   "cell_type": "markdown",
   "id": "3faad8e0",
   "metadata": {},
   "source": [
    "# Термины"
   ]
  },
  {
   "cell_type": "markdown",
   "id": "18e55591",
   "metadata": {},
   "source": [
    "POS-операции клиентов в городе Краснодар  \n",
    "информация по офисам и банкоматам (координаты, режим работы, формат работы)  \n",
    "визиты клиентов в отделения банка  \n",
    "операции клиентов в банкоматах  \n",
    "  \n",
    "АТМ - банкомат  \n",
    "POS-платежи  \n",
    "ТП-офисы\n"
   ]
  },
  {
   "cell_type": "markdown",
   "id": "0647aa78",
   "metadata": {},
   "source": [
    "# Ключевые вопросы и мысли по ходу работы\n",
    "\n",
    "* ~~Что такое лучшая-лучший?~~\n",
    "* ~~Домашняя локация для каждого клиента~~\n",
    "* ~~Отбираем строчки транзакций людей,в рабочее время в будни~~\n",
    "* ~~Клиенты либо с работы либо на работу ходят в банк отделения~~\n",
    "* ~~клиент может быть и на работе и дома,ему нужен ближайший офис~~\n",
    "* ~~пересекающиеся даты~~\n",
    "* ~~временной ряд~~\n",
    "* ~~если исключаемое отделение единственное для этого клиента?~~\n",
    "* ~~как меняется нагрузка на офисы до и после~~\n",
    "* ~~Нам нужно понять,где наиболее часто обитает клиент,где он обычно посещает офисы~~\n",
    "* ~~И в какие дни~~\n",
    "* ~~у нас есть посещения банкоматов и атм~~"
   ]
  },
  {
   "cell_type": "markdown",
   "id": "dfd2fb12",
   "metadata": {},
   "source": [
    "# EDA с помощью ProfileReport"
   ]
  },
  {
   "cell_type": "markdown",
   "id": "67ed6618",
   "metadata": {},
   "source": [
    "### Справочник клиентов"
   ]
  },
  {
   "cell_type": "code",
   "execution_count": 4,
   "id": "ef449642",
   "metadata": {},
   "outputs": [
    {
     "data": {
      "text/plain": [
       "\"\\nПОЛЯ:\\n#'Ид. клиента', 'Возраст', 'Пол']\\n\\nАЛЕРТЫ:\\n#не одинаковые,противоречат:1 клиент мужчина в другом файле уже женщина \\n\\n#пропусков нет\\n#дубликатов нет\\n\""
      ]
     },
     "execution_count": 4,
     "metadata": {},
     "output_type": "execute_result"
    }
   ],
   "source": [
    "# clients_tp = pd.read_excel('/Users/andrejbatutin/DS/VTB/Лучшая_ТП_Краснодар_Клиенты_пол_возраст.xlsx')\n",
    "# clients_us = pd.read_excel('/Users/andrejbatutin/DS/VTB/Лучший_УС_Краснодар_Клиенты_пол_возраст.xlsx')\n",
    "# concated_clients = clients_tp.merge(clients_us,how='cross')\n",
    "# display(concated_clients.loc[concated_clients['Ид. клиента_x']==concated_clients['Ид. клиента_y']])\n",
    "# ProfileReport(clients_us).to_widgets()\n",
    "\"\"\"\n",
    "ПОЛЯ:\n",
    "#'Ид. клиента', 'Возраст', 'Пол']\n",
    "\n",
    "АЛЕРТЫ:\n",
    "#не одинаковые,противоречат:1 клиент мужчина в другом файле уже женщина \n",
    "\n",
    "#пропусков нет\n",
    "#дубликатов нет\n",
    "\"\"\"\n"
   ]
  },
  {
   "cell_type": "markdown",
   "id": "bb872d82",
   "metadata": {},
   "source": [
    "### ATM ТРАНЗАКЦИИ"
   ]
  },
  {
   "cell_type": "code",
   "execution_count": 5,
   "id": "672a284c",
   "metadata": {},
   "outputs": [
    {
     "data": {
      "text/plain": [
       "\"\\nПОЛЯ\\n#['Номер АТМ', 'Широта', 'Долгота', 'Время работы', 'Функционал','Сегмент', 'Доступность'],\\n#['Ид. клиента', 'Номер АТМ', 'Дата', 'Время', 'Направление транзакции','Сумма'],\\n\\noperations_atm:пропусков нет,дубликатов нет\\nmeta_atm:!76 пропусков!,дубликатов нет\\n\\nДанную инфо выписываю для себя:\\nАлерты meta_atm:\\nВремя работы is highly overall correlated with Доступность and 2 other fields\\nДоступность is highly overall correlated with Время работы\\nСегмент is highly overall correlated with Время работы\\nФункционал is highly overall correlated with Время работы\\nДоступность is highly imbalanced (60.0%)\\nВремя работы has 40 (21.4%) missing values\\nДоступность has 36 (19.3%) missing values\\nНомер АТМ has unique values\\n\\nTODO:\\nНужно удалить пропуски meta_atm\\n\""
      ]
     },
     "execution_count": 5,
     "metadata": {},
     "output_type": "execute_result"
    }
   ],
   "source": [
    "\n",
    "# df1 = pd.read_excel('/Users/andrejbatutin/DS/VTB/Лучшая_ТП_Краснодар_Справочник_АТМ.xlsx')\n",
    "operations_atm = pd.read_csv('/Users/andrejbatutin/DS/VTB/Лучший_УС_Краснодар_Транзакции_АТМ.csv', encoding='cp1251')\n",
    "meta_atm = pd.read_excel('/Users/andrejbatutin/DS/VTB/Лучший_УС_Краснодар_Справочник_АТМ.xlsx')\n",
    "# ProfileReport(meta_atm).to_widgets()\n",
    "\n",
    "#alerts:\n",
    "\"\"\"\n",
    "ПОЛЯ\n",
    "#['Номер АТМ', 'Широта', 'Долгота', 'Время работы', 'Функционал','Сегмент', 'Доступность'],\n",
    "#['Ид. клиента', 'Номер АТМ', 'Дата', 'Время', 'Направление транзакции','Сумма'],\n",
    "\n",
    "operations_atm:пропусков нет,дубликатов нет\n",
    "meta_atm:!76 пропусков!,дубликатов нет\n",
    "\n",
    "Данную инфо выписываю для себя:\n",
    "Алерты meta_atm:\n",
    "Время работы is highly overall correlated with Доступность and 2 other fields\n",
    "Доступность is highly overall correlated with Время работы\n",
    "Сегмент is highly overall correlated with Время работы\n",
    "Функционал is highly overall correlated with Время работы\n",
    "Доступность is highly imbalanced (60.0%)\n",
    "Время работы has 40 (21.4%) missing values\n",
    "Доступность has 36 (19.3%) missing values\n",
    "Номер АТМ has unique values\n",
    "\n",
    "TODO:\n",
    "Нужно удалить пропуски meta_atm\n",
    "\"\"\"\n",
    "\n",
    "\n"
   ]
  },
  {
   "cell_type": "markdown",
   "id": "69dfaf07",
   "metadata": {},
   "source": [
    "### POS ТРАНЗАКЦИИ"
   ]
  },
  {
   "cell_type": "code",
   "execution_count": 6,
   "id": "8afcae6d",
   "metadata": {},
   "outputs": [
    {
     "data": {
      "text/plain": [
       "\"\\nПоля \\n#['Ид. клиента', 'MCC', 'Дата транзакции', 'Время транзакции', 'Широта','Долгота', 'Сумма транзакции'],\\n# ['Ид. клиента', 'MCC', 'Дата транзакции', 'Время транзакции', 'Широта','Долгота', 'Долгота.1'],\\n\\nАлерты\\nDataset has 19955 (0.3%) duplicate rows\\nДолгота.1 is highly skewed (γ1 = -250.9649013)\\nMissing cells 8101\\nDate с 21 по 22 год\\nTODO:\\n\\nНужно удалить пропуски √\\nНужно удалить дубликаты √\\n\""
      ]
     },
     "execution_count": 6,
     "metadata": {},
     "output_type": "execute_result"
    }
   ],
   "source": [
    "#ПОС ТРАНЗАКЦИИ\n",
    "\n",
    "# pos = pd.read_excel('/Users/andrejbatutin/DS/VTB/Лучшая_ТП_Краснодар_Транзакции_ПОС.xlsx')\n",
    "pos = pd.read_csv('/Users/andrejbatutin/DS/VTB/Лучший_УС_Краснодар_Транзакции_ПОС.csv', encoding='cp1251')\n",
    "# ProfileReport(pos).to_widgets()\n",
    "\n",
    "\"\"\"\n",
    "Поля \n",
    "#['Ид. клиента', 'MCC', 'Дата транзакции', 'Время транзакции', 'Широта','Долгота', 'Сумма транзакции'],\n",
    "# ['Ид. клиента', 'MCC', 'Дата транзакции', 'Время транзакции', 'Широта','Долгота', 'Долгота.1'],\n",
    "\n",
    "Алерты\n",
    "Dataset has 19955 (0.3%) duplicate rows\n",
    "Долгота.1 is highly skewed (γ1 = -250.9649013)\n",
    "Missing cells 8101\n",
    "Date с 21 по 22 год\n",
    "TODO:\n",
    "\n",
    "Нужно удалить пропуски √\n",
    "Нужно удалить дубликаты √\n",
    "\"\"\""
   ]
  },
  {
   "cell_type": "markdown",
   "id": "74c336ad",
   "metadata": {},
   "source": [
    "### СПРАВОЧНИК ОФИСЫ\n"
   ]
  },
  {
   "cell_type": "code",
   "execution_count": 7,
   "id": "73da7e06",
   "metadata": {},
   "outputs": [
    {
     "data": {
      "text/plain": [
       "\"\\nПОЛЯ\\n['Код БИСКВИТ', 'Широта', 'Долгота', 'Понедельник', 'Вторник', 'Среда','Четверг', 'Пятница', 'Суббота', 'Воскресенье',\\n        #'Зона самообслуживания(24/7)', 'Формат']\\n\\nАЛЕРТЫ:\\nВоскресенье is highly overall correlated with Вторник and 7 other fields\\nВторник is highly overall correlated with Воскресенье and 7 other fields\\nЗона самообслуживания(24/7) is highly overall correlated with Вторник and 5 other fields\\nКод БИСКВИТ is highly overall correlated with Воскресенье\\nПонедельник is highly overall correlated with Воскресенье and 7 other fields\\nПятница is highly overall correlated with Воскресенье and 7 other fields\\nСреда is highly overall correlated with Воскресенье and 7 other fields\\nСуббота is highly overall correlated with Воскресенье and 6 other fields\\nФормат is highly overall correlated with Воскресенье and 7 other fields\\nЧетверг is highly overall correlated with Воскресенье and 7 other fields\\nВоскресенье is highly imbalanced (60.9%)\\nКод БИСКВИТ has unique values\\nTODO:\\nПропусков нет\\nДубликатов нет\\n\""
      ]
     },
     "execution_count": 7,
     "metadata": {},
     "output_type": "execute_result"
    }
   ],
   "source": [
    "\n",
    "# tp = pd.read_excel('/Users/andrejbatutin/DS/VTB/Лучшая_ТП_Краснодар_Справочник_ТП.xlsx')\n",
    "meta_tp = pd.read_excel('/Users/andrejbatutin/DS/VTB/Лучший_УС_Краснодар_Справочник_ТП.xlsx')\n",
    "# ProfileReport(meta_tp).to_widgets()\n",
    "\"\"\"\n",
    "ПОЛЯ\n",
    "['Код БИСКВИТ', 'Широта', 'Долгота', 'Понедельник', 'Вторник', 'Среда','Четверг', 'Пятница', 'Суббота', 'Воскресенье',\n",
    "        #'Зона самообслуживания(24/7)', 'Формат']\n",
    "\n",
    "АЛЕРТЫ:\n",
    "Воскресенье is highly overall correlated with Вторник and 7 other fields\n",
    "Вторник is highly overall correlated with Воскресенье and 7 other fields\n",
    "Зона самообслуживания(24/7) is highly overall correlated with Вторник and 5 other fields\n",
    "Код БИСКВИТ is highly overall correlated with Воскресенье\n",
    "Понедельник is highly overall correlated with Воскресенье and 7 other fields\n",
    "Пятница is highly overall correlated with Воскресенье and 7 other fields\n",
    "Среда is highly overall correlated with Воскресенье and 7 other fields\n",
    "Суббота is highly overall correlated with Воскресенье and 6 other fields\n",
    "Формат is highly overall correlated with Воскресенье and 7 other fields\n",
    "Четверг is highly overall correlated with Воскресенье and 7 other fields\n",
    "Воскресенье is highly imbalanced (60.9%)\n",
    "Код БИСКВИТ has unique values\n",
    "TODO:\n",
    "Пропусков нет\n",
    "Дубликатов нет\n",
    "\"\"\"\n"
   ]
  },
  {
   "cell_type": "markdown",
   "id": "a04026a2",
   "metadata": {},
   "source": [
    "### Операции клиентов в банковских отделениях"
   ]
  },
  {
   "cell_type": "code",
   "execution_count": 8,
   "id": "28fa3bf3",
   "metadata": {},
   "outputs": [
    {
     "data": {
      "text/plain": [
       "\"\\nПоля:\\n#['Ид. клиента', 'Код БИСКВИТ', 'Дата начала операции','Время начала операции']\\nАлерты:\\nDataset has 56 (< 0.1%) duplicate rows\\nTODO:\\nНужно удалить дубликаты\\n\""
      ]
     },
     "execution_count": 8,
     "metadata": {},
     "output_type": "execute_result"
    }
   ],
   "source": [
    "# df1 = pd.read_excel('/Users/andrejbatutin/DS/VTB/Лучшая_ТП_Краснодар_Операции_в_ТП.xlsx')\n",
    "operations_tp = pd.read_excel('/Users/andrejbatutin/DS/VTB/Лучший_УС_Краснодар_Операции_в_ТП.xlsx')\n",
    "# ProfileReport(operations_tp).to_widgets()\n",
    "\"\"\"\n",
    "Поля:\n",
    "#['Ид. клиента', 'Код БИСКВИТ', 'Дата начала операции','Время начала операции']\n",
    "Алерты:\n",
    "Dataset has 56 (< 0.1%) duplicate rows\n",
    "TODO:\n",
    "Нужно удалить дубликаты\n",
    "\"\"\""
   ]
  },
  {
   "cell_type": "markdown",
   "id": "2059ba0a",
   "metadata": {},
   "source": [
    "# ХОД РЕШЕНИЯ"
   ]
  },
  {
   "cell_type": "markdown",
   "id": "c20f80c1",
   "metadata": {},
   "source": [
    "Выпишем еще раз 2 ключевые задачи:\n",
    "\n",
    "Посчитать, как в среднем распределяется клиентопоток физлиц между отделениями банка в Краснодаре.\n",
    "Как будет распределяться между отделениями банка в Краснодаре, если 4 офиса закроются навсегда (755, 1455, 1855, 1955).\n",
    "Я сделаю предположение, что для нас важно правильно учитывать распределение клиентопотока между отделениями\n",
    "для решения разных задач:\n",
    "\n",
    "- определение оптимального числа персонала для эффективного обслуживания клиентов;\n",
    "- равномерное распределение сотрудников банка внутри смен для эффективного обслуживания клиентов;\n",
    "- моделирование открытия и закрытия банковских отделений для более эффективного распределения сети отделений с целью наибольшего территориального покрытия услугами банка."
   ]
  },
  {
   "cell_type": "markdown",
   "id": "03c7eb91",
   "metadata": {},
   "source": [
    "Если клиент ходил просто снимать деньги в офисе, то при закрытии офиса с банкоматом он будет искать любой другой удобный.  \n",
    "Но если закроется отделение, которое ему нужно для услуги, тогда он пойдет в ближайшее доступное отделение.  \n",
    "\n",
    "Поэтому информацию о транзакциях в терминалах будем учитывать частично.  \n",
    "Отберём те терминалы, которые не находятся в офисах — это даст нам дополнительную информацию о геолокациях клиентов (где они бывают помимо POS-платежей).  \n",
    "Пользование терминалами в отделениях не является для нас целевой информацией.  "
   ]
  },
  {
   "cell_type": "code",
   "execution_count": 9,
   "id": "974de4a3",
   "metadata": {},
   "outputs": [
    {
     "name": "stdout",
     "output_type": "stream",
     "text": [
      "Операций в банкоматах,расположенных в отделениях 519k\n",
      "Операций в банкоматах,расположенных не в отделениях 789k\n"
     ]
    }
   ],
   "source": [
    "# check_quality(operations_atm)\n",
    "operations_atm['Номер АТМ'] = operations_atm['Номер АТМ'].astype(str)\n",
    "meta_atm['Номер АТМ'] = meta_atm['Номер АТМ'].astype(str)\n",
    "operations_atm = operations_atm.merge(meta_atm[['Номер АТМ','Широта','Долгота']])#ПРИМЕРЖИВАНИЕМ ГЕО К ОПЕРАЦИЯМ БАНКОМАТОВ\n",
    "# check_quality(operations_atm)\n",
    "operations_atm_in_tp = operations_atm.loc[(operations_atm['Широта'].isin(meta_tp['Широта']))#в отделениях\n",
    "                   &\n",
    "                   (operations_atm['Долгота'].isin(meta_tp['Долгота']))]\n",
    "operations_atm_not_tp = operations_atm.loc[~(operations_atm['Широта'].isin(meta_tp['Широта']))]#не в отделениях\n",
    "print(f'Операций в банкоматах,расположенных в отделениях {len(operations_atm_in_tp)//1000}k')\n",
    "print(f'Операций в банкоматах,расположенных не в отделениях {len(operations_atm_not_tp)//1000}k')\n"
   ]
  },
  {
   "cell_type": "markdown",
   "id": "caef13d9",
   "metadata": {},
   "source": [
    "\n",
    "Нам нужно определить, каким образом он будет выбирать ближайшее удобное место.\n",
    "\n",
    "Пайплайн решения:\n",
    "\n",
    "1.Если клиент не ходил в закрываемые офисы, то \"рекомендовать\" новый для оценки перераспределения трафика не нужно.  \n",
    "2.Если у нас есть данные о POS-платежах клиентов, мы оцениваем среднюю удаленность геолокации каждого клиента от каждого офиса и вычисляем ближайший.  \n",
    "3.Если по геолокации рекомендаций нет, но клиент ходил в офисы, которые мы хотим закрыть, то можно учесть его популярные офисы (за исключением закрываемых)   \n",
    "4.Если он ходил только в закрываемые, то определяем ближайший офис к закрываемому и предполагаем, что клиент пойдет туда.  \n",
    "Метод оценки:  \n",
    "Изначально я хотел разбить данные на train/test:\n",
    "\n",
    "На train оценивать ближайшие офисы для клиента,  \n",
    "На test моделировать изменение клиентопотока.  \n",
    "Но в этом нет смысла, так как в тестовой выборке подмена офисов не происходит, и мы не сможем оценить погрешность.  \n",
    "Поэтому анализ закономерностей и оценку изменения клиентопотока проводим сразу на всех данных — методика будет одинаковой.  "
   ]
  },
  {
   "cell_type": "markdown",
   "id": "7139ad3f",
   "metadata": {},
   "source": [
    "Так как у нас есть много POS-данных по клиентам, нам необходимо понять в них,  \n",
    "где клиенты географически находятся в то время, когда работают офисы.  "
   ]
  },
  {
   "cell_type": "code",
   "execution_count": 10,
   "id": "34c5d24f",
   "metadata": {},
   "outputs": [
    {
     "data": {
      "image/png": "[encoded data removed]",
      "text/plain": [
       "<Figure size 640x480 with 1 Axes>"
      ]
     },
     "metadata": {},
     "output_type": "display_data"
    }
   ],
   "source": [
    "\n",
    "operations_tp['Час посещения'] = pd.to_datetime(operations_tp['Время начала операции']).dt.hour\n",
    "operations_tp['День недели посещения'] = pd.to_datetime(operations_tp['Дата начала операции']).dt.day_of_week+1\n",
    "operations_tp['Месяц посещения'] = pd.to_datetime(operations_tp['Дата начала операции']).dt.month\n",
    "\n",
    "operations_tp.groupby('Час посещения')['Час посещения'].count().plot(kind='barh')\n",
    "plt.title('Распределение посещения офисов по часам внутри дня')\n",
    "plt.xlabel('Кол-во посещений')\n",
    "plt.show()\n"
   ]
  },
  {
   "cell_type": "markdown",
   "id": "d31f7d2d",
   "metadata": {},
   "source": [
    "Видим,что офисы посещают в основном с 9 до 18  \n",
    "Нужно посмотреть в какие дни посещают офисы"
   ]
  },
  {
   "cell_type": "code",
   "execution_count": 11,
   "id": "5b68db60",
   "metadata": {},
   "outputs": [
    {
     "data": {
      "image/png": "[encoded data removed]",
      "text/plain": [
       "<Figure size 640x480 with 1 Axes>"
      ]
     },
     "metadata": {},
     "output_type": "display_data"
    }
   ],
   "source": [
    "operations_tp.groupby('День недели посещения')['День недели посещения'].count().plot(kind='barh')\n",
    "plt.title('Распределение посещения офисов по дням недели')\n",
    "plt.xlabel('Кол-во посещений')\n",
    "plt.show()"
   ]
  },
  {
   "cell_type": "markdown",
   "id": "8eee6cde",
   "metadata": {},
   "source": [
    "Видим,что в основном посещения по будням и немного по субботам"
   ]
  },
  {
   "cell_type": "code",
   "execution_count": 12,
   "id": "3e843bce",
   "metadata": {},
   "outputs": [
    {
     "data": {
      "image/png": "[encoded data removed]",
      "text/plain": [
       "<Figure size 640x480 with 1 Axes>"
      ]
     },
     "metadata": {},
     "output_type": "display_data"
    }
   ],
   "source": [
    "operations_tp.groupby('Месяц посещения')['Месяц посещения'].count().plot(kind='barh')\n",
    "plt.title('Распределение посещения офисов по месяцам')\n",
    "plt.xlabel('Кол-во посещений')\n",
    "plt.show()"
   ]
  },
  {
   "cell_type": "markdown",
   "id": "efaf1181",
   "metadata": {},
   "source": [
    "Видим,что распределение по месяцем примерно равномерное,тенденции к регрессии нет"
   ]
  },
  {
   "cell_type": "markdown",
   "id": "b4072e30",
   "metadata": {},
   "source": [
    "удалим 2 наблюдения с посещениями офисов в воскресенье.  \n",
    "По справочник только некоторые в субботу принимают"
   ]
  },
  {
   "cell_type": "code",
   "execution_count": 13,
   "id": "7d343f31",
   "metadata": {},
   "outputs": [],
   "source": [
    "operations_tp = operations_tp.loc[operations_tp['День недели посещения']!=7]"
   ]
  },
  {
   "cell_type": "markdown",
   "id": "cdd38160",
   "metadata": {},
   "source": [
    "# Ответ на вопрос №1\n",
    "* Посчитать как в среднем распределяется клиентопоток физ лиц между отделениями банка в Краснодаре\n"
   ]
  },
  {
   "cell_type": "code",
   "execution_count": 14,
   "id": "df61efbf",
   "metadata": {},
   "outputs": [
    {
     "data": {
      "image/png": "[encoded data removed]",
      "text/plain": [
       "<Figure size 640x480 with 1 Axes>"
      ]
     },
     "metadata": {},
     "output_type": "display_data"
    }
   ],
   "source": [
    "counts = operations_tp.groupby(KEY_TP)[KEY_TP].count().sort_values()\n",
    "colors = []\n",
    "labels = []\n",
    "for x in counts.index:\n",
    "    if x in LIST_DEL_TP:\n",
    "        colors.append('red')\n",
    "        labels.append('Офисы закрываются')\n",
    "    else:\n",
    "        colors.append('blue')\n",
    "        labels.append('Офисы не закрываются')\n",
    "ax = counts.plot(kind='barh', color=colors)\n",
    "plt.title('Среднее распределение клиентопотока по офисам за 21')\n",
    "plt.xlabel('Кол-во посещений')\n",
    "\n",
    "legend_elements = [\n",
    "    Patch(facecolor='blue', label='Офисы не закрываются'),\n",
    "    Patch(facecolor='red', label='Офисы закрываются')\n",
    "]\n",
    "ax.legend(handles=legend_elements, loc='best')\n",
    "plt.show()"
   ]
  },
  {
   "cell_type": "markdown",
   "id": "e4d2e3fb",
   "metadata": {},
   "source": [
    "Видим, что нам очень ёмкий по посещению офис 755 закроется, его объём перераспределят другие офисы при закрытии.  \n",
    "55-й не работает с клиентами по справочнику."
   ]
  },
  {
   "cell_type": "markdown",
   "id": "00f77803",
   "metadata": {},
   "source": [
    "# Ответ на вопрос №2\n",
    "Как  будет распределяться траффик между отделениями банка в Краснодаре, если 4 офиса закроются навсегда (755, 1455, 1855, 1955)\n",
    "\n",
    "На основании полученной информации загрузим POS-данные, обработаем дубликаты:\n",
    "\n",
    "- удалим информацию о POS-транзакциях клиентов в то время, когда офисы закрыты;\n",
    "- объединим с информацией по пользованию терминалами вне офисов."
   ]
  },
  {
   "cell_type": "code",
   "execution_count": 15,
   "id": "35e937a5",
   "metadata": {},
   "outputs": [
    {
     "name": "stdout",
     "output_type": "stream",
     "text": [
      "Размерность данных (5876929, 5)\n",
      "Кол-во дубликатов : 20970\n",
      "Кол-во пропусков : 0\n"
     ]
    },
    {
     "data": {
      "text/plain": [
       "Ид. клиента         0\n",
       "Дата транзакции     0\n",
       "Время транзакции    0\n",
       "Широта              0\n",
       "Долгота             0\n",
       "dtype: int64"
      ]
     },
     "execution_count": 15,
     "metadata": {},
     "output_type": "execute_result"
    }
   ],
   "source": [
    "pos = pd.read_csv('/Users/andrejbatutin/DS/VTB/Лучший_УС_Краснодар_Транзакции_ПОС.csv', encoding='cp1251')\n",
    "pos = pos[['Ид. клиента','Дата транзакции', 'Время транзакции', 'Широта',\n",
    "       'Долгота']]\n",
    "check_quality(pos)\n",
    "pos.isna().sum()"
   ]
  },
  {
   "cell_type": "markdown",
   "id": "15404b1b",
   "metadata": {},
   "source": [
    "Возьмем операции в терминалах вне банков, приведем их к схеме данных POS и объединим.  \n",
    "Этот набор данных даст общее представление о том, где клиенты чаще всего находятся с географической точки зрения.  "
   ]
  },
  {
   "cell_type": "code",
   "execution_count": 16,
   "id": "b1a167d9",
   "metadata": {},
   "outputs": [],
   "source": [
    "operations_atm_not_tp = operations_atm_not_tp[['Ид. клиента','Дата', 'Время', 'Широта',\n",
    "       'Долгота']].rename(columns={'Дата':'Дата транзакции',\n",
    "                                   'Время':'Время транзакции'})\n",
    "pos = pd.concat([pos]+[operations_atm_not_tp])#сведеные данные POS платежи + ATM"
   ]
  },
  {
   "cell_type": "code",
   "execution_count": 17,
   "id": "28fc82ed",
   "metadata": {},
   "outputs": [
    {
     "name": "stdout",
     "output_type": "stream",
     "text": [
      "Размерность данных (6645843, 5)\n",
      "Кол-во дубликатов : 0\n",
      "Кол-во пропусков : 0\n"
     ]
    }
   ],
   "source": [
    "#Дубликаты удалили\n",
    "pos = pos.drop_duplicates()\n",
    "check_quality(pos)"
   ]
  },
  {
   "cell_type": "markdown",
   "id": "0914b38a",
   "metadata": {},
   "source": [
    "Оставим информацию о ПОС-транзакциях только за рабочее время отделений.  \n",
    "Нам важно понимать геораспределение клиентов именно в рабочие дни офисов.  "
   ]
  },
  {
   "cell_type": "code",
   "execution_count": 18,
   "id": "4e9839cd",
   "metadata": {},
   "outputs": [
    {
     "name": "stdout",
     "output_type": "stream",
     "text": [
      "строк до удаления (6645843, 7)\n",
      "строк после удаления (3638365, 7)\n"
     ]
    }
   ],
   "source": [
    "\n",
    "pos['Час транзакции'] = pd.to_datetime(pos['Время транзакции']).dt.hour\n",
    "pos['День транзакции'] = pd.to_datetime(pos['Дата транзакции']).dt.day_of_week+1\n",
    "print(f'строк до удаления {pos.shape}')\n",
    "pos = pos.loc[(pos['День транзакции'].isin(list(range(1,6))))#Будни\n",
    "        &\n",
    "        (pos['Час транзакции'].isin(list(range(9,19))))#Рабочие часы\n",
    "        ]\n",
    "print(f'строк после удаления {pos.shape}')"
   ]
  },
  {
   "cell_type": "markdown",
   "id": "50b0e0e6",
   "metadata": {},
   "source": [
    "Возьмем все офисы и их геолокацию"
   ]
  },
  {
   "cell_type": "code",
   "execution_count": 19,
   "id": "bd5f7bb4",
   "metadata": {},
   "outputs": [],
   "source": [
    "offices = pd.read_excel('/Users/andrejbatutin/DS/VTB/Лучший_УС_Краснодар_Справочник_ТП.xlsx')\n",
    "offices = offices[['Код БИСКВИТ','Широта','Долгота']]\n",
    "offices = offices.rename(columns={\n",
    "    'Широта': 'Широта_ОТДЕЛ',\n",
    "    'Долгота': 'Долгота_ОТДЕЛ',\n",
    "})"
   ]
  },
  {
   "cell_type": "markdown",
   "id": "b1541291",
   "metadata": {},
   "source": [
    "Сделаем кроссджоин все транзакции клиентов с гео и все офисы с гео"
   ]
  },
  {
   "cell_type": "code",
   "execution_count": 20,
   "id": "d4fdbd29",
   "metadata": {},
   "outputs": [
    {
     "name": "stdout",
     "output_type": "stream",
     "text": [
      "Размерность данных (47298745, 10)\n",
      "Кол-во дубликатов : 0\n",
      "Кол-во пропусков : 0\n"
     ]
    }
   ],
   "source": [
    "cross_pos = pos.merge(offices,how='cross')\n",
    "cross_pos = cross_pos.rename(columns={\n",
    "    'Широта': 'Широта_ПОС',\n",
    "    'Долгота': 'Долгота_ПОС',\n",
    "})\n",
    "check_quality(cross_pos)# пропуски это MCC"
   ]
  },
  {
   "cell_type": "markdown",
   "id": "0815d705",
   "metadata": {},
   "source": [
    "У нас удаление каждой транзакции клиентов до каждого офиса"
   ]
  },
  {
   "cell_type": "code",
   "execution_count": 21,
   "id": "fc659e9f",
   "metadata": {},
   "outputs": [
    {
     "data": {
      "text/html": [
       "<div>\n",
       "<style scoped>\n",
       "    .dataframe tbody tr th:only-of-type {\n",
       "        vertical-align: middle;\n",
       "    }\n",
       "\n",
       "    .dataframe tbody tr th {\n",
       "        vertical-align: top;\n",
       "    }\n",
       "\n",
       "    .dataframe thead th {\n",
       "        text-align: right;\n",
       "    }\n",
       "</style>\n",
       "<table border=\"1\" class=\"dataframe\">\n",
       "  <thead>\n",
       "    <tr style=\"text-align: right;\">\n",
       "      <th></th>\n",
       "      <th>Ид. клиента</th>\n",
       "      <th>Дата транзакции</th>\n",
       "      <th>Время транзакции</th>\n",
       "      <th>Широта_ПОС</th>\n",
       "      <th>Долгота_ПОС</th>\n",
       "      <th>Час транзакции</th>\n",
       "      <th>День транзакции</th>\n",
       "      <th>Код БИСКВИТ</th>\n",
       "      <th>Широта_ОТДЕЛ</th>\n",
       "      <th>Долгота_ОТДЕЛ</th>\n",
       "    </tr>\n",
       "  </thead>\n",
       "  <tbody>\n",
       "    <tr>\n",
       "      <th>0</th>\n",
       "      <td>11276</td>\n",
       "      <td>2021-01-11</td>\n",
       "      <td>11:27:45</td>\n",
       "      <td>45.069384</td>\n",
       "      <td>38.974244</td>\n",
       "      <td>11</td>\n",
       "      <td>1</td>\n",
       "      <td>55</td>\n",
       "      <td>45.027667</td>\n",
       "      <td>38.967156</td>\n",
       "    </tr>\n",
       "    <tr>\n",
       "      <th>1</th>\n",
       "      <td>11276</td>\n",
       "      <td>2021-01-11</td>\n",
       "      <td>11:27:45</td>\n",
       "      <td>45.069384</td>\n",
       "      <td>38.974244</td>\n",
       "      <td>11</td>\n",
       "      <td>1</td>\n",
       "      <td>755</td>\n",
       "      <td>45.021099</td>\n",
       "      <td>39.018414</td>\n",
       "    </tr>\n",
       "    <tr>\n",
       "      <th>2</th>\n",
       "      <td>11276</td>\n",
       "      <td>2021-01-11</td>\n",
       "      <td>11:27:45</td>\n",
       "      <td>45.069384</td>\n",
       "      <td>38.974244</td>\n",
       "      <td>11</td>\n",
       "      <td>1</td>\n",
       "      <td>1455</td>\n",
       "      <td>45.038337</td>\n",
       "      <td>38.989408</td>\n",
       "    </tr>\n",
       "    <tr>\n",
       "      <th>3</th>\n",
       "      <td>11276</td>\n",
       "      <td>2021-01-11</td>\n",
       "      <td>11:27:45</td>\n",
       "      <td>45.069384</td>\n",
       "      <td>38.974244</td>\n",
       "      <td>11</td>\n",
       "      <td>1</td>\n",
       "      <td>1855</td>\n",
       "      <td>45.019729</td>\n",
       "      <td>38.984611</td>\n",
       "    </tr>\n",
       "    <tr>\n",
       "      <th>4</th>\n",
       "      <td>11276</td>\n",
       "      <td>2021-01-11</td>\n",
       "      <td>11:27:45</td>\n",
       "      <td>45.069384</td>\n",
       "      <td>38.974244</td>\n",
       "      <td>11</td>\n",
       "      <td>1</td>\n",
       "      <td>1955</td>\n",
       "      <td>45.019850</td>\n",
       "      <td>38.969070</td>\n",
       "    </tr>\n",
       "    <tr>\n",
       "      <th>5</th>\n",
       "      <td>11276</td>\n",
       "      <td>2021-01-11</td>\n",
       "      <td>11:27:45</td>\n",
       "      <td>45.069384</td>\n",
       "      <td>38.974244</td>\n",
       "      <td>11</td>\n",
       "      <td>1</td>\n",
       "      <td>2055</td>\n",
       "      <td>45.101840</td>\n",
       "      <td>38.980793</td>\n",
       "    </tr>\n",
       "    <tr>\n",
       "      <th>6</th>\n",
       "      <td>11276</td>\n",
       "      <td>2021-01-11</td>\n",
       "      <td>11:27:45</td>\n",
       "      <td>45.069384</td>\n",
       "      <td>38.974244</td>\n",
       "      <td>11</td>\n",
       "      <td>1</td>\n",
       "      <td>2855</td>\n",
       "      <td>45.047609</td>\n",
       "      <td>38.977712</td>\n",
       "    </tr>\n",
       "    <tr>\n",
       "      <th>7</th>\n",
       "      <td>11276</td>\n",
       "      <td>2021-01-11</td>\n",
       "      <td>11:27:45</td>\n",
       "      <td>45.069384</td>\n",
       "      <td>38.974244</td>\n",
       "      <td>11</td>\n",
       "      <td>1</td>\n",
       "      <td>3259</td>\n",
       "      <td>45.031343</td>\n",
       "      <td>39.044070</td>\n",
       "    </tr>\n",
       "    <tr>\n",
       "      <th>8</th>\n",
       "      <td>11276</td>\n",
       "      <td>2021-01-11</td>\n",
       "      <td>11:27:45</td>\n",
       "      <td>45.069384</td>\n",
       "      <td>38.974244</td>\n",
       "      <td>11</td>\n",
       "      <td>1</td>\n",
       "      <td>3459</td>\n",
       "      <td>45.027667</td>\n",
       "      <td>38.967156</td>\n",
       "    </tr>\n",
       "    <tr>\n",
       "      <th>9</th>\n",
       "      <td>11276</td>\n",
       "      <td>2021-01-11</td>\n",
       "      <td>11:27:45</td>\n",
       "      <td>45.069384</td>\n",
       "      <td>38.974244</td>\n",
       "      <td>11</td>\n",
       "      <td>1</td>\n",
       "      <td>4155</td>\n",
       "      <td>45.018047</td>\n",
       "      <td>38.964111</td>\n",
       "    </tr>\n",
       "  </tbody>\n",
       "</table>\n",
       "</div>"
      ],
      "text/plain": [
       "   Ид. клиента Дата транзакции Время транзакции  Широта_ПОС  Долгота_ПОС  \\\n",
       "0        11276      2021-01-11         11:27:45   45.069384    38.974244   \n",
       "1        11276      2021-01-11         11:27:45   45.069384    38.974244   \n",
       "2        11276      2021-01-11         11:27:45   45.069384    38.974244   \n",
       "3        11276      2021-01-11         11:27:45   45.069384    38.974244   \n",
       "4        11276      2021-01-11         11:27:45   45.069384    38.974244   \n",
       "5        11276      2021-01-11         11:27:45   45.069384    38.974244   \n",
       "6        11276      2021-01-11         11:27:45   45.069384    38.974244   \n",
       "7        11276      2021-01-11         11:27:45   45.069384    38.974244   \n",
       "8        11276      2021-01-11         11:27:45   45.069384    38.974244   \n",
       "9        11276      2021-01-11         11:27:45   45.069384    38.974244   \n",
       "\n",
       "   Час транзакции  День транзакции  Код БИСКВИТ  Широта_ОТДЕЛ  Долгота_ОТДЕЛ  \n",
       "0              11                1           55     45.027667      38.967156  \n",
       "1              11                1          755     45.021099      39.018414  \n",
       "2              11                1         1455     45.038337      38.989408  \n",
       "3              11                1         1855     45.019729      38.984611  \n",
       "4              11                1         1955     45.019850      38.969070  \n",
       "5              11                1         2055     45.101840      38.980793  \n",
       "6              11                1         2855     45.047609      38.977712  \n",
       "7              11                1         3259     45.031343      39.044070  \n",
       "8              11                1         3459     45.027667      38.967156  \n",
       "9              11                1         4155     45.018047      38.964111  "
      ]
     },
     "execution_count": 21,
     "metadata": {},
     "output_type": "execute_result"
    }
   ],
   "source": [
    "cross_pos.head(10)"
   ]
  },
  {
   "cell_type": "markdown",
   "id": "f94faa00",
   "metadata": {},
   "source": [
    "Теперь перейдем к реализации главной идеи: ранжируем удаленность офисов от места пребывания клиентов.  \n",
    "\n",
    "1.Мы посчитаем для каждой транзакции каждого клиента её удаление от всех 13 офисов.  \n",
    "2.Затем для каждого клиента агрегируем информацию о медианной удалённости его транзакций до каждого офиса.  \n",
    "3.Чем дальше медианная транзакция от офиса, тем менее вероятно, что клиент пойдёт в такой далёкий офис.  \n",
    "\n",
    "Пробовал стек geodesic, geopandas, но скорость расчетов не радует для больших данных.  \n",
    "Для нашей задачи воспользуемся формулой гаверсинусов.  \n",
    "Просто усреднить широту или долготу нельзя (средняя точка между 170 и -170 — не 0).  \n",
    "\n",
    "Формула работает верно: проверил на нескольких наблюдениях на калькуляторе геоданных и 2ГИС.  \n",
    "Так как используются математические формулы на оптимизированном numpy, расчет получается быстрым и точным.  "
   ]
  },
  {
   "cell_type": "code",
   "execution_count": 22,
   "id": "f6343bd8",
   "metadata": {},
   "outputs": [],
   "source": [
    "def haversine(lat1:float, lon1:float, lat2:float, lon2:float):\n",
    "    \"\"\"\n",
    "    Haversine (формула гаверсинусов) — это математическая формула, \n",
    "    позволяющая рассчитать кратчайшее расстояние между двумя точками на сфере (например, на Земле), \n",
    "    используя их широту и долготу.\n",
    "    \"\"\"\n",
    "    R = 6371  # Радиус Земли в км\n",
    "    lat1, lon1, lat2, lon2 = np.radians([lat1, lon1, lat2, lon2])\n",
    "    dlat = lat2 - lat1\n",
    "    dlon = lon2 - lon1\n",
    "    a = np.sin(dlat/2)**2 + np.cos(lat1) * np.cos(lat2) * np.sin(dlon/2)**2\n",
    "    c = 2 * np.arcsin(np.sqrt(a))\n",
    "    return R * c"
   ]
  },
  {
   "cell_type": "code",
   "execution_count": 23,
   "id": "a0a3025f",
   "metadata": {},
   "outputs": [
    {
     "name": "stdout",
     "output_type": "stream",
     "text": [
      "Расстояние между Краснодар Красная улица 176 и\n",
      "Краснодар Солнечная 15\u0003\n",
      "3.5км\n"
     ]
    }
   ],
   "source": [
    "print(f'Расстояние между Краснодар Красная улица 176 и')\n",
    "print(f'Краснодар Солнечная 15\\3')\n",
    "print(f'{round(haversine(45.046871, 38.980029,45.073757, 39.002981),1)}км')\n"
   ]
  },
  {
   "cell_type": "markdown",
   "id": "5c7fbb4e",
   "metadata": {},
   "source": [
    "Очень точно считает,проверил линейкой в 2гис\n",
    "Можно доверять"
   ]
  },
  {
   "cell_type": "code",
   "execution_count": 24,
   "id": "9327e0ea",
   "metadata": {},
   "outputs": [
    {
     "data": {
      "image/jpeg": "[encoded data removed]",
      "text/plain": [
       "<IPython.core.display.Image object>"
      ]
     },
     "execution_count": 24,
     "metadata": {
      "image/jpeg": {
       "height": 400,
       "width": 1000
      }
     },
     "output_type": "execute_result"
    }
   ],
   "source": [
    "from IPython.display import Image\n",
    "Image(\"/Users/andrejbatutin/DS/VTB/distance.jpg\", width=1000, height=400)"
   ]
  },
  {
   "cell_type": "markdown",
   "id": "88cd961f",
   "metadata": {},
   "source": [
    "Теперь считаем расстояния каждой транзакции до каждого офиса"
   ]
  },
  {
   "cell_type": "code",
   "execution_count": 25,
   "id": "9b736295",
   "metadata": {},
   "outputs": [
    {
     "data": {
      "text/html": [
       "<div>\n",
       "<style scoped>\n",
       "    .dataframe tbody tr th:only-of-type {\n",
       "        vertical-align: middle;\n",
       "    }\n",
       "\n",
       "    .dataframe tbody tr th {\n",
       "        vertical-align: top;\n",
       "    }\n",
       "\n",
       "    .dataframe thead th {\n",
       "        text-align: right;\n",
       "    }\n",
       "</style>\n",
       "<table border=\"1\" class=\"dataframe\">\n",
       "  <thead>\n",
       "    <tr style=\"text-align: right;\">\n",
       "      <th></th>\n",
       "      <th>Широта_ПОС</th>\n",
       "      <th>Долгота_ПОС</th>\n",
       "      <th>Широта_ОТДЕЛ</th>\n",
       "      <th>Долгота_ОТДЕЛ</th>\n",
       "      <th>distance_km</th>\n",
       "    </tr>\n",
       "  </thead>\n",
       "  <tbody>\n",
       "    <tr>\n",
       "      <th>0</th>\n",
       "      <td>45.069384</td>\n",
       "      <td>38.974244</td>\n",
       "      <td>45.027667</td>\n",
       "      <td>38.967156</td>\n",
       "      <td>4.672020</td>\n",
       "    </tr>\n",
       "    <tr>\n",
       "      <th>1</th>\n",
       "      <td>45.069384</td>\n",
       "      <td>38.974244</td>\n",
       "      <td>45.021099</td>\n",
       "      <td>39.018414</td>\n",
       "      <td>6.392881</td>\n",
       "    </tr>\n",
       "    <tr>\n",
       "      <th>2</th>\n",
       "      <td>45.069384</td>\n",
       "      <td>38.974244</td>\n",
       "      <td>45.038337</td>\n",
       "      <td>38.989408</td>\n",
       "      <td>3.651993</td>\n",
       "    </tr>\n",
       "    <tr>\n",
       "      <th>3</th>\n",
       "      <td>45.069384</td>\n",
       "      <td>38.974244</td>\n",
       "      <td>45.019729</td>\n",
       "      <td>38.984611</td>\n",
       "      <td>5.581136</td>\n",
       "    </tr>\n",
       "    <tr>\n",
       "      <th>4</th>\n",
       "      <td>45.069384</td>\n",
       "      <td>38.974244</td>\n",
       "      <td>45.019850</td>\n",
       "      <td>38.969070</td>\n",
       "      <td>5.522909</td>\n",
       "    </tr>\n",
       "  </tbody>\n",
       "</table>\n",
       "</div>"
      ],
      "text/plain": [
       "   Широта_ПОС  Долгота_ПОС  Широта_ОТДЕЛ  Долгота_ОТДЕЛ  distance_km\n",
       "0   45.069384    38.974244     45.027667      38.967156     4.672020\n",
       "1   45.069384    38.974244     45.021099      39.018414     6.392881\n",
       "2   45.069384    38.974244     45.038337      38.989408     3.651993\n",
       "3   45.069384    38.974244     45.019729      38.984611     5.581136\n",
       "4   45.069384    38.974244     45.019850      38.969070     5.522909"
      ]
     },
     "execution_count": 25,
     "metadata": {},
     "output_type": "execute_result"
    }
   ],
   "source": [
    "cross_pos[\"distance_km\"] = haversine(\n",
    "    cross_pos[\"Широта_ПОС\"], cross_pos[\"Долгота_ПОС\"],\n",
    "    cross_pos[\"Широта_ОТДЕЛ\"], cross_pos[\"Долгота_ОТДЕЛ\"]\n",
    ")\n",
    "cross_pos.head()[['Широта_ПОС','Долгота_ПОС','Широта_ОТДЕЛ','Долгота_ОТДЕЛ','distance_km']]"
   ]
  },
  {
   "cell_type": "markdown",
   "id": "977032b5",
   "metadata": {},
   "source": [
    "Отлично, а теперь агрегируем медианное расстояние по клиентам до офисов.  \n",
    "И видим отличную интерпретацию:  \n",
    "Клиент 123153 сильно ближе (живет, находится, работает, отдыхает) с офисом 4555, чем с офисом 2055.  "
   ]
  },
  {
   "cell_type": "code",
   "execution_count": 26,
   "id": "3b7c001b",
   "metadata": {},
   "outputs": [
    {
     "data": {
      "text/html": [
       "<div>\n",
       "<style scoped>\n",
       "    .dataframe tbody tr th:only-of-type {\n",
       "        vertical-align: middle;\n",
       "    }\n",
       "\n",
       "    .dataframe tbody tr th {\n",
       "        vertical-align: top;\n",
       "    }\n",
       "\n",
       "    .dataframe thead th {\n",
       "        text-align: right;\n",
       "    }\n",
       "</style>\n",
       "<table border=\"1\" class=\"dataframe\">\n",
       "  <thead>\n",
       "    <tr style=\"text-align: right;\">\n",
       "      <th></th>\n",
       "      <th>Ид. клиента</th>\n",
       "      <th>Код БИСКВИТ</th>\n",
       "      <th>distance_km</th>\n",
       "    </tr>\n",
       "  </thead>\n",
       "  <tbody>\n",
       "    <tr>\n",
       "      <th>1198950</th>\n",
       "      <td>123153</td>\n",
       "      <td>4555</td>\n",
       "      <td>2.298023</td>\n",
       "    </tr>\n",
       "    <tr>\n",
       "      <th>1198940</th>\n",
       "      <td>123153</td>\n",
       "      <td>1455</td>\n",
       "      <td>4.078130</td>\n",
       "    </tr>\n",
       "    <tr>\n",
       "      <th>1198944</th>\n",
       "      <td>123153</td>\n",
       "      <td>2855</td>\n",
       "      <td>4.184527</td>\n",
       "    </tr>\n",
       "    <tr>\n",
       "      <th>1198945</th>\n",
       "      <td>123153</td>\n",
       "      <td>3259</td>\n",
       "      <td>4.644347</td>\n",
       "    </tr>\n",
       "    <tr>\n",
       "      <th>1198948</th>\n",
       "      <td>123153</td>\n",
       "      <td>4255</td>\n",
       "      <td>4.847892</td>\n",
       "    </tr>\n",
       "    <tr>\n",
       "      <th>1198943</th>\n",
       "      <td>123153</td>\n",
       "      <td>2055</td>\n",
       "      <td>4.914713</td>\n",
       "    </tr>\n",
       "    <tr>\n",
       "      <th>1198939</th>\n",
       "      <td>123153</td>\n",
       "      <td>755</td>\n",
       "      <td>5.073851</td>\n",
       "    </tr>\n",
       "    <tr>\n",
       "      <th>1198949</th>\n",
       "      <td>123153</td>\n",
       "      <td>4455</td>\n",
       "      <td>5.387119</td>\n",
       "    </tr>\n",
       "    <tr>\n",
       "      <th>1198941</th>\n",
       "      <td>123153</td>\n",
       "      <td>1855</td>\n",
       "      <td>5.884677</td>\n",
       "    </tr>\n",
       "    <tr>\n",
       "      <th>1198938</th>\n",
       "      <td>123153</td>\n",
       "      <td>55</td>\n",
       "      <td>6.014524</td>\n",
       "    </tr>\n",
       "    <tr>\n",
       "      <th>1198946</th>\n",
       "      <td>123153</td>\n",
       "      <td>3459</td>\n",
       "      <td>6.014524</td>\n",
       "    </tr>\n",
       "    <tr>\n",
       "      <th>1198942</th>\n",
       "      <td>123153</td>\n",
       "      <td>1955</td>\n",
       "      <td>6.538823</td>\n",
       "    </tr>\n",
       "    <tr>\n",
       "      <th>1198947</th>\n",
       "      <td>123153</td>\n",
       "      <td>4155</td>\n",
       "      <td>6.929120</td>\n",
       "    </tr>\n",
       "  </tbody>\n",
       "</table>\n",
       "</div>"
      ],
      "text/plain": [
       "         Ид. клиента  Код БИСКВИТ  distance_km\n",
       "1198950       123153         4555     2.298023\n",
       "1198940       123153         1455     4.078130\n",
       "1198944       123153         2855     4.184527\n",
       "1198945       123153         3259     4.644347\n",
       "1198948       123153         4255     4.847892\n",
       "1198943       123153         2055     4.914713\n",
       "1198939       123153          755     5.073851\n",
       "1198949       123153         4455     5.387119\n",
       "1198941       123153         1855     5.884677\n",
       "1198938       123153           55     6.014524\n",
       "1198946       123153         3459     6.014524\n",
       "1198942       123153         1955     6.538823\n",
       "1198947       123153         4155     6.929120"
      ]
     },
     "execution_count": 26,
     "metadata": {},
     "output_type": "execute_result"
    }
   ],
   "source": [
    "distance_client = cross_pos.groupby(['Ид. клиента','Код БИСКВИТ'])['distance_km'].median().reset_index().sort_values(by=['Ид. клиента','distance_km'],ascending=True)\n",
    "distance_client.loc[distance_client[KEY_CLIENT]==123153]"
   ]
  },
  {
   "cell_type": "markdown",
   "id": "2a7b6ec7",
   "metadata": {},
   "source": [
    "Удалим отсюда офисы, которые будут закрываться, и оставим только строчку с минимальным расстоянием и ближайшим офисом для каждого клиента."
   ]
  },
  {
   "cell_type": "code",
   "execution_count": 27,
   "id": "25572d6f",
   "metadata": {},
   "outputs": [
    {
     "data": {
      "text/html": [
       "<div>\n",
       "<style scoped>\n",
       "    .dataframe tbody tr th:only-of-type {\n",
       "        vertical-align: middle;\n",
       "    }\n",
       "\n",
       "    .dataframe tbody tr th {\n",
       "        vertical-align: top;\n",
       "    }\n",
       "\n",
       "    .dataframe thead th {\n",
       "        text-align: right;\n",
       "    }\n",
       "</style>\n",
       "<table border=\"1\" class=\"dataframe\">\n",
       "  <thead>\n",
       "    <tr style=\"text-align: right;\">\n",
       "      <th></th>\n",
       "      <th>Ид. клиента</th>\n",
       "      <th>Код БИСКВИТ</th>\n",
       "      <th>distance_km</th>\n",
       "    </tr>\n",
       "  </thead>\n",
       "  <tbody>\n",
       "    <tr>\n",
       "      <th>6</th>\n",
       "      <td>3</td>\n",
       "      <td>2855</td>\n",
       "      <td>1.376356</td>\n",
       "    </tr>\n",
       "    <tr>\n",
       "      <th>20</th>\n",
       "      <td>4</td>\n",
       "      <td>3259</td>\n",
       "      <td>0.755169</td>\n",
       "    </tr>\n",
       "    <tr>\n",
       "      <th>32</th>\n",
       "      <td>5</td>\n",
       "      <td>2855</td>\n",
       "      <td>0.988600</td>\n",
       "    </tr>\n",
       "    <tr>\n",
       "      <th>51</th>\n",
       "      <td>6</td>\n",
       "      <td>4555</td>\n",
       "      <td>0.910382</td>\n",
       "    </tr>\n",
       "    <tr>\n",
       "      <th>60</th>\n",
       "      <td>8</td>\n",
       "      <td>3459</td>\n",
       "      <td>3.544838</td>\n",
       "    </tr>\n",
       "    <tr>\n",
       "      <th>...</th>\n",
       "      <td>...</td>\n",
       "      <td>...</td>\n",
       "      <td>...</td>\n",
       "    </tr>\n",
       "    <tr>\n",
       "      <th>1456438</th>\n",
       "      <td>151921</td>\n",
       "      <td>4155</td>\n",
       "      <td>4.718974</td>\n",
       "    </tr>\n",
       "    <tr>\n",
       "      <th>1456450</th>\n",
       "      <td>151922</td>\n",
       "      <td>3459</td>\n",
       "      <td>0.431921</td>\n",
       "    </tr>\n",
       "    <tr>\n",
       "      <th>1456463</th>\n",
       "      <td>151923</td>\n",
       "      <td>3459</td>\n",
       "      <td>0.431921</td>\n",
       "    </tr>\n",
       "    <tr>\n",
       "      <th>1456477</th>\n",
       "      <td>151925</td>\n",
       "      <td>4155</td>\n",
       "      <td>0.632043</td>\n",
       "    </tr>\n",
       "    <tr>\n",
       "      <th>1456490</th>\n",
       "      <td>151926</td>\n",
       "      <td>4155</td>\n",
       "      <td>0.632043</td>\n",
       "    </tr>\n",
       "  </tbody>\n",
       "</table>\n",
       "<p>112038 rows × 3 columns</p>\n",
       "</div>"
      ],
      "text/plain": [
       "         Ид. клиента  Код БИСКВИТ  distance_km\n",
       "6                  3         2855     1.376356\n",
       "20                 4         3259     0.755169\n",
       "32                 5         2855     0.988600\n",
       "51                 6         4555     0.910382\n",
       "60                 8         3459     3.544838\n",
       "...              ...          ...          ...\n",
       "1456438       151921         4155     4.718974\n",
       "1456450       151922         3459     0.431921\n",
       "1456463       151923         3459     0.431921\n",
       "1456477       151925         4155     0.632043\n",
       "1456490       151926         4155     0.632043\n",
       "\n",
       "[112038 rows x 3 columns]"
      ]
     },
     "execution_count": 27,
     "metadata": {},
     "output_type": "execute_result"
    }
   ],
   "source": [
    "distance_client = distance_client.loc[~distance_client['Код БИСКВИТ'].isin(LIST_DEL_TP)]  \n",
    "min_distance_client = distance_client.drop_duplicates(subset=['Ид. клиента'],keep='first')\n",
    "min_distance_client "
   ]
  },
  {
   "cell_type": "markdown",
   "id": "13bc092d",
   "metadata": {},
   "source": [
    "У нас получился готовый маппинг.   \n",
    "Так как в субботу тоже есть приём клиентов, нам нужно проставлять не все отделения, а только те, что ближе к клиенту и работают в субботу.  "
   ]
  },
  {
   "cell_type": "code",
   "execution_count": 28,
   "id": "da2ed3b5",
   "metadata": {},
   "outputs": [
    {
     "data": {
      "text/plain": [
       "Ид. клиента\n",
       "3         2855\n",
       "4         3259\n",
       "5         2855\n",
       "6         4555\n",
       "8         3459\n",
       "          ... \n",
       "151921    4155\n",
       "151922    3459\n",
       "151923    3459\n",
       "151925    4155\n",
       "151926    4155\n",
       "Name: Код БИСКВИТ, Length: 112038, dtype: int64"
      ]
     },
     "execution_count": 28,
     "metadata": {},
     "output_type": "execute_result"
    }
   ],
   "source": [
    "client_mapping_weekday = min_distance_client.drop_duplicates('Ид. клиента').set_index('Ид. клиента')['Код БИСКВИТ']\n",
    "client_mapping_weekday"
   ]
  },
  {
   "cell_type": "code",
   "execution_count": 29,
   "id": "c1da070f",
   "metadata": {},
   "outputs": [
    {
     "data": {
      "text/html": [
       "<div>\n",
       "<style scoped>\n",
       "    .dataframe tbody tr th:only-of-type {\n",
       "        vertical-align: middle;\n",
       "    }\n",
       "\n",
       "    .dataframe tbody tr th {\n",
       "        vertical-align: top;\n",
       "    }\n",
       "\n",
       "    .dataframe thead th {\n",
       "        text-align: right;\n",
       "    }\n",
       "</style>\n",
       "<table border=\"1\" class=\"dataframe\">\n",
       "  <thead>\n",
       "    <tr style=\"text-align: right;\">\n",
       "      <th></th>\n",
       "      <th>Ид. клиента</th>\n",
       "      <th>Код БИСКВИТ</th>\n",
       "      <th>distance_km</th>\n",
       "    </tr>\n",
       "  </thead>\n",
       "  <tbody>\n",
       "    <tr>\n",
       "      <th>6</th>\n",
       "      <td>3</td>\n",
       "      <td>2855</td>\n",
       "      <td>1.376356</td>\n",
       "    </tr>\n",
       "    <tr>\n",
       "      <th>20</th>\n",
       "      <td>4</td>\n",
       "      <td>3259</td>\n",
       "      <td>0.755169</td>\n",
       "    </tr>\n",
       "    <tr>\n",
       "      <th>32</th>\n",
       "      <td>5</td>\n",
       "      <td>2855</td>\n",
       "      <td>0.988600</td>\n",
       "    </tr>\n",
       "    <tr>\n",
       "      <th>51</th>\n",
       "      <td>6</td>\n",
       "      <td>4555</td>\n",
       "      <td>0.910382</td>\n",
       "    </tr>\n",
       "    <tr>\n",
       "      <th>60</th>\n",
       "      <td>8</td>\n",
       "      <td>3459</td>\n",
       "      <td>3.544838</td>\n",
       "    </tr>\n",
       "    <tr>\n",
       "      <th>...</th>\n",
       "      <td>...</td>\n",
       "      <td>...</td>\n",
       "      <td>...</td>\n",
       "    </tr>\n",
       "    <tr>\n",
       "      <th>1456438</th>\n",
       "      <td>151921</td>\n",
       "      <td>4155</td>\n",
       "      <td>4.718974</td>\n",
       "    </tr>\n",
       "    <tr>\n",
       "      <th>1456450</th>\n",
       "      <td>151922</td>\n",
       "      <td>3459</td>\n",
       "      <td>0.431921</td>\n",
       "    </tr>\n",
       "    <tr>\n",
       "      <th>1456463</th>\n",
       "      <td>151923</td>\n",
       "      <td>3459</td>\n",
       "      <td>0.431921</td>\n",
       "    </tr>\n",
       "    <tr>\n",
       "      <th>1456477</th>\n",
       "      <td>151925</td>\n",
       "      <td>4155</td>\n",
       "      <td>0.632043</td>\n",
       "    </tr>\n",
       "    <tr>\n",
       "      <th>1456490</th>\n",
       "      <td>151926</td>\n",
       "      <td>4155</td>\n",
       "      <td>0.632043</td>\n",
       "    </tr>\n",
       "  </tbody>\n",
       "</table>\n",
       "<p>112038 rows × 3 columns</p>\n",
       "</div>"
      ],
      "text/plain": [
       "         Ид. клиента  Код БИСКВИТ  distance_km\n",
       "6                  3         2855     1.376356\n",
       "20                 4         3259     0.755169\n",
       "32                 5         2855     0.988600\n",
       "51                 6         4555     0.910382\n",
       "60                 8         3459     3.544838\n",
       "...              ...          ...          ...\n",
       "1456438       151921         4155     4.718974\n",
       "1456450       151922         3459     0.431921\n",
       "1456463       151923         3459     0.431921\n",
       "1456477       151925         4155     0.632043\n",
       "1456490       151926         4155     0.632043\n",
       "\n",
       "[112038 rows x 3 columns]"
      ]
     },
     "execution_count": 29,
     "metadata": {},
     "output_type": "execute_result"
    }
   ],
   "source": [
    "tp_for_weekend = meta_tp.loc[(meta_tp['Суббота']!='выходной')\n",
    "            &\n",
    "        (~meta_tp['Код БИСКВИТ'].isin(LIST_DEL_TP))]['Код БИСКВИТ'].to_list()\n",
    "distance_client_weekend = distance_client.loc[distance_client['Код БИСКВИТ'].isin(tp_for_weekend)]\n",
    "min_distance_client_weekend = distance_client.drop_duplicates(subset=['Ид. клиента'],keep='first')\n",
    "min_distance_client_weekend"
   ]
  },
  {
   "cell_type": "code",
   "execution_count": 30,
   "id": "d95ee5db",
   "metadata": {},
   "outputs": [
    {
     "data": {
      "text/plain": [
       "Ид. клиента\n",
       "3         2855\n",
       "4         3259\n",
       "5         2855\n",
       "6         4555\n",
       "8         3459\n",
       "          ... \n",
       "151921    4155\n",
       "151922    3459\n",
       "151923    3459\n",
       "151925    4155\n",
       "151926    4155\n",
       "Name: Код БИСКВИТ, Length: 112038, dtype: int64"
      ]
     },
     "execution_count": 30,
     "metadata": {},
     "output_type": "execute_result"
    }
   ],
   "source": [
    "client_mapping_weekend = min_distance_client.drop_duplicates('Ид. клиента').set_index('Ид. клиента')['Код БИСКВИТ']\n",
    "client_mapping_weekend"
   ]
  },
  {
   "cell_type": "markdown",
   "id": "d2f99f29",
   "metadata": {},
   "source": [
    "Проставим закрывающиеся офисы пропуском"
   ]
  },
  {
   "cell_type": "markdown",
   "id": "c642f0ee",
   "metadata": {},
   "source": [
    "Подсчитывать изменение клиентопотока будем в operations_tp_test_after\n",
    "Проставим пропуски там,где будут закрываться офисы"
   ]
  },
  {
   "cell_type": "code",
   "execution_count": 31,
   "id": "987fe9fd",
   "metadata": {},
   "outputs": [],
   "source": [
    "operations_tp_test_after = operations_tp.copy(deep=True)\n",
    "operations_tp_test_after['Код БИСКВИТ_оригинальный'] = operations_tp_test_after['Код БИСКВИТ']\n",
    "operations_tp_test_after.loc[operations_tp_test_after['Код БИСКВИТ'].isin(LIST_DEL_TP),'Код БИСКВИТ'] = np.nan"
   ]
  },
  {
   "cell_type": "markdown",
   "id": "2c0dd66c",
   "metadata": {},
   "source": [
    "Проставляем ближайший офис для будних и выходных дней на основании наименьшей удалённости от клиента."
   ]
  },
  {
   "cell_type": "code",
   "execution_count": 32,
   "id": "9fb56e39",
   "metadata": {},
   "outputs": [],
   "source": [
    "\n",
    "operations_tp_test_after['День недели посещения'] = pd.to_datetime(operations_tp_test_after['Дата начала операции']).dt.day_of_week+1\n",
    "mask_weekdays = operations_tp_test_after['День недели посещения'] != 6\n",
    "operations_tp_test_after.loc[mask_weekdays, 'Код БИСКВИТ'] = (\n",
    "    operations_tp_test_after.loc[mask_weekdays, 'Код БИСКВИТ']\n",
    "    .fillna(operations_tp_test_after['Ид. клиента'].map(client_mapping_weekday))\n",
    ")\n",
    "mask_weekend = operations_tp_test_after['День недели посещения'] == 6\n",
    "operations_tp_test_after.loc[mask_weekend, 'Код БИСКВИТ'] = (\n",
    "    operations_tp_test_after.loc[mask_weekend, 'Код БИСКВИТ']\n",
    "    .fillna(operations_tp_test_after['Ид. клиента'].map(client_mapping_weekend))\n",
    ")"
   ]
  },
  {
   "cell_type": "markdown",
   "id": "a3c69d8a",
   "metadata": {},
   "source": [
    "Не смогли заполнить офис для 4.7т клиента из 65 тыс. У этих клиентов нет POS- или ATM-транзакций."
   ]
  },
  {
   "cell_type": "code",
   "execution_count": 33,
   "id": "820d255a",
   "metadata": {},
   "outputs": [
    {
     "data": {
      "text/plain": [
       "4781"
      ]
     },
     "execution_count": 33,
     "metadata": {},
     "output_type": "execute_result"
    }
   ],
   "source": [
    "operations_tp_test_after.loc[operations_tp_test_after[KEY_TP].isna()][KEY_CLIENT].nunique()"
   ]
  },
  {
   "cell_type": "markdown",
   "id": "8d8f6185",
   "metadata": {},
   "source": [
    "Для оставшихся клиентов применим следующее решение.  \n",
    "Смотрим по каждому клиенту, в какие офисы он ходил.  \n",
    "Если офис закрывается, тогда берём следующий офис, в который клиент уже ходил (он ему знаком).  \n",
    "На примере: у клиента №2 закрывается 755-й офис, тогда мы предполагаем, что в таком случае он пойдёт в 2855-й.  "
   ]
  },
  {
   "cell_type": "code",
   "execution_count": 34,
   "id": "8fa3bbde",
   "metadata": {},
   "outputs": [
    {
     "data": {
      "text/html": [
       "<div>\n",
       "<style scoped>\n",
       "    .dataframe tbody tr th:only-of-type {\n",
       "        vertical-align: middle;\n",
       "    }\n",
       "\n",
       "    .dataframe tbody tr th {\n",
       "        vertical-align: top;\n",
       "    }\n",
       "\n",
       "    .dataframe thead th {\n",
       "        text-align: right;\n",
       "    }\n",
       "</style>\n",
       "<table border=\"1\" class=\"dataframe\">\n",
       "  <thead>\n",
       "    <tr style=\"text-align: right;\">\n",
       "      <th></th>\n",
       "      <th>Ид. клиента</th>\n",
       "      <th>Код БИСКВИТ</th>\n",
       "      <th>Количество операций</th>\n",
       "      <th>Доля, %</th>\n",
       "    </tr>\n",
       "  </thead>\n",
       "  <tbody>\n",
       "    <tr>\n",
       "      <th>0</th>\n",
       "      <td>2</td>\n",
       "      <td>755</td>\n",
       "      <td>9</td>\n",
       "      <td>64.285714</td>\n",
       "    </tr>\n",
       "    <tr>\n",
       "      <th>1</th>\n",
       "      <td>2</td>\n",
       "      <td>2855</td>\n",
       "      <td>5</td>\n",
       "      <td>35.714286</td>\n",
       "    </tr>\n",
       "  </tbody>\n",
       "</table>\n",
       "</div>"
      ],
      "text/plain": [
       "   Ид. клиента  Код БИСКВИТ  Количество операций    Доля, %\n",
       "0            2          755                    9  64.285714\n",
       "1            2         2855                    5  35.714286"
      ]
     },
     "execution_count": 34,
     "metadata": {},
     "output_type": "execute_result"
    }
   ],
   "source": [
    "collaborative_approach = operations_tp.groupby(['Ид. клиента','Код БИСКВИТ'])['Дата начала операции'].count().reset_index()\n",
    "collaborative_approach = collaborative_approach.rename(columns={'Дата начала операции': 'Количество операций'})\n",
    "collaborative_approach['Доля, %'] = (\n",
    "    collaborative_approach['Количество операций'] / \n",
    "    collaborative_approach.groupby('Ид. клиента')['Количество операций'].transform('sum')\n",
    ") * 100\n",
    "collaborative_approach.loc[collaborative_approach[KEY_CLIENT]==2]\n"
   ]
  },
  {
   "cell_type": "markdown",
   "id": "64ca4ee4",
   "metadata": {},
   "source": [
    "Произведём подстановку.\n",
    "Создадим маппинг «клиент — его уже знакомый офис» (не включая закрываемого)."
   ]
  },
  {
   "cell_type": "code",
   "execution_count": 35,
   "id": "a671d83d",
   "metadata": {},
   "outputs": [
    {
     "data": {
      "text/plain": [
       "Ид. клиента\n",
       "151928    3259\n",
       "151927    3459\n",
       "151923    3459\n",
       "151922    3459\n",
       "151921    4255\n",
       "          ... \n",
       "18        4455\n",
       "17        4455\n",
       "14        3459\n",
       "13        2855\n",
       "2         2855\n",
       "Name: Код БИСКВИТ, Length: 51528, dtype: int64"
      ]
     },
     "execution_count": 35,
     "metadata": {},
     "output_type": "execute_result"
    }
   ],
   "source": [
    "collaborative_approach = collaborative_approach.loc[(~collaborative_approach[KEY_TP].isin(LIST_DEL_TP))]#НЕ учитываем закрывающиеся офисы\n",
    "collaborative_approach = collaborative_approach.sort_values(by=[KEY_CLIENT,KEY_TP],ascending=False)#Сортируем по кол-ву посещений\n",
    "collaborative_approach_mapping = collaborative_approach.drop_duplicates(subset=['Ид. клиента'],keep='first').set_index('Ид. клиента')['Код БИСКВИТ']#берем топ 1\n",
    "collaborative_approach_mapping"
   ]
  },
  {
   "cell_type": "markdown",
   "id": "f0057e27",
   "metadata": {},
   "source": [
    "Заполняем пропуск"
   ]
  },
  {
   "cell_type": "code",
   "execution_count": 36,
   "id": "bb825b80",
   "metadata": {},
   "outputs": [],
   "source": [
    "operations_tp_test_after['Код БИСКВИТ'] = (\n",
    "    operations_tp_test_after['Код БИСКВИТ']\n",
    "    .fillna(operations_tp_test_after['Ид. клиента'].map(collaborative_approach_mapping)))"
   ]
  },
  {
   "cell_type": "markdown",
   "id": "71df8e2e",
   "metadata": {},
   "source": [
    "Заполнили 700 клиентов,4к все еще без оценки изменения посещений"
   ]
  },
  {
   "cell_type": "code",
   "execution_count": 37,
   "id": "ce518847",
   "metadata": {},
   "outputs": [
    {
     "data": {
      "text/plain": [
       "4058"
      ]
     },
     "execution_count": 37,
     "metadata": {},
     "output_type": "execute_result"
    }
   ],
   "source": [
    "operations_tp_test_after.loc[operations_tp_test_after[KEY_TP].isna()][KEY_CLIENT].nunique()"
   ]
  },
  {
   "cell_type": "markdown",
   "id": "c3f19cab",
   "metadata": {},
   "source": [
    "У нас 4 тыс. клиентов не имеют POS-транзакций, ATM-транзакций и не посещали незакрываемые офисы.  \n",
    "Для них выполним оценку следующим образом:  \n",
    "Если клиент посещал только закрываемый офис, рассчитаем расстояние от этого офиса до других офисов  \n",
    "и предположим, что клиент пошел бы в ближайший к закрываемому офису.  "
   ]
  },
  {
   "cell_type": "code",
   "execution_count": 38,
   "id": "a1a8f5ef",
   "metadata": {},
   "outputs": [],
   "source": [
    "meta_tp = pd.read_excel('/Users/andrejbatutin/DS/VTB/Лучший_УС_Краснодар_Справочник_ТП.xlsx')\n",
    "meta_tp = meta_tp[['Код БИСКВИТ', 'Широта', 'Долгота']]\n",
    "meta_tp = meta_tp.merge(meta_tp,how='cross')#Все со всеми\n",
    "meta_tp = meta_tp.rename(columns={'Код БИСКВИТ_x':'Код БИСКВИТ_ЛЕВ', 'Широта_x':'Широта_ЛЕВ', 'Долгота_x':'Долгота_ЛЕВ',\n",
    "                         'Код БИСКВИТ_y':'БИСКВИТ_ПРАВ', 'Широта_y':'Широта_ПРАВ','Долгота_y':'Долгота_ПРАВ'})\n",
    "meta_tp[\"distance_km\"] = haversine(\n",
    "    meta_tp[\"Широта_ЛЕВ\"], meta_tp[\"Долгота_ЛЕВ\"],\n",
    "    meta_tp[\"Широта_ПРАВ\"], meta_tp[\"Долгота_ПРАВ\"]\n",
    ")#Считаем удаления все от всех\n"
   ]
  },
  {
   "cell_type": "markdown",
   "id": "89ad02ca",
   "metadata": {},
   "source": [
    "Произведем преобразования"
   ]
  },
  {
   "cell_type": "code",
   "execution_count": 39,
   "id": "9778ad0b",
   "metadata": {},
   "outputs": [
    {
     "data": {
      "text/html": [
       "<div>\n",
       "<style scoped>\n",
       "    .dataframe tbody tr th:only-of-type {\n",
       "        vertical-align: middle;\n",
       "    }\n",
       "\n",
       "    .dataframe tbody tr th {\n",
       "        vertical-align: top;\n",
       "    }\n",
       "\n",
       "    .dataframe thead th {\n",
       "        text-align: right;\n",
       "    }\n",
       "</style>\n",
       "<table border=\"1\" class=\"dataframe\">\n",
       "  <thead>\n",
       "    <tr style=\"text-align: right;\">\n",
       "      <th></th>\n",
       "      <th>Код БИСКВИТ_ЛЕВ</th>\n",
       "      <th>Широта_ЛЕВ</th>\n",
       "      <th>Долгота_ЛЕВ</th>\n",
       "      <th>БИСКВИТ_ПРАВ</th>\n",
       "      <th>Широта_ПРАВ</th>\n",
       "      <th>Долгота_ПРАВ</th>\n",
       "      <th>distance_km</th>\n",
       "    </tr>\n",
       "  </thead>\n",
       "  <tbody>\n",
       "    <tr>\n",
       "      <th>11</th>\n",
       "      <td>55</td>\n",
       "      <td>45.027667</td>\n",
       "      <td>38.967156</td>\n",
       "      <td>4455</td>\n",
       "      <td>45.031821</td>\n",
       "      <td>38.973175</td>\n",
       "      <td>0.661129</td>\n",
       "    </tr>\n",
       "    <tr>\n",
       "      <th>20</th>\n",
       "      <td>755</td>\n",
       "      <td>45.021099</td>\n",
       "      <td>39.018414</td>\n",
       "      <td>3259</td>\n",
       "      <td>45.031343</td>\n",
       "      <td>39.044070</td>\n",
       "      <td>2.315829</td>\n",
       "    </tr>\n",
       "    <tr>\n",
       "      <th>32</th>\n",
       "      <td>1455</td>\n",
       "      <td>45.038337</td>\n",
       "      <td>38.989408</td>\n",
       "      <td>2855</td>\n",
       "      <td>45.047609</td>\n",
       "      <td>38.977712</td>\n",
       "      <td>1.381082</td>\n",
       "    </tr>\n",
       "    <tr>\n",
       "      <th>50</th>\n",
       "      <td>1855</td>\n",
       "      <td>45.019729</td>\n",
       "      <td>38.984611</td>\n",
       "      <td>4455</td>\n",
       "      <td>45.031821</td>\n",
       "      <td>38.973175</td>\n",
       "      <td>1.617298</td>\n",
       "    </tr>\n",
       "    <tr>\n",
       "      <th>61</th>\n",
       "      <td>1955</td>\n",
       "      <td>45.019850</td>\n",
       "      <td>38.969070</td>\n",
       "      <td>4155</td>\n",
       "      <td>45.018047</td>\n",
       "      <td>38.964111</td>\n",
       "      <td>0.438318</td>\n",
       "    </tr>\n",
       "  </tbody>\n",
       "</table>\n",
       "</div>"
      ],
      "text/plain": [
       "    Код БИСКВИТ_ЛЕВ  Широта_ЛЕВ  Долгота_ЛЕВ  БИСКВИТ_ПРАВ  Широта_ПРАВ  \\\n",
       "11               55   45.027667    38.967156          4455    45.031821   \n",
       "20              755   45.021099    39.018414          3259    45.031343   \n",
       "32             1455   45.038337    38.989408          2855    45.047609   \n",
       "50             1855   45.019729    38.984611          4455    45.031821   \n",
       "61             1955   45.019850    38.969070          4155    45.018047   \n",
       "\n",
       "    Долгота_ПРАВ  distance_km  \n",
       "11     38.973175     0.661129  \n",
       "20     39.044070     2.315829  \n",
       "32     38.977712     1.381082  \n",
       "50     38.973175     1.617298  \n",
       "61     38.964111     0.438318  "
      ]
     },
     "execution_count": 39,
     "metadata": {},
     "output_type": "execute_result"
    }
   ],
   "source": [
    "meta_tp = meta_tp.loc[meta_tp['Код БИСКВИТ_ЛЕВ']!=meta_tp['БИСКВИТ_ПРАВ']]#удаляем пары сравнения офис сам с собой\n",
    "meta_tp = meta_tp.sort_values(['Код БИСКВИТ_ЛЕВ','distance_km'])#Сортируем по удаленности\n",
    "meta_tp = meta_tp.loc[meta_tp['distance_km']!=0] #3459 и 55 в одном здании,у них дистанция 0\n",
    "meta_tp = meta_tp.loc[~meta_tp['БИСКВИТ_ПРАВ'].isin(LIST_DEL_TP)]#исключаем в нашей оценке куда пойдет клиент офисы,которые закроются\n",
    "meta_tp = meta_tp.drop_duplicates('Код БИСКВИТ_ЛЕВ',keep='first')#оставляем ближайшие офисы от закрываемых\n",
    "meta_tp.head()"
   ]
  },
  {
   "cell_type": "markdown",
   "id": "97b97f64",
   "metadata": {},
   "source": [
    "Получаем маппинг ближайший офис от закрываемого до незакрываемого.  \n",
    "Подставим"
   ]
  },
  {
   "cell_type": "code",
   "execution_count": 40,
   "id": "f9484390",
   "metadata": {},
   "outputs": [
    {
     "data": {
      "text/plain": [
       "Код БИСКВИТ_ЛЕВ\n",
       "55      4455\n",
       "755     3259\n",
       "1455    2855\n",
       "1855    4455\n",
       "1955    4155\n",
       "2055    4255\n",
       "2855    4255\n",
       "3259    4555\n",
       "3459    4455\n",
       "4155    3459\n",
       "4255    2855\n",
       "4455    3459\n",
       "4555    3259\n",
       "Name: БИСКВИТ_ПРАВ, dtype: int64"
      ]
     },
     "execution_count": 40,
     "metadata": {},
     "output_type": "execute_result"
    }
   ],
   "source": [
    "mapping_nearest_tp = meta_tp.set_index('Код БИСКВИТ_ЛЕВ')['БИСКВИТ_ПРАВ']#Ближайший к закрываемому\n",
    "mapping_nearest_tp"
   ]
  },
  {
   "cell_type": "markdown",
   "id": "701aef9f",
   "metadata": {},
   "source": [
    "Поставим оценку изменения офиса для таких клиентов"
   ]
  },
  {
   "cell_type": "code",
   "execution_count": 41,
   "id": "794823c3",
   "metadata": {},
   "outputs": [],
   "source": [
    "operations_tp_test_after['Код БИСКВИТ'] = (\n",
    "    operations_tp_test_after['Код БИСКВИТ']\n",
    "    .fillna(operations_tp_test_after['Код БИСКВИТ_оригинальный'].map(mapping_nearest_tp)))\n",
    "operations_tp_test_after['Код БИСКВИТ'] = operations_tp_test_after['Код БИСКВИТ'].astype(int)"
   ]
  },
  {
   "cell_type": "code",
   "execution_count": 42,
   "id": "cb00e9c5",
   "metadata": {},
   "outputs": [
    {
     "data": {
      "text/plain": [
       "Ид. клиента                 0\n",
       "Код БИСКВИТ                 0\n",
       "Дата начала операции        0\n",
       "Время начала операции       0\n",
       "Час посещения               0\n",
       "День недели посещения       0\n",
       "Месяц посещения             0\n",
       "Код БИСКВИТ_оригинальный    0\n",
       "dtype: int64"
      ]
     },
     "execution_count": 42,
     "metadata": {},
     "output_type": "execute_result"
    }
   ],
   "source": [
    "operations_tp_test_after.isna().sum()"
   ]
  },
  {
   "cell_type": "markdown",
   "id": "bcc783fb",
   "metadata": {},
   "source": [
    "# Проведем оценку изменения распределение клиентопотока среди офисов,если закроются 4"
   ]
  },
  {
   "cell_type": "code",
   "execution_count": 43,
   "id": "db0a0583",
   "metadata": {},
   "outputs": [
    {
     "data": {
      "image/png": "[encoded data removed]",
      "text/plain": [
       "<Figure size 640x480 with 1 Axes>"
      ]
     },
     "metadata": {},
     "output_type": "display_data"
    }
   ],
   "source": [
    "before_close = operations_tp_test_after.groupby('Код БИСКВИТ_оригинальный')[\"Код БИСКВИТ_оригинальный\"].count().sort_values()\n",
    "after_close = operations_tp_test_after.groupby('Код БИСКВИТ')['Код БИСКВИТ'].count().sort_values()\n",
    "\n",
    "final_stats = pd.concat([before_close, after_close], axis=1)\n",
    "final_stats = final_stats.rename(columns={'Код БИСКВИТ_оригинальный':'Распределение потока по офисам до закрытия',\n",
    "                    'Код БИСКВИТ':'Распределение потока по офисам после закрытия'})\n",
    "final_stats.plot(kind='barh')\n",
    "plt.title('Разница распределения посещений офисов при закрытии офисов')\n",
    "plt.xlabel('Кол-во посещений')\n",
    "plt.ylabel('Номер офиса')\n",
    "plt.show()\n",
    "\n",
    "\n",
    "\n"
   ]
  },
  {
   "cell_type": "markdown",
   "id": "5bf083e7",
   "metadata": {},
   "source": [
    "Выводы:  \n",
    "Мы провели работу по геоаналитике и промоделировали, как изменится распределение клиентопотока, если закроются 4 офиса , используя оценку расстояний клиентов от офисов по формуле гаверсинусов.\n",
    "\n",
    "Видим, что наибольший объём потока из 755-го офиса возьмёт на себя 3259-й, а остальные офисы распределят клиентопоток между собой по остаточному принципу достаточно равномерно,не вызвав сильную перегрузку в нескольких отделениях.\n",
    "Подход имеет хорошую бизнесовую интерпретацию."
   ]
  }
 ],
 "metadata": {
  "kernelspec": {
   "display_name": "mac_venv",
   "language": "python",
   "name": "python3"
  },
  "language_info": {
   "codemirror_mode": {
    "name": "ipython",
    "version": 3
   },
   "file_extension": ".py",
   "mimetype": "text/x-python",
   "name": "python",
   "nbconvert_exporter": "python",
   "pygments_lexer": "ipython3",
   "version": "3.12.7"
  }
 },
 "nbformat": 4,
 "nbformat_minor": 5
}
